{
 "metadata": {
  "name": "Recursion"
 },
 "nbformat": 3,
 "nbformat_minor": 0,
 "worksheets": [
  {
   "cells": [
    {
     "cell_type": "code",
     "collapsed": false,
     "input": [
      "%install_ext https://raw.github.com/tkf/ipython-hierarchymagic/master/hierarchymagic.py\n",
      "%load_ext hierarchymagic"
     ],
     "language": "python",
     "metadata": {
      "slideshow": {
       "slide_start": false,
       "slide_type": "skip"
      }
     },
     "outputs": [
      {
       "output_type": "stream",
       "stream": "stdout",
       "text": [
        "Installed hierarchymagic.py. To use it, type:\n",
        "  %load_ext hierarchymagic\n",
        "The hierarchymagic extension is already loaded. To reload it, use:\n",
        "  %reload_ext hierarchymagic\n"
       ]
      }
     ],
     "prompt_number": 34
    },
    {
     "cell_type": "raw",
     "metadata": {
      "slideshow": {
       "slide_type": "skip"
      }
     },
     "source": [
      "<style type=\"text/css\">\n",
      "ol { list-style-type: upper-alpha; }\n",
      "reveal.p {\n",
      "    font-size: 35px;\n",
      "    font-weight: bold;\n",
      "}\n",
      "reveal div.prompt {\n",
      "    display: none;\n",
      "}\n",
      "reveal div.input_prompt {\n",
      "    display: none;\n",
      "}\n",
      "html, body, .reveal div, .reveal span, .reveal applet, .reveal object, .reveal iframe, .reveal h1, .reveal h2, .reveal h3, .reveal h4, .reveal h5, .reveal h6, .reveal p, .reveal blockquote, .reveal pre, .reveal a, .reveal abbr, .reveal acronym, .reveal address, .reveal big, .reveal cite, .reveal code, .reveal del, .reveal dfn, .reveal em, .reveal img, .reveal ins, .reveal kbd, .reveal q, .reveal s, .reveal samp, .reveal small, .reveal strike, .reveal strong, .reveal sub, .reveal sup, .reveal tt, .reveal var, .reveal b, .reveal u, .reveal i, .reveal center, .reveal dl, .reveal dt, .reveal dd, .reveal ol, .reveal ul, .reveal li, .reveal fieldset, .reveal form, .reveal label, .reveal legend, .reveal table, .reveal caption, .reveal tbody, .reveal tfoot, .reveal thead, .reveal tr, .reveal th, .reveal td, .reveal article, .reveal aside, .reveal canvas, .reveal details, .reveal embed, .reveal figure, .reveal figcaption, .reveal footer, .reveal header, .reveal hgroup, .reveal menu, .reveal nav, .reveal output, .reveal ruby, .reveal section, .reveal summary, .reveal time, .reveal mark, .reveal audio, video {\n",
      "    font-size: 35px;\n",
      "}\n",
      "*{-webkit-text-size-adjust:auto !important; -ms-text-size-adjust: auto !important;}\n",
      "reveal {\n",
      "    font-size: 35px;\n",
      "    font-weight: bold;\n",
      "}\n",
      "reveal body {\n",
      "    font-size: 35px;\n",
      "    font-weight: bold;\n",
      "}\n",
      "div.reveal {\n",
      "    overflow-y: auto;\n",
      "    overflow-x: hidden;\n",
      "}\n",
      "div.addthis_toolbox {\n",
      "    visibility: hidden;\n",
      "}\n",
      ".cm-s-ipython { background-color: black; color: lightblue; }\n",
      ".cm-s-ipython span.cm-keyword {color: #00ff00; font-weight: bold;}\n",
      ".cm-s-ipython span.cm-number {color: #ee88ee;}\n",
      ".cm-s-ipython span.cm-operator {color: lime; font-weight: bold;}\n",
      ".cm-s-ipython span.cm-meta {color: white;}\n",
      ".cm-s-ipython span.cm-comment {color: cyan; font-style: italic;}\n",
      ".cm-s-ipython span.cm-string {color: red;}\n",
      ".cm-s-ipython span.cm-error {color: darkred;}\n",
      ".cm-s-ipython span.cm-builtin {color: pink; font-weight: bold;}\n",
      ".CodeMirror pre.CodeMirror-cursor {color: white; border-left: 1px solid white;}\n",
      ".cm-s-ipython span.cm-variable {color: white;}\n",
      "div.text_cell_input  {   background-color: black;    color: white;}\n",
      "div.text_cell {   background-color: black;    color: white;}\n",
      "div#notebook {    background-color: black;     background-image: none;     color: white;}\n",
      "div.code_cell { background-color: black;    color: white;}\n",
      "div.metaedit .maintoolbar{    background-color: black;    color: white;}\n",
      "body{    background-color: black;    color: white;}\n",
      "#notebook_name {  background-color: #333333;    color: white; background-image:none;}\n",
      "span.ui-widget-content{  background-color: #333333;    color: white; background-image:none;}\n",
      "div.ui-widget-content{  background-color: #333333;    color: white; background-image:none;}\n",
      "div#ui-button ui-widget ui-state-default ui-corner-all ui-button-text-only output_collapsed vbox{  \n",
      "  background-color: black;    color: white;}\n",
      "div.input_area{    background-color: black;    color: white;}\n",
      "div.ui-widget-content { background-color: #333333; background-image: none;}\n",
      "div.input_prompt {color:#6666CC; font-weight: bold;}\n",
      "div.output_prompt {color:#CC6666; font-weight: bold;}\n",
      "div.output_text {color:white;}\n",
      "div.text_cell_render {color:white;}\n",
      ".pln {color:white} \n",
      ".typ {color:#f9f}\n",
      ".lit {color:#BBB}\n",
      ".kwd {color:#3e3}\n",
      ".metaedit {background: transparent; border-color: transparent; color:white;}\n",
      ".ui-button-text {background: #112; color:white; border-color:666;}\n",
      ".ui-menubar  {background-color: transparent; background: transparent; background-image:none;}\n",
      ".ui-widget-header  {background-color: transparent; background: transparent; background-image:none;}\n",
      ".ui-helper-clearfix {background-color: transparent; background: transparent; background-image:none;}\n",
      ".ui-corner-all {background: #112; color: white;}\n",
      ".ui-widget  {background: #112; color: white;}\n",
      ".ui-widget-content {background: #112; color: white;}\n",
      ".reveal h1, .reveal h2, .reveal h3, .reveal h4, .reveal h5, .reveal h6 {color:white;}\n",
      "div.output_area pre {color:white;}\n",
      ".highlight {background-color: #222; color:white;}\n",
      "</style>"
     ]
    },
    {
     "cell_type": "markdown",
     "metadata": {
      "slideshow": {
       "slide_start": false,
       "slide_type": "slide"
      }
     },
     "source": [
      "Recursion\n",
      "=========\n",
      "\n",
      "The next big programming topic is called *recursion*.\n",
      "\n",
      "*Recursion*\n",
      "-----------\n",
      "The next little programming topic is called recursion.\n"
     ]
    },
    {
     "cell_type": "markdown",
     "metadata": {
      "slideshow": {
       "slide_type": "slide"
      }
     },
     "source": [
      "<img src=\"http://i.qkme.me/35tnta.jpg\">"
     ]
    },
    {
     "cell_type": "markdown",
     "metadata": {
      "slideshow": {
       "slide_type": "slide"
      }
     },
     "source": [
      "For better or worse, you must visit <a href=\"http://en.wikipedia.org/wiki/Recursion#Recursive_humor\">the wiki page on recursion</a>\n",
      "\n",
      "Recursion is when a function calls itself.  But, a recursive function *must* have an \"end condition\" to avoid an infinite loop.\n",
      "If you try to make an infinite loop, you will get a \"stack overflow\" (python will give you an error).  IDL will just loop indefinitely and fail miserably."
     ]
    },
    {
     "cell_type": "code",
     "collapsed": false,
     "input": [
      "def fail(x):\n",
      "    \"\"\" an infinite recursion. Will fail \"\"\"\n",
      "    return fail(x)\n",
      "# WARNING: this will definitely fail, but it may take a long time! \n",
      "# print fail(1)"
     ],
     "language": "python",
     "metadata": {
      "slideshow": {
       "slide_start": false,
       "slide_type": "slide"
      }
     },
     "outputs": [],
     "prompt_number": 35
    },
    {
     "cell_type": "markdown",
     "metadata": {
      "slideshow": {
       "slide_type": "slide"
      }
     },
     "source": [
      "Let's start with a simple example that shows how recursion works.\n",
      "\n",
      "The factorial function is often written like $5!$, which means $5\\cdot 4\\cdot 3\\cdot 2\\cdot 1$, which comes out to 120.\n",
      "\n",
      "There's one easy way to write it:\n",
      "\n",
      "    function factorial,x\n",
      "        return,product(findgen(x)+1)\n",
      "    end\n",
      "    \n",
      "This simply makes an array `findgen(x)+1`, which in the case $x=5$, is `[1,2,3,4,5]`.  Simple, and it works."
     ]
    },
    {
     "cell_type": "markdown",
     "metadata": {
      "slideshow": {
       "slide_type": "slide"
      }
     },
     "source": [
      "The recursive approach is a little more different, and a little more intellectually challenging.\n",
      "\n",
      "The factorial algorithm looks something like:\n",
      "    $f(x) = f(x-1)*x$\n",
      "    \n",
      "That means to evaluate `f(x)`, you need to evaluate `f(x-1)`.  \n",
      "\n",
      "That means to evaluate `f(x-1)`, you need to evaluate `f(x-2)`.  When does it end?"
     ]
    },
    {
     "cell_type": "markdown",
     "metadata": {
      "slideshow": {
       "slide_type": "slide"
      }
     },
     "source": [
      "$f(x) = f(x-1)*x$\n",
      "\n",
      "Think of this with the number 5: what happens when you get to `f(x-5) = f(0)`?  \n",
      "    \n",
      "If you followed the formula to this point, you'd now have `f(something)*0`, which means the answer would *always* be zero.  Clearly, that's not what we want."
     ]
    },
    {
     "cell_type": "markdown",
     "metadata": {
      "slideshow": {
       "slide_type": "slide"
      }
     },
     "source": [
      "Let's define our factorial function as we have it so far:\n",
      "\n",
      "    function factorial,x\n",
      "        return,factorial(x-1) * x\n",
      "    end\n",
      "    \n",
      "This is the *recursive* version: the function calls itself.  However, as we have it written here, it will cause infinite recursion (bad!)"
     ]
    },
    {
     "cell_type": "markdown",
     "metadata": {
      "slideshow": {
       "slide_type": "slide"
      }
     },
     "source": [
      "<img src=\"files/images/blueclicker.png\" width=200 style='float: left;'>\n",
      "<style type=\"text/css\">\n",
      "    ol { list-style-type: upper-alpha !important; }\n",
      "</style>\n",
      "\n",
      "What \"end condition\" should we use for the factorial function?\n",
      "\n",
      "\n",
      "1. If x eq 1 then return,1 \n",
      "2. If x eq 0 then return,1\n",
      "3. If x eq 0 then return,0\n",
      "4. If x eq 1 or x eq 0 then return,1\n",
      "5. None of the above"
     ]
    },
    {
     "cell_type": "markdown",
     "metadata": {
      "slideshow": {
       "slide_type": "notes"
      }
     },
     "source": [
      "D, but A is also acceptable."
     ]
    },
    {
     "cell_type": "markdown",
     "metadata": {
      "slideshow": {
       "slide_type": "slide"
      }
     },
     "source": [
      "Technically, the correct answer was `If x eq 1 or x eq 0, return 1`, because `factorial(0)` is defined to be 1, but `If x=1, return 1` will work just fine in general.\n",
      "\n",
      "So let's add this to our code:\n",
      "\n",
      "    function factorial,x\n",
      "        if x leq 1 then return,1\n",
      "        return,factorial(x-1) * x\n",
      "    end"
     ]
    },
    {
     "cell_type": "markdown",
     "metadata": {
      "slideshow": {
       "slide_type": "slide"
      }
     },
     "source": [
      "Note that this is just a `clever trick' that does the same thing as the more verbose version:\n",
      "\n",
      "    function factorial,x\n",
      "        if x leq 1 then begin\n",
      "            return,1\n",
      "        endif else begin\n",
      "            return,factorial(x-1) * x\n",
      "        endelse\n",
      "    end\n",
      "    \n",
      "Since the function stops after the first `return` statement, it's OK for us to use the shorter version."
     ]
    },
    {
     "cell_type": "code",
     "collapsed": false,
     "input": [
      "#HTML(\"<style type='text/css'> pre {display: none;} </style>\")\n",
      "%%dot --format svg -- \n",
      "digraph G { \n",
      "    f5 [label=\"f(5)\"];    f4 [label=\"f(4)\"];    f3 [label=\"f(3)\"];    f2 [label=\"f(2)\"];    f1 [label=\"f(1) -> end\"];\n",
      "    f5->f4;    f4->f3;    f3->f2;    f2->f1;\n",
      "}"
     ],
     "language": "python",
     "metadata": {
      "slideshow": {
       "slide_type": "slide"
      }
     },
     "outputs": [
      {
       "output_type": "display_data",
       "svg": [
        "<?xml version=\"1.0\" encoding=\"UTF-8\" standalone=\"no\"?>\n",
        "<!DOCTYPE svg PUBLIC \"-//W3C//DTD SVG 1.1//EN\"\n",
        " \"http://www.w3.org/Graphics/SVG/1.1/DTD/svg11.dtd\">\n",
        "<!-- Generated by graphviz version 2.28.0 (20121121.2234)\n",
        " -->\n",
        "<!-- Title: G Pages: 1 -->\n",
        "<svg width=\"112pt\" height=\"332pt\"\n",
        " viewBox=\"0.00 0.00 112.00 332.00\" xmlns=\"http://www.w3.org/2000/svg\" xmlns:xlink=\"http://www.w3.org/1999/xlink\">\n",
        "<g id=\"graph1\" class=\"graph\" transform=\"scale(1 1) rotate(0) translate(4 328)\">\n",
        "<title>G</title>\n",
        "<polygon fill=\"white\" stroke=\"white\" points=\"-4,5 -4,-328 109,-328 109,5 -4,5\"/>\n",
        "<!-- f5 -->\n",
        "<g id=\"node1\" class=\"node\"><title>f5</title>\n",
        "<ellipse fill=\"none\" stroke=\"black\" cx=\"52\" cy=\"-306\" rx=\"27\" ry=\"18\"/>\n",
        "<text text-anchor=\"middle\" x=\"52\" y=\"-300.4\" font-family=\"Times,serif\" font-size=\"14.00\">f(5)</text>\n",
        "</g>\n",
        "<!-- f4 -->\n",
        "<g id=\"node2\" class=\"node\"><title>f4</title>\n",
        "<ellipse fill=\"none\" stroke=\"black\" cx=\"52\" cy=\"-234\" rx=\"27\" ry=\"18\"/>\n",
        "<text text-anchor=\"middle\" x=\"52\" y=\"-228.4\" font-family=\"Times,serif\" font-size=\"14.00\">f(4)</text>\n",
        "</g>\n",
        "<!-- f5&#45;&gt;f4 -->\n",
        "<g id=\"edge2\" class=\"edge\"><title>f5&#45;&gt;f4</title>\n",
        "<path fill=\"none\" stroke=\"black\" d=\"M52,-287.697C52,-279.983 52,-270.712 52,-262.112\"/>\n",
        "<polygon fill=\"black\" stroke=\"black\" points=\"55.5001,-262.104 52,-252.104 48.5001,-262.104 55.5001,-262.104\"/>\n",
        "</g>\n",
        "<!-- f3 -->\n",
        "<g id=\"node3\" class=\"node\"><title>f3</title>\n",
        "<ellipse fill=\"none\" stroke=\"black\" cx=\"52\" cy=\"-162\" rx=\"27\" ry=\"18\"/>\n",
        "<text text-anchor=\"middle\" x=\"52\" y=\"-156.4\" font-family=\"Times,serif\" font-size=\"14.00\">f(3)</text>\n",
        "</g>\n",
        "<!-- f4&#45;&gt;f3 -->\n",
        "<g id=\"edge4\" class=\"edge\"><title>f4&#45;&gt;f3</title>\n",
        "<path fill=\"none\" stroke=\"black\" d=\"M52,-215.697C52,-207.983 52,-198.712 52,-190.112\"/>\n",
        "<polygon fill=\"black\" stroke=\"black\" points=\"55.5001,-190.104 52,-180.104 48.5001,-190.104 55.5001,-190.104\"/>\n",
        "</g>\n",
        "<!-- f2 -->\n",
        "<g id=\"node4\" class=\"node\"><title>f2</title>\n",
        "<ellipse fill=\"none\" stroke=\"black\" cx=\"52\" cy=\"-90\" rx=\"27\" ry=\"18\"/>\n",
        "<text text-anchor=\"middle\" x=\"52\" y=\"-84.4\" font-family=\"Times,serif\" font-size=\"14.00\">f(2)</text>\n",
        "</g>\n",
        "<!-- f3&#45;&gt;f2 -->\n",
        "<g id=\"edge6\" class=\"edge\"><title>f3&#45;&gt;f2</title>\n",
        "<path fill=\"none\" stroke=\"black\" d=\"M52,-143.697C52,-135.983 52,-126.712 52,-118.112\"/>\n",
        "<polygon fill=\"black\" stroke=\"black\" points=\"55.5001,-118.104 52,-108.104 48.5001,-118.104 55.5001,-118.104\"/>\n",
        "</g>\n",
        "<!-- f1 -->\n",
        "<g id=\"node5\" class=\"node\"><title>f1</title>\n",
        "<ellipse fill=\"none\" stroke=\"black\" cx=\"52\" cy=\"-18\" rx=\"52.4197\" ry=\"18\"/>\n",
        "<text text-anchor=\"middle\" x=\"52\" y=\"-12.4\" font-family=\"Times,serif\" font-size=\"14.00\">f(1) &#45;&gt; end</text>\n",
        "</g>\n",
        "<!-- f2&#45;&gt;f1 -->\n",
        "<g id=\"edge8\" class=\"edge\"><title>f2&#45;&gt;f1</title>\n",
        "<path fill=\"none\" stroke=\"black\" d=\"M52,-71.6966C52,-63.9827 52,-54.7125 52,-46.1124\"/>\n",
        "<polygon fill=\"black\" stroke=\"black\" points=\"55.5001,-46.1043 52,-36.1043 48.5001,-46.1044 55.5001,-46.1043\"/>\n",
        "</g>\n",
        "</g>\n",
        "</svg>\n"
       ]
      }
     ],
     "prompt_number": 36
    },
    {
     "cell_type": "markdown",
     "metadata": {},
     "source": [
      "Viewed another way, here's the sequence of calls: \n",
      "\n",
      "    ('|--', 'factorial', 5)\n",
      "    ('|  |--', 'factorial', 4)\n",
      "    ('|  |  |--', 'factorial', 3)\n",
      "    ('|  |  |  |--', 'factorial', 2)\n",
      "    ('|  |  |  |  |--', 'factorial', 1)\n",
      "    ('|  |  |  |  |  |--', 'factorial', 0)\n",
      "    ('|  |  |  |  |  |  |--', 'return', '1')\n",
      "    ('|  |  |  |  |  |--', 'return', '1')\n",
      "    ('|  |  |  |  |--', 'return', '2')\n",
      "    ('|  |  |  |--', 'return', '6')\n",
      "    ('|  |  |--', 'return', '24')\n",
      "    ('|  |--', 'return', '120')"
     ]
    },
    {
     "cell_type": "markdown",
     "metadata": {
      "slideshow": {
       "slide_start": false,
       "slide_type": "slide"
      }
     },
     "source": [
      "Recursion is a useful mathematical tool.  There are some problems that are best solved via recursion.  The most commonly used example is the fibonacci sequence:  \n",
      "0 1 1 2 3 5 8 13 21 ....  \n",
      "this sequence is defined by the recursive relation  \n",
      "$$F_n = F_{n-1} + F_{n-2}$$  \n",
      "or $$f(n) = f(n-1) + f(n-2)$$\n",
      "\n",
      "It has the base (or \"end\") conditions:\n",
      "$$f(0) = 0$$\n",
      "$$f(1) = 1$$"
     ]
    },
    {
     "cell_type": "markdown",
     "metadata": {
      "slideshow": {
       "slide_type": "slide"
      }
     },
     "source": [
      "To implement the Fibonnacci sequence, it will look a lot like the factorial.  We'll go out to the n'th number in the sequence\n",
      "    \n",
      "    function fibonacci,n\n",
      "        if n eq 0 then return,0\n",
      "        if n eq 1 then return,1\n",
      "        return,fibonacci(n-1)+fibonacci(n-2)\n",
      "    end"
     ]
    },
    {
     "cell_type": "code",
     "collapsed": false,
     "input": [
      "#HTML(\"<style type='text/css'> pre {display: none;} </style>\")\n",
      "%%dot --format svg -- \n",
      "digraph G { \n",
      "    f5 [label=\"f(5)\"];\n",
      "    Lf1 [label=\"f(1)\"];\n",
      "LLf0 [label=\"f(0)\"];\n",
      "Lf2 [label=\"f(2)\"];\n",
      "Lf3 [label=\"f(3)\"];\n",
      "RRf1  [label=\"f(1)\"];\n",
      "RRMf1 [label=\"f(1)\"];\n",
      "RRf0 [label=\"f(0)\"];\n",
      "LLf1 [label=\"f(1)\"];\n",
      "RMf0 [label=\"f(0)\"];\n",
      "RMf1 [label=\"f(1)\"];\n",
      "Rf2 [label=\"f(2)\"];\n",
      "RMf2 [label=\"f(2)\"];\n",
      "Rf3 [label=\"f(3)\"];\n",
      "Rf4 [label=\"f(4)\"];\n",
      "    f5->Lf3; f5->Rf4;  \n",
      "    Lf3->Lf2; Lf3->Lf1;\n",
      "    Rf4->Rf3; Rf4->Rf2;\n",
      "    Rf2->RRf1; Rf2->RRf0;\n",
      "    Lf2->LLf1; Lf2->LLf0;\n",
      "    Rf3->RMf2; Rf3->RMf1;\n",
      "    RMf2->RMf0; RMf2->RRMf1;\n",
      "}"
     ],
     "language": "python",
     "metadata": {
      "slideshow": {
       "slide_start": false,
       "slide_type": "subslide"
      }
     },
     "outputs": [
      {
       "output_type": "display_data",
       "svg": [
        "<?xml version=\"1.0\" encoding=\"UTF-8\" standalone=\"no\"?>\n",
        "<!DOCTYPE svg PUBLIC \"-//W3C//DTD SVG 1.1//EN\"\n",
        " \"http://www.w3.org/Graphics/SVG/1.1/DTD/svg11.dtd\">\n",
        "<!-- Generated by graphviz version 2.28.0 (20121121.2234)\n",
        " -->\n",
        "<!-- Title: G Pages: 1 -->\n",
        "<svg width=\"458pt\" height=\"332pt\"\n",
        " viewBox=\"0.00 0.00 458.00 332.00\" xmlns=\"http://www.w3.org/2000/svg\" xmlns:xlink=\"http://www.w3.org/1999/xlink\">\n",
        "<g id=\"graph1\" class=\"graph\" transform=\"scale(1 1) rotate(0) translate(4 328)\">\n",
        "<title>G</title>\n",
        "<polygon fill=\"white\" stroke=\"white\" points=\"-4,5 -4,-328 455,-328 455,5 -4,5\"/>\n",
        "<!-- f5 -->\n",
        "<g id=\"node1\" class=\"node\"><title>f5</title>\n",
        "<ellipse fill=\"none\" stroke=\"black\" cx=\"153\" cy=\"-306\" rx=\"27\" ry=\"18\"/>\n",
        "<text text-anchor=\"middle\" x=\"153\" y=\"-300.4\" font-family=\"Times,serif\" font-size=\"14.00\">f(5)</text>\n",
        "</g>\n",
        "<!-- Lf3 -->\n",
        "<g id=\"node5\" class=\"node\"><title>Lf3</title>\n",
        "<ellipse fill=\"none\" stroke=\"black\" cx=\"99\" cy=\"-234\" rx=\"27\" ry=\"18\"/>\n",
        "<text text-anchor=\"middle\" x=\"99\" y=\"-228.4\" font-family=\"Times,serif\" font-size=\"14.00\">f(3)</text>\n",
        "</g>\n",
        "<!-- f5&#45;&gt;Lf3 -->\n",
        "<g id=\"edge2\" class=\"edge\"><title>f5&#45;&gt;Lf3</title>\n",
        "<path fill=\"none\" stroke=\"black\" d=\"M141.016,-289.465C134.024,-280.402 125.064,-268.786 117.215,-258.612\"/>\n",
        "<polygon fill=\"black\" stroke=\"black\" points=\"119.83,-256.272 110.951,-250.492 114.288,-260.548 119.83,-256.272\"/>\n",
        "</g>\n",
        "<!-- Rf4 -->\n",
        "<g id=\"node15\" class=\"node\"><title>Rf4</title>\n",
        "<ellipse fill=\"none\" stroke=\"black\" cx=\"207\" cy=\"-234\" rx=\"27\" ry=\"18\"/>\n",
        "<text text-anchor=\"middle\" x=\"207\" y=\"-228.4\" font-family=\"Times,serif\" font-size=\"14.00\">f(4)</text>\n",
        "</g>\n",
        "<!-- f5&#45;&gt;Rf4 -->\n",
        "<g id=\"edge4\" class=\"edge\"><title>f5&#45;&gt;Rf4</title>\n",
        "<path fill=\"none\" stroke=\"black\" d=\"M164.984,-289.465C171.976,-280.402 180.936,-268.786 188.785,-258.612\"/>\n",
        "<polygon fill=\"black\" stroke=\"black\" points=\"191.712,-260.548 195.049,-250.492 186.17,-256.272 191.712,-260.548\"/>\n",
        "</g>\n",
        "<!-- Lf1 -->\n",
        "<g id=\"node2\" class=\"node\"><title>Lf1</title>\n",
        "<ellipse fill=\"none\" stroke=\"black\" cx=\"27\" cy=\"-162\" rx=\"27\" ry=\"18\"/>\n",
        "<text text-anchor=\"middle\" x=\"27\" y=\"-156.4\" font-family=\"Times,serif\" font-size=\"14.00\">f(1)</text>\n",
        "</g>\n",
        "<!-- LLf0 -->\n",
        "<g id=\"node3\" class=\"node\"><title>LLf0</title>\n",
        "<ellipse fill=\"none\" stroke=\"black\" cx=\"27\" cy=\"-90\" rx=\"27\" ry=\"18\"/>\n",
        "<text text-anchor=\"middle\" x=\"27\" y=\"-84.4\" font-family=\"Times,serif\" font-size=\"14.00\">f(0)</text>\n",
        "</g>\n",
        "<!-- Lf2 -->\n",
        "<g id=\"node4\" class=\"node\"><title>Lf2</title>\n",
        "<ellipse fill=\"none\" stroke=\"black\" cx=\"99\" cy=\"-162\" rx=\"27\" ry=\"18\"/>\n",
        "<text text-anchor=\"middle\" x=\"99\" y=\"-156.4\" font-family=\"Times,serif\" font-size=\"14.00\">f(2)</text>\n",
        "</g>\n",
        "<!-- Lf2&#45;&gt;LLf0 -->\n",
        "<g id=\"edge20\" class=\"edge\"><title>Lf2&#45;&gt;LLf0</title>\n",
        "<path fill=\"none\" stroke=\"black\" d=\"M84.4297,-146.834C74.2501,-136.938 60.4761,-123.546 48.9694,-112.359\"/>\n",
        "<polygon fill=\"black\" stroke=\"black\" points=\"51.4055,-109.846 41.7957,-105.385 46.5259,-114.865 51.4055,-109.846\"/>\n",
        "</g>\n",
        "<!-- LLf1 -->\n",
        "<g id=\"node9\" class=\"node\"><title>LLf1</title>\n",
        "<ellipse fill=\"none\" stroke=\"black\" cx=\"99\" cy=\"-90\" rx=\"27\" ry=\"18\"/>\n",
        "<text text-anchor=\"middle\" x=\"99\" y=\"-84.4\" font-family=\"Times,serif\" font-size=\"14.00\">f(1)</text>\n",
        "</g>\n",
        "<!-- Lf2&#45;&gt;LLf1 -->\n",
        "<g id=\"edge18\" class=\"edge\"><title>Lf2&#45;&gt;LLf1</title>\n",
        "<path fill=\"none\" stroke=\"black\" d=\"M99,-143.697C99,-135.983 99,-126.712 99,-118.112\"/>\n",
        "<polygon fill=\"black\" stroke=\"black\" points=\"102.5,-118.104 99,-108.104 95.5001,-118.104 102.5,-118.104\"/>\n",
        "</g>\n",
        "<!-- Lf3&#45;&gt;Lf1 -->\n",
        "<g id=\"edge8\" class=\"edge\"><title>Lf3&#45;&gt;Lf1</title>\n",
        "<path fill=\"none\" stroke=\"black\" d=\"M84.4297,-218.834C74.2501,-208.938 60.4761,-195.546 48.9694,-184.359\"/>\n",
        "<polygon fill=\"black\" stroke=\"black\" points=\"51.4055,-181.846 41.7957,-177.385 46.5259,-186.865 51.4055,-181.846\"/>\n",
        "</g>\n",
        "<!-- Lf3&#45;&gt;Lf2 -->\n",
        "<g id=\"edge6\" class=\"edge\"><title>Lf3&#45;&gt;Lf2</title>\n",
        "<path fill=\"none\" stroke=\"black\" d=\"M99,-215.697C99,-207.983 99,-198.712 99,-190.112\"/>\n",
        "<polygon fill=\"black\" stroke=\"black\" points=\"102.5,-190.104 99,-180.104 95.5001,-190.104 102.5,-190.104\"/>\n",
        "</g>\n",
        "<!-- RRf1 -->\n",
        "<g id=\"node6\" class=\"node\"><title>RRf1</title>\n",
        "<ellipse fill=\"none\" stroke=\"black\" cx=\"171\" cy=\"-90\" rx=\"27\" ry=\"18\"/>\n",
        "<text text-anchor=\"middle\" x=\"171\" y=\"-84.4\" font-family=\"Times,serif\" font-size=\"14.00\">f(1)</text>\n",
        "</g>\n",
        "<!-- RRMf1 -->\n",
        "<g id=\"node7\" class=\"node\"><title>RRMf1</title>\n",
        "<ellipse fill=\"none\" stroke=\"black\" cx=\"351\" cy=\"-18\" rx=\"27\" ry=\"18\"/>\n",
        "<text text-anchor=\"middle\" x=\"351\" y=\"-12.4\" font-family=\"Times,serif\" font-size=\"14.00\">f(1)</text>\n",
        "</g>\n",
        "<!-- RRf0 -->\n",
        "<g id=\"node8\" class=\"node\"><title>RRf0</title>\n",
        "<ellipse fill=\"none\" stroke=\"black\" cx=\"243\" cy=\"-90\" rx=\"27\" ry=\"18\"/>\n",
        "<text text-anchor=\"middle\" x=\"243\" y=\"-84.4\" font-family=\"Times,serif\" font-size=\"14.00\">f(0)</text>\n",
        "</g>\n",
        "<!-- RMf0 -->\n",
        "<g id=\"node10\" class=\"node\"><title>RMf0</title>\n",
        "<ellipse fill=\"none\" stroke=\"black\" cx=\"423\" cy=\"-18\" rx=\"27\" ry=\"18\"/>\n",
        "<text text-anchor=\"middle\" x=\"423\" y=\"-12.4\" font-family=\"Times,serif\" font-size=\"14.00\">f(0)</text>\n",
        "</g>\n",
        "<!-- RMf1 -->\n",
        "<g id=\"node11\" class=\"node\"><title>RMf1</title>\n",
        "<ellipse fill=\"none\" stroke=\"black\" cx=\"315\" cy=\"-90\" rx=\"27\" ry=\"18\"/>\n",
        "<text text-anchor=\"middle\" x=\"315\" y=\"-84.4\" font-family=\"Times,serif\" font-size=\"14.00\">f(1)</text>\n",
        "</g>\n",
        "<!-- Rf2 -->\n",
        "<g id=\"node12\" class=\"node\"><title>Rf2</title>\n",
        "<ellipse fill=\"none\" stroke=\"black\" cx=\"207\" cy=\"-162\" rx=\"27\" ry=\"18\"/>\n",
        "<text text-anchor=\"middle\" x=\"207\" y=\"-156.4\" font-family=\"Times,serif\" font-size=\"14.00\">f(2)</text>\n",
        "</g>\n",
        "<!-- Rf2&#45;&gt;RRf1 -->\n",
        "<g id=\"edge14\" class=\"edge\"><title>Rf2&#45;&gt;RRf1</title>\n",
        "<path fill=\"none\" stroke=\"black\" d=\"M198.65,-144.765C194.288,-136.283 188.853,-125.714 183.959,-116.197\"/>\n",
        "<polygon fill=\"black\" stroke=\"black\" points=\"186.99,-114.439 179.304,-107.147 180.765,-117.641 186.99,-114.439\"/>\n",
        "</g>\n",
        "<!-- Rf2&#45;&gt;RRf0 -->\n",
        "<g id=\"edge16\" class=\"edge\"><title>Rf2&#45;&gt;RRf0</title>\n",
        "<path fill=\"none\" stroke=\"black\" d=\"M215.35,-144.765C219.712,-136.283 225.147,-125.714 230.041,-116.197\"/>\n",
        "<polygon fill=\"black\" stroke=\"black\" points=\"233.235,-117.641 234.696,-107.147 227.01,-114.439 233.235,-117.641\"/>\n",
        "</g>\n",
        "<!-- RMf2 -->\n",
        "<g id=\"node13\" class=\"node\"><title>RMf2</title>\n",
        "<ellipse fill=\"none\" stroke=\"black\" cx=\"387\" cy=\"-90\" rx=\"27\" ry=\"18\"/>\n",
        "<text text-anchor=\"middle\" x=\"387\" y=\"-84.4\" font-family=\"Times,serif\" font-size=\"14.00\">f(2)</text>\n",
        "</g>\n",
        "<!-- RMf2&#45;&gt;RRMf1 -->\n",
        "<g id=\"edge28\" class=\"edge\"><title>RMf2&#45;&gt;RRMf1</title>\n",
        "<path fill=\"none\" stroke=\"black\" d=\"M378.65,-72.7646C374.288,-64.2831 368.853,-53.7144 363.959,-44.1974\"/>\n",
        "<polygon fill=\"black\" stroke=\"black\" points=\"366.99,-42.4395 359.304,-35.1473 360.765,-45.6409 366.99,-42.4395\"/>\n",
        "</g>\n",
        "<!-- RMf2&#45;&gt;RMf0 -->\n",
        "<g id=\"edge26\" class=\"edge\"><title>RMf2&#45;&gt;RMf0</title>\n",
        "<path fill=\"none\" stroke=\"black\" d=\"M395.35,-72.7646C399.712,-64.2831 405.147,-53.7144 410.041,-44.1974\"/>\n",
        "<polygon fill=\"black\" stroke=\"black\" points=\"413.235,-45.6409 414.696,-35.1473 407.01,-42.4395 413.235,-45.6409\"/>\n",
        "</g>\n",
        "<!-- Rf3 -->\n",
        "<g id=\"node14\" class=\"node\"><title>Rf3</title>\n",
        "<ellipse fill=\"none\" stroke=\"black\" cx=\"315\" cy=\"-162\" rx=\"27\" ry=\"18\"/>\n",
        "<text text-anchor=\"middle\" x=\"315\" y=\"-156.4\" font-family=\"Times,serif\" font-size=\"14.00\">f(3)</text>\n",
        "</g>\n",
        "<!-- Rf3&#45;&gt;RMf1 -->\n",
        "<g id=\"edge24\" class=\"edge\"><title>Rf3&#45;&gt;RMf1</title>\n",
        "<path fill=\"none\" stroke=\"black\" d=\"M315,-143.697C315,-135.983 315,-126.712 315,-118.112\"/>\n",
        "<polygon fill=\"black\" stroke=\"black\" points=\"318.5,-118.104 315,-108.104 311.5,-118.104 318.5,-118.104\"/>\n",
        "</g>\n",
        "<!-- Rf3&#45;&gt;RMf2 -->\n",
        "<g id=\"edge22\" class=\"edge\"><title>Rf3&#45;&gt;RMf2</title>\n",
        "<path fill=\"none\" stroke=\"black\" d=\"M329.57,-146.834C339.75,-136.938 353.524,-123.546 365.031,-112.359\"/>\n",
        "<polygon fill=\"black\" stroke=\"black\" points=\"367.474,-114.865 372.204,-105.385 362.595,-109.846 367.474,-114.865\"/>\n",
        "</g>\n",
        "<!-- Rf4&#45;&gt;Rf2 -->\n",
        "<g id=\"edge12\" class=\"edge\"><title>Rf4&#45;&gt;Rf2</title>\n",
        "<path fill=\"none\" stroke=\"black\" d=\"M207,-215.697C207,-207.983 207,-198.712 207,-190.112\"/>\n",
        "<polygon fill=\"black\" stroke=\"black\" points=\"210.5,-190.104 207,-180.104 203.5,-190.104 210.5,-190.104\"/>\n",
        "</g>\n",
        "<!-- Rf4&#45;&gt;Rf3 -->\n",
        "<g id=\"edge10\" class=\"edge\"><title>Rf4&#45;&gt;Rf3</title>\n",
        "<path fill=\"none\" stroke=\"black\" d=\"M225.812,-220.807C243.002,-209.665 268.618,-193.062 287.993,-180.504\"/>\n",
        "<polygon fill=\"black\" stroke=\"black\" points=\"289.916,-183.429 296.403,-175.053 286.108,-177.555 289.916,-183.429\"/>\n",
        "</g>\n",
        "</g>\n",
        "</svg>\n"
       ]
      }
     ],
     "prompt_number": 37
    },
    {
     "cell_type": "markdown",
     "metadata": {
      "slideshow": {
       "slide_type": "slide"
      }
     },
     "source": [
      "# Recursion Continued\n",
      "\n",
      "## Recursion Continued\n",
      "\n",
      "### Recursion Continued\n",
      "\n",
      "#### Recursion Continued\n",
      "\n",
      "##### Recursion Continued\n",
      "\n",
      "###### Recursion Continued\n",
      "\n"
     ]
    },
    {
     "cell_type": "markdown",
     "metadata": {
      "slideshow": {
       "slide_type": "slide"
      }
     },
     "source": [
      "The \"Towers of Hanoi\" is a very simple game.  You are given a stack of `n` disks in Tower 1, and your goal is to move them to Tower 3.  You may only move 1 disk at a time, and you can never place a large disk upon a smaller one.  \n",
      "  \n",
      "<img src=\"http://mathworld.wolfram.com/images/eps-gif/TowersOfHanoi_1000.gif\" style=\"background-color:white\" >"
     ]
    },
    {
     "cell_type": "markdown",
     "metadata": {
      "slideshow": {
       "slide_type": "slide"
      }
     },
     "source": [
      "Let's start with a simple example.  We have a stack of 3 in the left tower\n",
      "    \n",
      "    \n",
      "     | X    |      |      |  \n",
      "     | XX   |      |      |  \n",
      "     | XXX  |      |      |  \n",
      "    \n"
     ]
    },
    {
     "cell_type": "markdown",
     "metadata": {
      "slideshow": {
       "slide_type": "slide"
      }
     },
     "source": [
      "For a first move, we'll put the top disk on the far right... it's not obvious why until two steps later...\n",
      "    \n",
      "     |      |      |      |\n",
      "     | XX   |      |      |\n",
      "     | XXX  |      | X    |\n",
      "\n"
     ]
    },
    {
     "cell_type": "markdown",
     "metadata": {
      "slideshow": {
       "slide_type": "slide"
      }
     },
     "source": [
      "Now move the size-2 disk to the middle...\n",
      "\n",
      "     |      |      |      |\n",
      "     |      |      |      |\n",
      "     | XXX  | XX   | X    |\n",
      "\n"
     ]
    },
    {
     "cell_type": "markdown",
     "metadata": {
      "slideshow": {
       "slide_type": "slide"
      }
     },
     "source": [
      "Now move the size-1 disk on top of the size-2 disk...\n",
      "\n",
      "     |      |      |      |\n",
      "     |      | X    |      |\n",
      "     | XXX  | XX   |      |\n",
      "\n"
     ]
    },
    {
     "cell_type": "markdown",
     "metadata": {
      "slideshow": {
       "slide_type": "slide"
      }
     },
     "source": [
      "...and we can move the size-3 disk to the bottom of Tower 3, where it belongs.\n",
      "\n",
      "     |      |      |      |\n",
      "     |      | X    |      |\n",
      "     |      | XX   | XXX  |\n",
      "\n"
     ]
    },
    {
     "cell_type": "markdown",
     "metadata": {
      "slideshow": {
       "slide_type": "slide"
      }
     },
     "source": [
      "The rest is cleanup\n",
      "\n",
      "     |      |      |      |\n",
      "     |      |      |      |\n",
      "     | X    | XX   | XXX  |\n",
      "\n",
      "     |      |      |      |\n",
      "     |      |      | XX   |\n",
      "     | X    |      | XXX  |\n",
      "\n",
      "     |      |      | X    |\n",
      "     |      |      | XX   |\n",
      "     |      |      | XXX  |\n",
      "\n",
      "If you look closely at that approach, you'll realize that it doesn't matter how big the disks are, all that matter is that you have 3 disks.  In fact, it presents a general formula for moving a single disk.  \n",
      "\n",
      "Before \"cleanup\", we sucessfully moved the 3rd disk to another space.  Since we *always* have two \"free\" spaces, as long as we can move that 3rd disk, we can eventually make any move we want."
     ]
    },
    {
     "cell_type": "markdown",
     "metadata": {
      "slideshow": {
       "slide_type": "slide"
      }
     },
     "source": [
      "Recursion is great for applying general rules like this: If you have a rule that lets you move any piece, you just need to apply that rule to *every* piece.  \n",
      "    \n",
      "Actually doing this is a little complicated, but not terribly hard.  Anyway, we'll skip it for now."
     ]
    },
    {
     "cell_type": "markdown",
     "metadata": {
      "slideshow": {
       "slide_type": "slide"
      }
     },
     "source": [
      "<img src=\"files/images/blueclicker.png\" width=200 style='float: left;'>\n",
      "<style type=\"text/css\">\n",
      "    ol { list-style-type: upper-alpha !important; }\n",
      "</style>\n",
      "\n",
      "Indexing Quiz:  \n",
      "`x = ([1,2,3],'A',('B','C'))`\n",
      "\n",
      "What is `x[1]`?  \n",
      "A. `'A'`  \n",
      "B. `[1,2,3]`  \n",
      "C. `('B','C')`  \n",
      "D. `1`  \n",
      "E. `2`  "
     ]
    },
    {
     "cell_type": "markdown",
     "metadata": {
      "slideshow": {
       "slide_type": "slide"
      }
     },
     "source": [
      "<img src=\"files/images/blueclicker.png\" width=200 style='float: left;'>\n",
      "<style type=\"text/css\">\n",
      "    ol { list-style-type: upper-alpha !important; }\n",
      "</style>\n",
      "\n",
      "Indexing Quiz Rd 2:  \n",
      "`x = ([1,2,3],'A',('B','C'))`\n",
      "\n",
      "What is `x[2][1]`?  \n",
      "A. `'A'`  \n",
      "B. `'B'`  \n",
      "C. `'C'`  \n",
      "D. `('B','C')`  \n",
      "E. None of the above  "
     ]
    },
    {
     "cell_type": "markdown",
     "metadata": {
      "slideshow": {
       "slide_type": "slide"
      }
     },
     "source": [
      "<img src=\"http://web.mit.edu/kenta/www/one/fractals-6panel/kdomcobz/fractals.png\" width=800>"
     ]
    },
    {
     "cell_type": "markdown",
     "metadata": {},
     "source": [
      "<img src=\"http://i.imgur.com/DcFGH.gif\">"
     ]
    },
    {
     "cell_type": "markdown",
     "metadata": {
      "slideshow": {
       "slide_type": "slide"
      }
     },
     "source": [
      "The von Koch snowflake is a nifty fractal that can be easily programmed in python or IDL.  \n",
      "\n",
      "<iframe src=http://en.mobile.wikipedia.org/wiki/Von_Koch_snowflake?useformat=mobile width=700 height=350></iframe>\n",
      "\n",
      "\n"
     ]
    },
    {
     "cell_type": "code",
     "collapsed": false,
     "input": [
      "# The von Koch snowflake is defined by taking a line, subdividing it into 3\n",
      "# parts, then replacing the central part with an equilateral triangle\n",
      "# --BOARD--\n",
      "# Equilateral triangles have internal angles of 60 degrees or pi/3, so we'll\n",
      "# use a rotation matrix to determine where the vertex should be\n",
      "rot = array([[cos(pi/3),-sin(pi/3)],[sin(pi/3),cos(pi/3)]])\n",
      "# The recursion is pretty easy: If we're at the bottom, plot, otherwise, keep going\n",
      "def recursive_vonKoch(level, A, B, points, color='r'):\n",
      "    if level == 0:\n",
      "        points.append(A)\n",
      "        points.append(B)\n",
      "        # this is really what we want to do, but it turns out the \n",
      "        # \"plot\" operation is pretty slow\n",
      "        #plot(*zip(A,B),color=color)\n",
      "    else:\n",
      "        # at each step, subdivide the line A-B into A-C, C-D, and D-B\n",
      "        C = (B-A)/3. + A\n",
      "        D = (B-A)/3.*2 + A\n",
      "        # Then replace the line C-D with the lines C-E and E-D that \n",
      "        # make up the two other sides of the equilateral triangle\n",
      "        E = dot((D-C),rot) + C\n",
      "        recursive_vonKoch(level-1, A, C, points, color=color)\n",
      "        recursive_vonKoch(level-1, C, E, points, color=color)\n",
      "        recursive_vonKoch(level-1, E, D, points, color=color)\n",
      "        recursive_vonKoch(level-1, D, B, points, color=color)        "
     ],
     "language": "python",
     "metadata": {
      "slideshow": {
       "slide_type": "slide"
      }
     },
     "outputs": [],
     "prompt_number": 38
    },
    {
     "cell_type": "markdown",
     "metadata": {
      "slideshow": {
       "slide_type": "slide"
      }
     },
     "source": [
      "IDL version - `points` is an output variable:\n",
      "    \n",
      "    pro recursive_vonKoch,level,a,b,points\n",
      "        if level eq 0 then begin\n",
      "            points = [points, transpose(a), transpose(b)]\n",
      "        endif else begin\n",
      "            rot = [[cos(!pi/3),-sin(!pi/3)],[sin(!pi/3),cos(!pi/3)]]\n",
      "            ; at each step, subdivide the line A-B into A-C, C-D, and D-B\n",
      "            C = (B-A)/3. + A\n",
      "            D = (B-A)/3.*2 + A\n",
      "            ; Then replace the line C-D with the lines C-E and E-D that \n",
      "            ; make up the two other sides of the equilateral triangle\n",
      "            E = total([[D-C],[D-C]]*(rot),1) + C\n",
      "            recursive_vonKoch,level-1, A, C, points\n",
      "            recursive_vonKoch,level-1, C, E, points\n",
      "            recursive_vonKoch,level-1, E, D, points\n",
      "            recursive_vonKoch,level-1, D, B, points\n",
      "        endelse\n",
      "    end"
     ]
    },
    {
     "cell_type": "code",
     "collapsed": false,
     "input": [
      "# Follow-up of the Koch snowflake: a fractal landscape\n",
      "def landscape(level, A, B, points, scale=1.0):\n",
      "    \"\"\"\n",
      "    A randomly generated fractal landscape\n",
      "    In this case, \"fractal\" doesn't mean that it looks *exactly* the same\n",
      "    at every scale, just *almost* the same at every scale\n",
      "\n",
      "    Parameters\n",
      "    ----------\n",
      "    A,B : arrays\n",
      "        A and B must both be 2-element arrays:\n",
      "            A=[x0,y0]\n",
      "            B=[x1,y1]\n",
      "    points : list of arrays\n",
      "        A list of arrays of points\n",
      "        (technically, this doesn't HAVE to be used, but it makes plotting\n",
      "        much faster)\n",
      "    scale : float\n",
      "        A number to scale the random number by when changing the Y value\n",
      "    \"\"\"\n",
      "    if level == 0:\n",
      "        #points.append(A)\n",
      "        points.append(B)\n",
      "    else:\n",
      "        # at each step, subdivide the line A-B into A-C, C-B\n",
      "        C = (B-A)/2. + A\n",
      "        # then add some random number to the Y value of point C\n",
      "        C[1] += randn()*2**level * scale\n",
      "        landscape(level-1, A, C, points,scale=scale)\n",
      "        landscape(level-1, C, B, points,scale=scale)"
     ],
     "language": "python",
     "metadata": {
      "slideshow": {
       "slide_type": "slide"
      }
     },
     "outputs": [],
     "prompt_number": 39
    },
    {
     "cell_type": "markdown",
     "metadata": {
      "slideshow": {
       "slide_type": "slide"
      }
     },
     "source": [
      "Recursion application - a sorted binary tree\n",
      "\n",
      "One application that uses both recursion and linked lists is a sorted binary tree.  The binary sort is a fast way to sort data, much faster than similar naive approaches.  It relies on a data structure called a *binary tree*.  Trees have roots and branches, but binary trees are generally drawn with their roots at the top and branches below.\n",
      "\n",
      "Binary trees consist of `nodes` and `pointers`, just like linked lists.  But unlike linked lists, they have two pointers - a `left` and a `right` pointer.\n",
      "\n",
      "<svg width=\"145pt\" height=\"116pt\" viewBox=\"0.00 0.00 145.00 116.00\" xmlns=\"http://www.w3.org/2000/svg\" xlink=\"http://www.w3.org/1999/xlink\">\n",
      "<g id=\"graph1\" class=\"graph\" transform=\"scale(1 1) rotate(0) translate(4 112)\">\n",
      "<title>G</title>\n",
      "<polygon fill=\"white\" stroke=\"white\" points=\"-4,5 -4,-112 142,-112 142,5 -4,5\"></polygon>\n",
      "<!-- BinaryTree -->\n",
      "<g id=\"node1\" class=\"node\"><title>BinaryTree</title>\n",
      "<ellipse fill=\"none\" stroke=\"black\" cx=\"66\" cy=\"-90\" rx=\"54.5074\" ry=\"18\"></ellipse>\n",
      "<text text-anchor=\"middle\" x=\"66\" y=\"-84.4\" font-family=\"Times,serif\" font-size=\"14.00\">BinaryTree</text>\n",
      "</g>\n",
      "<!-- Left -->\n",
      "<g id=\"node3\" class=\"node\"><title>Left</title>\n",
      "<ellipse fill=\"none\" stroke=\"black\" cx=\"27\" cy=\"-18\" rx=\"27.1809\" ry=\"18\"></ellipse>\n",
      "<text text-anchor=\"middle\" x=\"27\" y=\"-12.4\" font-family=\"Times,serif\" font-size=\"14.00\">Left</text>\n",
      "</g>\n",
      "<!-- BinaryTree&#45;&gt;Left -->\n",
      "<g id=\"edge2\" class=\"edge\"><title>BinaryTree-&gt;Left</title>\n",
      "<path fill=\"none\" stroke=\"black\" d=\"M56.5592,-72.055C51.8927,-63.6793 46.1679,-53.4039 41.0033,-44.1341\"></path>\n",
      "<polygon fill=\"black\" stroke=\"black\" points=\"44.0099,-42.3392 36.0853,-35.307 37.8949,-45.7462 44.0099,-42.3392\"></polygon>\n",
      "</g>\n",
      "<!-- Right -->\n",
      "<g id=\"node5\" class=\"node\"><title>Right</title>\n",
      "<ellipse fill=\"none\" stroke=\"black\" cx=\"105\" cy=\"-18\" rx=\"32.2509\" ry=\"18\"></ellipse>\n",
      "<text text-anchor=\"middle\" x=\"105\" y=\"-12.4\" font-family=\"Times,serif\" font-size=\"14.00\">Right</text>\n",
      "</g>\n",
      "<!-- BinaryTree&#45;&gt;Right -->\n",
      "<g id=\"edge4\" class=\"edge\"><title>BinaryTree-&gt;Right</title>\n",
      "<path fill=\"none\" stroke=\"black\" d=\"M75.4408,-72.055C80.1073,-63.6793 85.8321,-53.4039 90.9967,-44.1341\"></path>\n",
      "<polygon fill=\"black\" stroke=\"black\" points=\"94.1051,-45.7462 95.9147,-35.307 87.9901,-42.3392 94.1051,-45.7462\"></polygon>\n",
      "</g>\n",
      "</g>\n",
      "</svg>\n",
      "\n",
      "<svg width=\"254pt\" height=\"44pt\" viewBox=\"0.00 0.00 254.00 44.00\" xmlns=\"http://www.w3.org/2000/svg\" xlink=\"http://www.w3.org/1999/xlink\">\n",
      "<g id=\"graph1\" class=\"graph\" transform=\"scale(1 1) rotate(0) translate(4 40)\">\n",
      "<title>B</title>\n",
      "<polygon fill=\"white\" stroke=\"white\" points=\"-4,5 -4,-40 251,-40 251,5 -4,5\"></polygon>\n",
      "<!-- LinkedList -->\n",
      "<g id=\"node1\" class=\"node\"><title>LinkedList</title>\n",
      "<ellipse fill=\"none\" stroke=\"black\" cx=\"54\" cy=\"-18\" rx=\"53.326\" ry=\"18\"></ellipse>\n",
      "<text text-anchor=\"middle\" x=\"54\" y=\"-12.4\" font-family=\"Times,serif\" font-size=\"14.00\">LinkedList</text>\n",
      "</g>\n",
      "<!-- NextNode -->\n",
      "<g id=\"node3\" class=\"node\"><title>NextNode</title>\n",
      "<ellipse fill=\"none\" stroke=\"black\" cx=\"195\" cy=\"-18\" rx=\"50.9515\" ry=\"18\"></ellipse>\n",
      "<text text-anchor=\"middle\" x=\"195\" y=\"-12.4\" font-family=\"Times,serif\" font-size=\"14.00\">NextNode</text>\n",
      "</g>\n",
      "<!-- LinkedList&#45;&gt;NextNode -->\n",
      "<g id=\"edge2\" class=\"edge\"><title>LinkedList-&gt;NextNode</title>\n",
      "<path fill=\"none\" stroke=\"black\" d=\"M107.55,-18C116.17,-18 125.161,-18 133.946,-18\"></path>\n",
      "<polygon fill=\"black\" stroke=\"black\" points=\"134.131,-21.5001 144.131,-18 134.131,-14.5001 134.131,-21.5001\"></polygon>\n",
      "</g>\n",
      "</g>\n",
      "</svg>"
     ]
    },
    {
     "cell_type": "markdown",
     "metadata": {
      "slideshow": {
       "slide_type": "slide"
      }
     },
     "source": [
      "<img src=\"http://yannesposito.com/Scratch/img/blog/Haskell-the-Hard-Way/yo_dawg_tree.jpg\">"
     ]
    },
    {
     "cell_type": "markdown",
     "metadata": {
      "slideshow": {
       "slide_type": "slide"
      }
     },
     "source": [
      "In a sorted binary tree, each `node` has a value and a left and right pointer.  The rule for a binary tree is that everything to the *left* of a node must have a value less than that node, and everything to the right of a node must have a value greater than that node (duplicates are not allowed).  Also, every node in a binary tree is also a binary tree that follows the same rules.  \n",
      "\n",
      "We'll star with an example already populated with some numbers, 12, 16, and 25."
     ]
    },
    {
     "cell_type": "code",
     "collapsed": false,
     "input": [
      "%%dot --format svg --\n",
      "digraph G {\n",
      "   16 -> 12;\n",
      "   16 -> 25;\n",
      "}"
     ],
     "language": "python",
     "metadata": {
      "slideshow": {}
     },
     "outputs": [
      {
       "output_type": "display_data",
       "svg": [
        "<?xml version=\"1.0\" encoding=\"UTF-8\" standalone=\"no\"?>\n",
        "<!DOCTYPE svg PUBLIC \"-//W3C//DTD SVG 1.1//EN\"\n",
        " \"http://www.w3.org/Graphics/SVG/1.1/DTD/svg11.dtd\">\n",
        "<!-- Generated by graphviz version 2.28.0 (20121121.2234)\n",
        " -->\n",
        "<!-- Title: G Pages: 1 -->\n",
        "<svg width=\"134pt\" height=\"116pt\"\n",
        " viewBox=\"0.00 0.00 134.00 116.00\" xmlns=\"http://www.w3.org/2000/svg\" xmlns:xlink=\"http://www.w3.org/1999/xlink\">\n",
        "<g id=\"graph1\" class=\"graph\" transform=\"scale(1 1) rotate(0) translate(4 112)\">\n",
        "<title>G</title>\n",
        "<polygon fill=\"white\" stroke=\"white\" points=\"-4,5 -4,-112 131,-112 131,5 -4,5\"/>\n",
        "<!-- 16 -->\n",
        "<g id=\"node1\" class=\"node\"><title>16</title>\n",
        "<ellipse fill=\"none\" stroke=\"black\" cx=\"63\" cy=\"-90\" rx=\"27\" ry=\"18\"/>\n",
        "<text text-anchor=\"middle\" x=\"63\" y=\"-84.4\" font-family=\"Times,serif\" font-size=\"14.00\">16</text>\n",
        "</g>\n",
        "<!-- 12 -->\n",
        "<g id=\"node3\" class=\"node\"><title>12</title>\n",
        "<ellipse fill=\"none\" stroke=\"black\" cx=\"27\" cy=\"-18\" rx=\"27\" ry=\"18\"/>\n",
        "<text text-anchor=\"middle\" x=\"27\" y=\"-12.4\" font-family=\"Times,serif\" font-size=\"14.00\">12</text>\n",
        "</g>\n",
        "<!-- 16&#45;&gt;12 -->\n",
        "<g id=\"edge2\" class=\"edge\"><title>16&#45;&gt;12</title>\n",
        "<path fill=\"none\" stroke=\"black\" d=\"M54.6504,-72.7646C50.2885,-64.2831 44.8531,-53.7144 39.9587,-44.1974\"/>\n",
        "<polygon fill=\"black\" stroke=\"black\" points=\"42.9904,-42.4395 35.3043,-35.1473 36.7654,-45.6409 42.9904,-42.4395\"/>\n",
        "</g>\n",
        "<!-- 25 -->\n",
        "<g id=\"node5\" class=\"node\"><title>25</title>\n",
        "<ellipse fill=\"none\" stroke=\"black\" cx=\"99\" cy=\"-18\" rx=\"27\" ry=\"18\"/>\n",
        "<text text-anchor=\"middle\" x=\"99\" y=\"-12.4\" font-family=\"Times,serif\" font-size=\"14.00\">25</text>\n",
        "</g>\n",
        "<!-- 16&#45;&gt;25 -->\n",
        "<g id=\"edge4\" class=\"edge\"><title>16&#45;&gt;25</title>\n",
        "<path fill=\"none\" stroke=\"black\" d=\"M71.3496,-72.7646C75.7115,-64.2831 81.1469,-53.7144 86.0413,-44.1974\"/>\n",
        "<polygon fill=\"black\" stroke=\"black\" points=\"89.2346,-45.6409 90.6957,-35.1473 83.0096,-42.4395 89.2346,-45.6409\"/>\n",
        "</g>\n",
        "</g>\n",
        "</svg>\n"
       ]
      }
     ],
     "prompt_number": 40
    },
    {
     "cell_type": "markdown",
     "metadata": {
      "slideshow": {
       "slide_type": "slide"
      }
     },
     "source": [
      "Now we'll add 15.  It goes to the left of 16, then the right of 12."
     ]
    },
    {
     "cell_type": "code",
     "collapsed": false,
     "input": [
      "%%dot --format svg --\n",
      "digraph G {\n",
      "   16 -> 12 [label=\"L\"]; \n",
      "   16 -> 25 [label=\"R\"];\n",
      "   12 -> empty [label=\"L\"];\n",
      "   12 -> 15 [label=\"R\"];\n",
      "}"
     ],
     "language": "python",
     "metadata": {
      "slideshow": {}
     },
     "outputs": [
      {
       "output_type": "display_data",
       "svg": [
        "<?xml version=\"1.0\" encoding=\"UTF-8\" standalone=\"no\"?>\n",
        "<!DOCTYPE svg PUBLIC \"-//W3C//DTD SVG 1.1//EN\"\n",
        " \"http://www.w3.org/Graphics/SVG/1.1/DTD/svg11.dtd\">\n",
        "<!-- Generated by graphviz version 2.28.0 (20121121.2234)\n",
        " -->\n",
        "<!-- Title: G Pages: 1 -->\n",
        "<svg width=\"182pt\" height=\"224pt\"\n",
        " viewBox=\"0.00 0.00 182.00 224.00\" xmlns=\"http://www.w3.org/2000/svg\" xmlns:xlink=\"http://www.w3.org/1999/xlink\">\n",
        "<g id=\"graph1\" class=\"graph\" transform=\"scale(1 1) rotate(0) translate(4 220)\">\n",
        "<title>G</title>\n",
        "<polygon fill=\"white\" stroke=\"white\" points=\"-4,5 -4,-220 179,-220 179,5 -4,5\"/>\n",
        "<!-- 16 -->\n",
        "<g id=\"node1\" class=\"node\"><title>16</title>\n",
        "<ellipse fill=\"none\" stroke=\"black\" cx=\"129\" cy=\"-198\" rx=\"27\" ry=\"18\"/>\n",
        "<text text-anchor=\"middle\" x=\"129\" y=\"-192.4\" font-family=\"Times,serif\" font-size=\"14.00\">16</text>\n",
        "</g>\n",
        "<!-- 12 -->\n",
        "<g id=\"node3\" class=\"node\"><title>12</title>\n",
        "<ellipse fill=\"none\" stroke=\"black\" cx=\"75\" cy=\"-108\" rx=\"27\" ry=\"18\"/>\n",
        "<text text-anchor=\"middle\" x=\"75\" y=\"-102.4\" font-family=\"Times,serif\" font-size=\"14.00\">12</text>\n",
        "</g>\n",
        "<!-- 16&#45;&gt;12 -->\n",
        "<g id=\"edge2\" class=\"edge\"><title>16&#45;&gt;12</title>\n",
        "<path fill=\"none\" stroke=\"black\" d=\"M119.096,-180.859C111.027,-167.71 99.4979,-148.922 90.2521,-133.855\"/>\n",
        "<polygon fill=\"black\" stroke=\"black\" points=\"93.055,-131.731 84.8416,-125.038 87.0887,-135.392 93.055,-131.731\"/>\n",
        "<text text-anchor=\"middle\" x=\"111.276\" y=\"-147.4\" font-family=\"Times,serif\" font-size=\"14.00\">L</text>\n",
        "</g>\n",
        "<!-- 25 -->\n",
        "<g id=\"node5\" class=\"node\"><title>25</title>\n",
        "<ellipse fill=\"none\" stroke=\"black\" cx=\"147\" cy=\"-108\" rx=\"27\" ry=\"18\"/>\n",
        "<text text-anchor=\"middle\" x=\"147\" y=\"-102.4\" font-family=\"Times,serif\" font-size=\"14.00\">25</text>\n",
        "</g>\n",
        "<!-- 16&#45;&gt;25 -->\n",
        "<g id=\"edge4\" class=\"edge\"><title>16&#45;&gt;25</title>\n",
        "<path fill=\"none\" stroke=\"black\" d=\"M132.471,-180.033C135.035,-167.493 138.578,-150.172 141.524,-135.773\"/>\n",
        "<polygon fill=\"black\" stroke=\"black\" points=\"144.965,-136.414 143.54,-125.915 138.107,-135.011 144.965,-136.414\"/>\n",
        "<text text-anchor=\"middle\" x=\"144.669\" y=\"-147.4\" font-family=\"Times,serif\" font-size=\"14.00\">R</text>\n",
        "</g>\n",
        "<!-- empty -->\n",
        "<g id=\"node7\" class=\"node\"><title>empty</title>\n",
        "<ellipse fill=\"none\" stroke=\"black\" cx=\"35\" cy=\"-18\" rx=\"35.2617\" ry=\"18\"/>\n",
        "<text text-anchor=\"middle\" x=\"35\" y=\"-12.4\" font-family=\"Times,serif\" font-size=\"14.00\">empty</text>\n",
        "</g>\n",
        "<!-- 12&#45;&gt;empty -->\n",
        "<g id=\"edge6\" class=\"edge\"><title>12&#45;&gt;empty</title>\n",
        "<path fill=\"none\" stroke=\"black\" d=\"M67.4763,-90.4479C61.6471,-77.6236 53.4635,-59.6198 46.7698,-44.8936\"/>\n",
        "<polygon fill=\"black\" stroke=\"black\" points=\"49.9503,-43.4324 42.626,-35.7771 43.5778,-46.3291 49.9503,-43.4324\"/>\n",
        "<text text-anchor=\"middle\" x=\"63.2759\" y=\"-57.4\" font-family=\"Times,serif\" font-size=\"14.00\">L</text>\n",
        "</g>\n",
        "<!-- 15 -->\n",
        "<g id=\"node9\" class=\"node\"><title>15</title>\n",
        "<ellipse fill=\"none\" stroke=\"black\" cx=\"115\" cy=\"-18\" rx=\"27\" ry=\"18\"/>\n",
        "<text text-anchor=\"middle\" x=\"115\" y=\"-12.4\" font-family=\"Times,serif\" font-size=\"14.00\">15</text>\n",
        "</g>\n",
        "<!-- 12&#45;&gt;15 -->\n",
        "<g id=\"edge8\" class=\"edge\"><title>12&#45;&gt;15</title>\n",
        "<path fill=\"none\" stroke=\"black\" d=\"M82.5237,-90.4479C88.39,-77.5419 96.6408,-59.3902 103.358,-44.6126\"/>\n",
        "<polygon fill=\"black\" stroke=\"black\" points=\"106.558,-46.0299 107.51,-35.4779 100.186,-43.1332 106.558,-46.0299\"/>\n",
        "<text text-anchor=\"middle\" x=\"103.669\" y=\"-57.4\" font-family=\"Times,serif\" font-size=\"14.00\">R</text>\n",
        "</g>\n",
        "</g>\n",
        "</svg>\n"
       ]
      }
     ],
     "prompt_number": 41
    },
    {
     "cell_type": "markdown",
     "metadata": {
      "slideshow": {
       "slide_type": "slide"
      }
     },
     "source": [
      "Add 11..."
     ]
    },
    {
     "cell_type": "code",
     "collapsed": false,
     "input": [
      "%%dot --format svg --\n",
      "digraph G {\n",
      "   16 -> 12 [label=\"L\"]; \n",
      "   16 -> 25 [label=\"R\"];\n",
      "   12 -> 11 [label=\"L\"];\n",
      "   12 -> 15 [label=\"R\"];\n",
      "}"
     ],
     "language": "python",
     "metadata": {
      "slideshow": {}
     },
     "outputs": [
      {
       "output_type": "display_data",
       "svg": [
        "<?xml version=\"1.0\" encoding=\"UTF-8\" standalone=\"no\"?>\n",
        "<!DOCTYPE svg PUBLIC \"-//W3C//DTD SVG 1.1//EN\"\n",
        " \"http://www.w3.org/Graphics/SVG/1.1/DTD/svg11.dtd\">\n",
        "<!-- Generated by graphviz version 2.28.0 (20121121.2234)\n",
        " -->\n",
        "<!-- Title: G Pages: 1 -->\n",
        "<svg width=\"170pt\" height=\"224pt\"\n",
        " viewBox=\"0.00 0.00 170.00 224.00\" xmlns=\"http://www.w3.org/2000/svg\" xmlns:xlink=\"http://www.w3.org/1999/xlink\">\n",
        "<g id=\"graph1\" class=\"graph\" transform=\"scale(1 1) rotate(0) translate(4 220)\">\n",
        "<title>G</title>\n",
        "<polygon fill=\"white\" stroke=\"white\" points=\"-4,5 -4,-220 167,-220 167,5 -4,5\"/>\n",
        "<!-- 16 -->\n",
        "<g id=\"node1\" class=\"node\"><title>16</title>\n",
        "<ellipse fill=\"none\" stroke=\"black\" cx=\"117\" cy=\"-198\" rx=\"27\" ry=\"18\"/>\n",
        "<text text-anchor=\"middle\" x=\"117\" y=\"-192.4\" font-family=\"Times,serif\" font-size=\"14.00\">16</text>\n",
        "</g>\n",
        "<!-- 12 -->\n",
        "<g id=\"node3\" class=\"node\"><title>12</title>\n",
        "<ellipse fill=\"none\" stroke=\"black\" cx=\"63\" cy=\"-108\" rx=\"27\" ry=\"18\"/>\n",
        "<text text-anchor=\"middle\" x=\"63\" y=\"-102.4\" font-family=\"Times,serif\" font-size=\"14.00\">12</text>\n",
        "</g>\n",
        "<!-- 16&#45;&gt;12 -->\n",
        "<g id=\"edge2\" class=\"edge\"><title>16&#45;&gt;12</title>\n",
        "<path fill=\"none\" stroke=\"black\" d=\"M107.096,-180.859C99.0269,-167.71 87.4979,-148.922 78.2521,-133.855\"/>\n",
        "<polygon fill=\"black\" stroke=\"black\" points=\"81.055,-131.731 72.8416,-125.038 75.0887,-135.392 81.055,-131.731\"/>\n",
        "<text text-anchor=\"middle\" x=\"99.2759\" y=\"-147.4\" font-family=\"Times,serif\" font-size=\"14.00\">L</text>\n",
        "</g>\n",
        "<!-- 25 -->\n",
        "<g id=\"node5\" class=\"node\"><title>25</title>\n",
        "<ellipse fill=\"none\" stroke=\"black\" cx=\"135\" cy=\"-108\" rx=\"27\" ry=\"18\"/>\n",
        "<text text-anchor=\"middle\" x=\"135\" y=\"-102.4\" font-family=\"Times,serif\" font-size=\"14.00\">25</text>\n",
        "</g>\n",
        "<!-- 16&#45;&gt;25 -->\n",
        "<g id=\"edge4\" class=\"edge\"><title>16&#45;&gt;25</title>\n",
        "<path fill=\"none\" stroke=\"black\" d=\"M120.471,-180.033C123.035,-167.493 126.578,-150.172 129.524,-135.773\"/>\n",
        "<polygon fill=\"black\" stroke=\"black\" points=\"132.965,-136.414 131.54,-125.915 126.107,-135.011 132.965,-136.414\"/>\n",
        "<text text-anchor=\"middle\" x=\"132.669\" y=\"-147.4\" font-family=\"Times,serif\" font-size=\"14.00\">R</text>\n",
        "</g>\n",
        "<!-- 11 -->\n",
        "<g id=\"node7\" class=\"node\"><title>11</title>\n",
        "<ellipse fill=\"none\" stroke=\"black\" cx=\"27\" cy=\"-18\" rx=\"27\" ry=\"18\"/>\n",
        "<text text-anchor=\"middle\" x=\"27\" y=\"-12.4\" font-family=\"Times,serif\" font-size=\"14.00\">11</text>\n",
        "</g>\n",
        "<!-- 12&#45;&gt;11 -->\n",
        "<g id=\"edge6\" class=\"edge\"><title>12&#45;&gt;11</title>\n",
        "<path fill=\"none\" stroke=\"black\" d=\"M56.2287,-90.4479C50.9992,-77.6648 43.6645,-59.7355 37.651,-45.0357\"/>\n",
        "<polygon fill=\"black\" stroke=\"black\" points=\"40.7668,-43.4081 33.741,-35.4779 34.2879,-46.0586 40.7668,-43.4081\"/>\n",
        "<text text-anchor=\"middle\" x=\"53.2759\" y=\"-57.4\" font-family=\"Times,serif\" font-size=\"14.00\">L</text>\n",
        "</g>\n",
        "<!-- 15 -->\n",
        "<g id=\"node9\" class=\"node\"><title>15</title>\n",
        "<ellipse fill=\"none\" stroke=\"black\" cx=\"99\" cy=\"-18\" rx=\"27\" ry=\"18\"/>\n",
        "<text text-anchor=\"middle\" x=\"99\" y=\"-12.4\" font-family=\"Times,serif\" font-size=\"14.00\">15</text>\n",
        "</g>\n",
        "<!-- 12&#45;&gt;15 -->\n",
        "<g id=\"edge8\" class=\"edge\"><title>12&#45;&gt;15</title>\n",
        "<path fill=\"none\" stroke=\"black\" d=\"M69.7713,-90.4479C75.0008,-77.6648 82.3355,-59.7355 88.349,-45.0357\"/>\n",
        "<polygon fill=\"black\" stroke=\"black\" points=\"91.7121,-46.0586 92.259,-35.4779 85.2332,-43.4081 91.7121,-46.0586\"/>\n",
        "<text text-anchor=\"middle\" x=\"89.6689\" y=\"-57.4\" font-family=\"Times,serif\" font-size=\"14.00\">R</text>\n",
        "</g>\n",
        "</g>\n",
        "</svg>\n"
       ]
      }
     ],
     "prompt_number": 42
    },
    {
     "cell_type": "code",
     "collapsed": false,
     "input": [
      "%%dot --format svg --\n",
      "digraph G {\n",
      "   16 -> 12 [label=\"L\"]; \n",
      "   16 -> 25 [label=\"R\"];\n",
      "   12 -> 11 [label=\"L\"];\n",
      "   12 -> 15 [label=\"R\"];\n",
      "   25 -> empty [label=\"L\"];\n",
      "   25 -> 29 [label=\"R\"];\n",
      "}"
     ],
     "language": "python",
     "metadata": {
      "slideshow": {
       "slide_type": "slide"
      }
     },
     "outputs": [
      {
       "output_type": "display_data",
       "svg": [
        "<?xml version=\"1.0\" encoding=\"UTF-8\" standalone=\"no\"?>\n",
        "<!DOCTYPE svg PUBLIC \"-//W3C//DTD SVG 1.1//EN\"\n",
        " \"http://www.w3.org/Graphics/SVG/1.1/DTD/svg11.dtd\">\n",
        "<!-- Generated by graphviz version 2.28.0 (20121121.2234)\n",
        " -->\n",
        "<!-- Title: G Pages: 1 -->\n",
        "<svg width=\"294pt\" height=\"224pt\"\n",
        " viewBox=\"0.00 0.00 294.00 224.00\" xmlns=\"http://www.w3.org/2000/svg\" xmlns:xlink=\"http://www.w3.org/1999/xlink\">\n",
        "<g id=\"graph1\" class=\"graph\" transform=\"scale(1 1) rotate(0) translate(4 220)\">\n",
        "<title>G</title>\n",
        "<polygon fill=\"white\" stroke=\"white\" points=\"-4,5 -4,-220 291,-220 291,5 -4,5\"/>\n",
        "<!-- 16 -->\n",
        "<g id=\"node1\" class=\"node\"><title>16</title>\n",
        "<ellipse fill=\"none\" stroke=\"black\" cx=\"145\" cy=\"-198\" rx=\"27\" ry=\"18\"/>\n",
        "<text text-anchor=\"middle\" x=\"145\" y=\"-192.4\" font-family=\"Times,serif\" font-size=\"14.00\">16</text>\n",
        "</g>\n",
        "<!-- 12 -->\n",
        "<g id=\"node3\" class=\"node\"><title>12</title>\n",
        "<ellipse fill=\"none\" stroke=\"black\" cx=\"99\" cy=\"-108\" rx=\"27\" ry=\"18\"/>\n",
        "<text text-anchor=\"middle\" x=\"99\" y=\"-102.4\" font-family=\"Times,serif\" font-size=\"14.00\">12</text>\n",
        "</g>\n",
        "<!-- 16&#45;&gt;12 -->\n",
        "<g id=\"edge2\" class=\"edge\"><title>16&#45;&gt;12</title>\n",
        "<path fill=\"none\" stroke=\"black\" d=\"M136.563,-180.859C129.797,-167.916 120.175,-149.508 112.363,-134.564\"/>\n",
        "<polygon fill=\"black\" stroke=\"black\" points=\"115.274,-132.577 107.539,-125.336 109.07,-135.82 115.274,-132.577\"/>\n",
        "<text text-anchor=\"middle\" x=\"131.276\" y=\"-147.4\" font-family=\"Times,serif\" font-size=\"14.00\">L</text>\n",
        "</g>\n",
        "<!-- 25 -->\n",
        "<g id=\"node5\" class=\"node\"><title>25</title>\n",
        "<ellipse fill=\"none\" stroke=\"black\" cx=\"179\" cy=\"-108\" rx=\"27\" ry=\"18\"/>\n",
        "<text text-anchor=\"middle\" x=\"179\" y=\"-102.4\" font-family=\"Times,serif\" font-size=\"14.00\">25</text>\n",
        "</g>\n",
        "<!-- 16&#45;&gt;25 -->\n",
        "<g id=\"edge4\" class=\"edge\"><title>16&#45;&gt;25</title>\n",
        "<path fill=\"none\" stroke=\"black\" d=\"M151.395,-180.448C156.303,-167.746 163.174,-149.962 168.833,-135.315\"/>\n",
        "<polygon fill=\"black\" stroke=\"black\" points=\"172.179,-136.367 172.518,-125.777 165.649,-133.844 172.179,-136.367\"/>\n",
        "<text text-anchor=\"middle\" x=\"170.669\" y=\"-147.4\" font-family=\"Times,serif\" font-size=\"14.00\">R</text>\n",
        "</g>\n",
        "<!-- 11 -->\n",
        "<g id=\"node7\" class=\"node\"><title>11</title>\n",
        "<ellipse fill=\"none\" stroke=\"black\" cx=\"27\" cy=\"-18\" rx=\"27\" ry=\"18\"/>\n",
        "<text text-anchor=\"middle\" x=\"27\" y=\"-12.4\" font-family=\"Times,serif\" font-size=\"14.00\">11</text>\n",
        "</g>\n",
        "<!-- 12&#45;&gt;11 -->\n",
        "<g id=\"edge6\" class=\"edge\"><title>12&#45;&gt;11</title>\n",
        "<path fill=\"none\" stroke=\"black\" d=\"M86.4586,-91.6716C75.3083,-78.0435 58.8401,-57.9157 46.0607,-42.2964\"/>\n",
        "<polygon fill=\"black\" stroke=\"black\" points=\"48.439,-39.676 39.3977,-34.1528 43.0213,-44.1087 48.439,-39.676\"/>\n",
        "<text text-anchor=\"middle\" x=\"74.2759\" y=\"-57.4\" font-family=\"Times,serif\" font-size=\"14.00\">L</text>\n",
        "</g>\n",
        "<!-- 15 -->\n",
        "<g id=\"node9\" class=\"node\"><title>15</title>\n",
        "<ellipse fill=\"none\" stroke=\"black\" cx=\"99\" cy=\"-18\" rx=\"27\" ry=\"18\"/>\n",
        "<text text-anchor=\"middle\" x=\"99\" y=\"-12.4\" font-family=\"Times,serif\" font-size=\"14.00\">15</text>\n",
        "</g>\n",
        "<!-- 12&#45;&gt;15 -->\n",
        "<g id=\"edge8\" class=\"edge\"><title>12&#45;&gt;15</title>\n",
        "<path fill=\"none\" stroke=\"black\" d=\"M99,-89.614C99,-77.2403 99,-60.3686 99,-46.2198\"/>\n",
        "<polygon fill=\"black\" stroke=\"black\" points=\"102.5,-46.0504 99,-36.0504 95.5001,-46.0504 102.5,-46.0504\"/>\n",
        "<text text-anchor=\"middle\" x=\"103.669\" y=\"-57.4\" font-family=\"Times,serif\" font-size=\"14.00\">R</text>\n",
        "</g>\n",
        "<!-- empty -->\n",
        "<g id=\"node11\" class=\"node\"><title>empty</title>\n",
        "<ellipse fill=\"none\" stroke=\"black\" cx=\"179\" cy=\"-18\" rx=\"35.2617\" ry=\"18\"/>\n",
        "<text text-anchor=\"middle\" x=\"179\" y=\"-12.4\" font-family=\"Times,serif\" font-size=\"14.00\">empty</text>\n",
        "</g>\n",
        "<!-- 25&#45;&gt;empty -->\n",
        "<g id=\"edge10\" class=\"edge\"><title>25&#45;&gt;empty</title>\n",
        "<path fill=\"none\" stroke=\"black\" d=\"M179,-89.614C179,-77.2403 179,-60.3686 179,-46.2198\"/>\n",
        "<polygon fill=\"black\" stroke=\"black\" points=\"182.5,-46.0504 179,-36.0504 175.5,-46.0504 182.5,-46.0504\"/>\n",
        "<text text-anchor=\"middle\" x=\"183.276\" y=\"-57.4\" font-family=\"Times,serif\" font-size=\"14.00\">L</text>\n",
        "</g>\n",
        "<!-- 29 -->\n",
        "<g id=\"node13\" class=\"node\"><title>29</title>\n",
        "<ellipse fill=\"none\" stroke=\"black\" cx=\"259\" cy=\"-18\" rx=\"27\" ry=\"18\"/>\n",
        "<text text-anchor=\"middle\" x=\"259\" y=\"-12.4\" font-family=\"Times,serif\" font-size=\"14.00\">29</text>\n",
        "</g>\n",
        "<!-- 25&#45;&gt;29 -->\n",
        "<g id=\"edge12\" class=\"edge\"><title>25&#45;&gt;29</title>\n",
        "<path fill=\"none\" stroke=\"black\" d=\"M192.571,-92.072C205.174,-78.2084 224.114,-57.3751 238.549,-41.4963\"/>\n",
        "<polygon fill=\"black\" stroke=\"black\" points=\"241.493,-43.4613 245.63,-33.7075 236.313,-38.7526 241.493,-43.4613\"/>\n",
        "<text text-anchor=\"middle\" x=\"231.669\" y=\"-57.4\" font-family=\"Times,serif\" font-size=\"14.00\">R</text>\n",
        "</g>\n",
        "</g>\n",
        "</svg>\n"
       ]
      }
     ],
     "prompt_number": 43
    },
    {
     "cell_type": "code",
     "collapsed": false,
     "input": [
      "%%dot --format svg --\n",
      "digraph G {\n",
      "   16 -> 12 [label=\"L\"]; \n",
      "   16 -> 25 [label=\"R\"];\n",
      "   12 -> 11 [label=\"L\"];\n",
      "   12 -> 15 [label=\"R\"];\n",
      "   25 -> empty [label=\"L\"];\n",
      "   25 -> 29 [label=\"R\"];\n",
      "   empty2 [label=\"empty\"];\n",
      "   15 -> empty2 [label=\"L\"];\n",
      "   15 -> 15.5 [label=\"R\"];\n",
      "}"
     ],
     "language": "python",
     "metadata": {
      "slideshow": {
       "slide_type": "slide"
      }
     },
     "outputs": [
      {
       "output_type": "display_data",
       "svg": [
        "<?xml version=\"1.0\" encoding=\"UTF-8\" standalone=\"no\"?>\n",
        "<!DOCTYPE svg PUBLIC \"-//W3C//DTD SVG 1.1//EN\"\n",
        " \"http://www.w3.org/Graphics/SVG/1.1/DTD/svg11.dtd\">\n",
        "<!-- Generated by graphviz version 2.28.0 (20121121.2234)\n",
        " -->\n",
        "<!-- Title: G Pages: 1 -->\n",
        "<svg width=\"294pt\" height=\"314pt\"\n",
        " viewBox=\"0.00 0.00 294.00 314.00\" xmlns=\"http://www.w3.org/2000/svg\" xmlns:xlink=\"http://www.w3.org/1999/xlink\">\n",
        "<g id=\"graph1\" class=\"graph\" transform=\"scale(1 1) rotate(0) translate(4 310)\">\n",
        "<title>G</title>\n",
        "<polygon fill=\"white\" stroke=\"white\" points=\"-4,5 -4,-310 291,-310 291,5 -4,5\"/>\n",
        "<!-- 16 -->\n",
        "<g id=\"node1\" class=\"node\"><title>16</title>\n",
        "<ellipse fill=\"none\" stroke=\"black\" cx=\"145\" cy=\"-288\" rx=\"27\" ry=\"18\"/>\n",
        "<text text-anchor=\"middle\" x=\"145\" y=\"-282.4\" font-family=\"Times,serif\" font-size=\"14.00\">16</text>\n",
        "</g>\n",
        "<!-- 12 -->\n",
        "<g id=\"node3\" class=\"node\"><title>12</title>\n",
        "<ellipse fill=\"none\" stroke=\"black\" cx=\"99\" cy=\"-198\" rx=\"27\" ry=\"18\"/>\n",
        "<text text-anchor=\"middle\" x=\"99\" y=\"-192.4\" font-family=\"Times,serif\" font-size=\"14.00\">12</text>\n",
        "</g>\n",
        "<!-- 16&#45;&gt;12 -->\n",
        "<g id=\"edge2\" class=\"edge\"><title>16&#45;&gt;12</title>\n",
        "<path fill=\"none\" stroke=\"black\" d=\"M136.563,-270.859C129.797,-257.916 120.175,-239.508 112.363,-224.564\"/>\n",
        "<polygon fill=\"black\" stroke=\"black\" points=\"115.274,-222.577 107.539,-215.336 109.07,-225.82 115.274,-222.577\"/>\n",
        "<text text-anchor=\"middle\" x=\"131.276\" y=\"-237.4\" font-family=\"Times,serif\" font-size=\"14.00\">L</text>\n",
        "</g>\n",
        "<!-- 25 -->\n",
        "<g id=\"node5\" class=\"node\"><title>25</title>\n",
        "<ellipse fill=\"none\" stroke=\"black\" cx=\"179\" cy=\"-198\" rx=\"27\" ry=\"18\"/>\n",
        "<text text-anchor=\"middle\" x=\"179\" y=\"-192.4\" font-family=\"Times,serif\" font-size=\"14.00\">25</text>\n",
        "</g>\n",
        "<!-- 16&#45;&gt;25 -->\n",
        "<g id=\"edge4\" class=\"edge\"><title>16&#45;&gt;25</title>\n",
        "<path fill=\"none\" stroke=\"black\" d=\"M151.395,-270.448C156.303,-257.746 163.174,-239.962 168.833,-225.315\"/>\n",
        "<polygon fill=\"black\" stroke=\"black\" points=\"172.179,-226.367 172.518,-215.777 165.649,-223.844 172.179,-226.367\"/>\n",
        "<text text-anchor=\"middle\" x=\"170.669\" y=\"-237.4\" font-family=\"Times,serif\" font-size=\"14.00\">R</text>\n",
        "</g>\n",
        "<!-- 11 -->\n",
        "<g id=\"node7\" class=\"node\"><title>11</title>\n",
        "<ellipse fill=\"none\" stroke=\"black\" cx=\"27\" cy=\"-108\" rx=\"27\" ry=\"18\"/>\n",
        "<text text-anchor=\"middle\" x=\"27\" y=\"-102.4\" font-family=\"Times,serif\" font-size=\"14.00\">11</text>\n",
        "</g>\n",
        "<!-- 12&#45;&gt;11 -->\n",
        "<g id=\"edge6\" class=\"edge\"><title>12&#45;&gt;11</title>\n",
        "<path fill=\"none\" stroke=\"black\" d=\"M86.4586,-181.672C75.3083,-168.043 58.8401,-147.916 46.0607,-132.296\"/>\n",
        "<polygon fill=\"black\" stroke=\"black\" points=\"48.439,-129.676 39.3977,-124.153 43.0213,-134.109 48.439,-129.676\"/>\n",
        "<text text-anchor=\"middle\" x=\"74.2759\" y=\"-147.4\" font-family=\"Times,serif\" font-size=\"14.00\">L</text>\n",
        "</g>\n",
        "<!-- 15 -->\n",
        "<g id=\"node9\" class=\"node\"><title>15</title>\n",
        "<ellipse fill=\"none\" stroke=\"black\" cx=\"99\" cy=\"-108\" rx=\"27\" ry=\"18\"/>\n",
        "<text text-anchor=\"middle\" x=\"99\" y=\"-102.4\" font-family=\"Times,serif\" font-size=\"14.00\">15</text>\n",
        "</g>\n",
        "<!-- 12&#45;&gt;15 -->\n",
        "<g id=\"edge8\" class=\"edge\"><title>12&#45;&gt;15</title>\n",
        "<path fill=\"none\" stroke=\"black\" d=\"M99,-179.614C99,-167.24 99,-150.369 99,-136.22\"/>\n",
        "<polygon fill=\"black\" stroke=\"black\" points=\"102.5,-136.05 99,-126.05 95.5001,-136.05 102.5,-136.05\"/>\n",
        "<text text-anchor=\"middle\" x=\"103.669\" y=\"-147.4\" font-family=\"Times,serif\" font-size=\"14.00\">R</text>\n",
        "</g>\n",
        "<!-- empty -->\n",
        "<g id=\"node11\" class=\"node\"><title>empty</title>\n",
        "<ellipse fill=\"none\" stroke=\"black\" cx=\"179\" cy=\"-108\" rx=\"35.2617\" ry=\"18\"/>\n",
        "<text text-anchor=\"middle\" x=\"179\" y=\"-102.4\" font-family=\"Times,serif\" font-size=\"14.00\">empty</text>\n",
        "</g>\n",
        "<!-- 25&#45;&gt;empty -->\n",
        "<g id=\"edge10\" class=\"edge\"><title>25&#45;&gt;empty</title>\n",
        "<path fill=\"none\" stroke=\"black\" d=\"M179,-179.614C179,-167.24 179,-150.369 179,-136.22\"/>\n",
        "<polygon fill=\"black\" stroke=\"black\" points=\"182.5,-136.05 179,-126.05 175.5,-136.05 182.5,-136.05\"/>\n",
        "<text text-anchor=\"middle\" x=\"183.276\" y=\"-147.4\" font-family=\"Times,serif\" font-size=\"14.00\">L</text>\n",
        "</g>\n",
        "<!-- 29 -->\n",
        "<g id=\"node13\" class=\"node\"><title>29</title>\n",
        "<ellipse fill=\"none\" stroke=\"black\" cx=\"259\" cy=\"-108\" rx=\"27\" ry=\"18\"/>\n",
        "<text text-anchor=\"middle\" x=\"259\" y=\"-102.4\" font-family=\"Times,serif\" font-size=\"14.00\">29</text>\n",
        "</g>\n",
        "<!-- 25&#45;&gt;29 -->\n",
        "<g id=\"edge12\" class=\"edge\"><title>25&#45;&gt;29</title>\n",
        "<path fill=\"none\" stroke=\"black\" d=\"M192.571,-182.072C205.174,-168.208 224.114,-147.375 238.549,-131.496\"/>\n",
        "<polygon fill=\"black\" stroke=\"black\" points=\"241.493,-133.461 245.63,-123.708 236.313,-128.753 241.493,-133.461\"/>\n",
        "<text text-anchor=\"middle\" x=\"231.669\" y=\"-147.4\" font-family=\"Times,serif\" font-size=\"14.00\">R</text>\n",
        "</g>\n",
        "<!-- empty2 -->\n",
        "<g id=\"node14\" class=\"node\"><title>empty2</title>\n",
        "<ellipse fill=\"none\" stroke=\"black\" cx=\"58\" cy=\"-18\" rx=\"35.2617\" ry=\"18\"/>\n",
        "<text text-anchor=\"middle\" x=\"58\" y=\"-12.4\" font-family=\"Times,serif\" font-size=\"14.00\">empty</text>\n",
        "</g>\n",
        "<!-- 15&#45;&gt;empty2 -->\n",
        "<g id=\"edge14\" class=\"edge\"><title>15&#45;&gt;empty2</title>\n",
        "<path fill=\"none\" stroke=\"black\" d=\"M91.2882,-90.4479C85.3133,-77.6236 76.9251,-59.6198 70.0641,-44.8936\"/>\n",
        "<polygon fill=\"black\" stroke=\"black\" points=\"73.2124,-43.3634 65.8166,-35.7771 66.8673,-46.3197 73.2124,-43.3634\"/>\n",
        "<text text-anchor=\"middle\" x=\"87.2759\" y=\"-57.4\" font-family=\"Times,serif\" font-size=\"14.00\">L</text>\n",
        "</g>\n",
        "<!-- 15.5 -->\n",
        "<g id=\"node17\" class=\"node\"><title>15.5</title>\n",
        "<ellipse fill=\"none\" stroke=\"black\" cx=\"139\" cy=\"-18\" rx=\"27.4055\" ry=\"18\"/>\n",
        "<text text-anchor=\"middle\" x=\"139\" y=\"-12.4\" font-family=\"Times,serif\" font-size=\"14.00\">15.5</text>\n",
        "</g>\n",
        "<!-- 15&#45;&gt;15.5 -->\n",
        "<g id=\"edge16\" class=\"edge\"><title>15&#45;&gt;15.5</title>\n",
        "<path fill=\"none\" stroke=\"black\" d=\"M106.524,-90.4479C112.39,-77.5419 120.641,-59.3902 127.358,-44.6126\"/>\n",
        "<polygon fill=\"black\" stroke=\"black\" points=\"130.558,-46.0299 131.51,-35.4779 124.186,-43.1332 130.558,-46.0299\"/>\n",
        "<text text-anchor=\"middle\" x=\"127.669\" y=\"-57.4\" font-family=\"Times,serif\" font-size=\"14.00\">R</text>\n",
        "</g>\n",
        "</g>\n",
        "</svg>\n"
       ]
      }
     ],
     "prompt_number": 44
    },
    {
     "cell_type": "code",
     "collapsed": false,
     "input": [
      "%%dot --format svg --\n",
      "digraph G {\n",
      "   16 -> 12 [label=\"L\"]; \n",
      "   16 -> 25 [label=\"R\"];\n",
      "   12 -> 11 [label=\"L\"];\n",
      "   12 -> 15 [label=\"R\"];\n",
      "   25 -> empty [label=\"L\"];\n",
      "   25 -> 29 [label=\"R\"];\n",
      "   empty2 [label=\"empty\"];\n",
      "   15 -> empty2 [label=\"L\"];\n",
      "   15 -> 15.5 [label=\"R\"];\n",
      "   empty3 [label=\"empty\"];\n",
      "   29 -> empty3 [label=\"L\"];\n",
      "   29 -> 30 [label=\"R\"];\n",
      "}"
     ],
     "language": "python",
     "metadata": {
      "slideshow": {
       "slide_type": "slide"
      }
     },
     "outputs": [
      {
       "output_type": "display_data",
       "svg": [
        "<?xml version=\"1.0\" encoding=\"UTF-8\" standalone=\"no\"?>\n",
        "<!DOCTYPE svg PUBLIC \"-//W3C//DTD SVG 1.1//EN\"\n",
        " \"http://www.w3.org/Graphics/SVG/1.1/DTD/svg11.dtd\">\n",
        "<!-- Generated by graphviz version 2.28.0 (20121121.2234)\n",
        " -->\n",
        "<!-- Title: G Pages: 1 -->\n",
        "<svg width=\"354pt\" height=\"314pt\"\n",
        " viewBox=\"0.00 0.00 354.00 314.00\" xmlns=\"http://www.w3.org/2000/svg\" xmlns:xlink=\"http://www.w3.org/1999/xlink\">\n",
        "<g id=\"graph1\" class=\"graph\" transform=\"scale(1 1) rotate(0) translate(4 310)\">\n",
        "<title>G</title>\n",
        "<polygon fill=\"white\" stroke=\"white\" points=\"-4,5 -4,-310 351,-310 351,5 -4,5\"/>\n",
        "<!-- 16 -->\n",
        "<g id=\"node1\" class=\"node\"><title>16</title>\n",
        "<ellipse fill=\"none\" stroke=\"black\" cx=\"145\" cy=\"-288\" rx=\"27\" ry=\"18\"/>\n",
        "<text text-anchor=\"middle\" x=\"145\" y=\"-282.4\" font-family=\"Times,serif\" font-size=\"14.00\">16</text>\n",
        "</g>\n",
        "<!-- 12 -->\n",
        "<g id=\"node3\" class=\"node\"><title>12</title>\n",
        "<ellipse fill=\"none\" stroke=\"black\" cx=\"99\" cy=\"-198\" rx=\"27\" ry=\"18\"/>\n",
        "<text text-anchor=\"middle\" x=\"99\" y=\"-192.4\" font-family=\"Times,serif\" font-size=\"14.00\">12</text>\n",
        "</g>\n",
        "<!-- 16&#45;&gt;12 -->\n",
        "<g id=\"edge2\" class=\"edge\"><title>16&#45;&gt;12</title>\n",
        "<path fill=\"none\" stroke=\"black\" d=\"M136.563,-270.859C129.797,-257.916 120.175,-239.508 112.363,-224.564\"/>\n",
        "<polygon fill=\"black\" stroke=\"black\" points=\"115.274,-222.577 107.539,-215.336 109.07,-225.82 115.274,-222.577\"/>\n",
        "<text text-anchor=\"middle\" x=\"131.276\" y=\"-237.4\" font-family=\"Times,serif\" font-size=\"14.00\">L</text>\n",
        "</g>\n",
        "<!-- 25 -->\n",
        "<g id=\"node5\" class=\"node\"><title>25</title>\n",
        "<ellipse fill=\"none\" stroke=\"black\" cx=\"179\" cy=\"-198\" rx=\"27\" ry=\"18\"/>\n",
        "<text text-anchor=\"middle\" x=\"179\" y=\"-192.4\" font-family=\"Times,serif\" font-size=\"14.00\">25</text>\n",
        "</g>\n",
        "<!-- 16&#45;&gt;25 -->\n",
        "<g id=\"edge4\" class=\"edge\"><title>16&#45;&gt;25</title>\n",
        "<path fill=\"none\" stroke=\"black\" d=\"M151.395,-270.448C156.303,-257.746 163.174,-239.962 168.833,-225.315\"/>\n",
        "<polygon fill=\"black\" stroke=\"black\" points=\"172.179,-226.367 172.518,-215.777 165.649,-223.844 172.179,-226.367\"/>\n",
        "<text text-anchor=\"middle\" x=\"170.669\" y=\"-237.4\" font-family=\"Times,serif\" font-size=\"14.00\">R</text>\n",
        "</g>\n",
        "<!-- 11 -->\n",
        "<g id=\"node7\" class=\"node\"><title>11</title>\n",
        "<ellipse fill=\"none\" stroke=\"black\" cx=\"27\" cy=\"-108\" rx=\"27\" ry=\"18\"/>\n",
        "<text text-anchor=\"middle\" x=\"27\" y=\"-102.4\" font-family=\"Times,serif\" font-size=\"14.00\">11</text>\n",
        "</g>\n",
        "<!-- 12&#45;&gt;11 -->\n",
        "<g id=\"edge6\" class=\"edge\"><title>12&#45;&gt;11</title>\n",
        "<path fill=\"none\" stroke=\"black\" d=\"M86.4586,-181.672C75.3083,-168.043 58.8401,-147.916 46.0607,-132.296\"/>\n",
        "<polygon fill=\"black\" stroke=\"black\" points=\"48.439,-129.676 39.3977,-124.153 43.0213,-134.109 48.439,-129.676\"/>\n",
        "<text text-anchor=\"middle\" x=\"74.2759\" y=\"-147.4\" font-family=\"Times,serif\" font-size=\"14.00\">L</text>\n",
        "</g>\n",
        "<!-- 15 -->\n",
        "<g id=\"node9\" class=\"node\"><title>15</title>\n",
        "<ellipse fill=\"none\" stroke=\"black\" cx=\"99\" cy=\"-108\" rx=\"27\" ry=\"18\"/>\n",
        "<text text-anchor=\"middle\" x=\"99\" y=\"-102.4\" font-family=\"Times,serif\" font-size=\"14.00\">15</text>\n",
        "</g>\n",
        "<!-- 12&#45;&gt;15 -->\n",
        "<g id=\"edge8\" class=\"edge\"><title>12&#45;&gt;15</title>\n",
        "<path fill=\"none\" stroke=\"black\" d=\"M99,-179.614C99,-167.24 99,-150.369 99,-136.22\"/>\n",
        "<polygon fill=\"black\" stroke=\"black\" points=\"102.5,-136.05 99,-126.05 95.5001,-136.05 102.5,-136.05\"/>\n",
        "<text text-anchor=\"middle\" x=\"103.669\" y=\"-147.4\" font-family=\"Times,serif\" font-size=\"14.00\">R</text>\n",
        "</g>\n",
        "<!-- empty -->\n",
        "<g id=\"node11\" class=\"node\"><title>empty</title>\n",
        "<ellipse fill=\"none\" stroke=\"black\" cx=\"179\" cy=\"-108\" rx=\"35.2617\" ry=\"18\"/>\n",
        "<text text-anchor=\"middle\" x=\"179\" y=\"-102.4\" font-family=\"Times,serif\" font-size=\"14.00\">empty</text>\n",
        "</g>\n",
        "<!-- 25&#45;&gt;empty -->\n",
        "<g id=\"edge10\" class=\"edge\"><title>25&#45;&gt;empty</title>\n",
        "<path fill=\"none\" stroke=\"black\" d=\"M179,-179.614C179,-167.24 179,-150.369 179,-136.22\"/>\n",
        "<polygon fill=\"black\" stroke=\"black\" points=\"182.5,-136.05 179,-126.05 175.5,-136.05 182.5,-136.05\"/>\n",
        "<text text-anchor=\"middle\" x=\"183.276\" y=\"-147.4\" font-family=\"Times,serif\" font-size=\"14.00\">L</text>\n",
        "</g>\n",
        "<!-- 29 -->\n",
        "<g id=\"node13\" class=\"node\"><title>29</title>\n",
        "<ellipse fill=\"none\" stroke=\"black\" cx=\"259\" cy=\"-108\" rx=\"27\" ry=\"18\"/>\n",
        "<text text-anchor=\"middle\" x=\"259\" y=\"-102.4\" font-family=\"Times,serif\" font-size=\"14.00\">29</text>\n",
        "</g>\n",
        "<!-- 25&#45;&gt;29 -->\n",
        "<g id=\"edge12\" class=\"edge\"><title>25&#45;&gt;29</title>\n",
        "<path fill=\"none\" stroke=\"black\" d=\"M192.571,-182.072C205.174,-168.208 224.114,-147.375 238.549,-131.496\"/>\n",
        "<polygon fill=\"black\" stroke=\"black\" points=\"241.493,-133.461 245.63,-123.708 236.313,-128.753 241.493,-133.461\"/>\n",
        "<text text-anchor=\"middle\" x=\"231.669\" y=\"-147.4\" font-family=\"Times,serif\" font-size=\"14.00\">R</text>\n",
        "</g>\n",
        "<!-- empty2 -->\n",
        "<g id=\"node14\" class=\"node\"><title>empty2</title>\n",
        "<ellipse fill=\"none\" stroke=\"black\" cx=\"38\" cy=\"-18\" rx=\"35.2617\" ry=\"18\"/>\n",
        "<text text-anchor=\"middle\" x=\"38\" y=\"-12.4\" font-family=\"Times,serif\" font-size=\"14.00\">empty</text>\n",
        "</g>\n",
        "<!-- 15&#45;&gt;empty2 -->\n",
        "<g id=\"edge14\" class=\"edge\"><title>15&#45;&gt;empty2</title>\n",
        "<path fill=\"none\" stroke=\"black\" d=\"M88.0944,-91.2674C78.9274,-78.0429 65.6652,-58.9105 55.0892,-43.6533\"/>\n",
        "<polygon fill=\"black\" stroke=\"black\" points=\"57.7974,-41.4164 49.2239,-35.1918 52.0444,-45.4043 57.7974,-41.4164\"/>\n",
        "<text text-anchor=\"middle\" x=\"78.2759\" y=\"-57.4\" font-family=\"Times,serif\" font-size=\"14.00\">L</text>\n",
        "</g>\n",
        "<!-- 15.5 -->\n",
        "<g id=\"node17\" class=\"node\"><title>15.5</title>\n",
        "<ellipse fill=\"none\" stroke=\"black\" cx=\"119\" cy=\"-18\" rx=\"27.4055\" ry=\"18\"/>\n",
        "<text text-anchor=\"middle\" x=\"119\" y=\"-12.4\" font-family=\"Times,serif\" font-size=\"14.00\">15.5</text>\n",
        "</g>\n",
        "<!-- 15&#45;&gt;15.5 -->\n",
        "<g id=\"edge16\" class=\"edge\"><title>15&#45;&gt;15.5</title>\n",
        "<path fill=\"none\" stroke=\"black\" d=\"M102.856,-90.0327C105.706,-77.4934 109.643,-60.1718 112.915,-45.773\"/>\n",
        "<polygon fill=\"black\" stroke=\"black\" points=\"116.352,-46.4422 115.156,-35.9152 109.526,-44.8908 116.352,-46.4422\"/>\n",
        "<text text-anchor=\"middle\" x=\"115.669\" y=\"-57.4\" font-family=\"Times,serif\" font-size=\"14.00\">R</text>\n",
        "</g>\n",
        "<!-- empty3 -->\n",
        "<g id=\"node18\" class=\"node\"><title>empty3</title>\n",
        "<ellipse fill=\"none\" stroke=\"black\" cx=\"239\" cy=\"-18\" rx=\"35.2617\" ry=\"18\"/>\n",
        "<text text-anchor=\"middle\" x=\"239\" y=\"-12.4\" font-family=\"Times,serif\" font-size=\"14.00\">empty</text>\n",
        "</g>\n",
        "<!-- 29&#45;&gt;empty3 -->\n",
        "<g id=\"edge18\" class=\"edge\"><title>29&#45;&gt;empty3</title>\n",
        "<path fill=\"none\" stroke=\"black\" d=\"M255.144,-90.0327C252.294,-77.4934 248.357,-60.1718 245.085,-45.773\"/>\n",
        "<polygon fill=\"black\" stroke=\"black\" points=\"248.474,-44.8908 242.844,-35.9152 241.648,-46.4422 248.474,-44.8908\"/>\n",
        "<text text-anchor=\"middle\" x=\"255.276\" y=\"-57.4\" font-family=\"Times,serif\" font-size=\"14.00\">L</text>\n",
        "</g>\n",
        "<!-- 30 -->\n",
        "<g id=\"node21\" class=\"node\"><title>30</title>\n",
        "<ellipse fill=\"none\" stroke=\"black\" cx=\"319\" cy=\"-18\" rx=\"27\" ry=\"18\"/>\n",
        "<text text-anchor=\"middle\" x=\"319\" y=\"-12.4\" font-family=\"Times,serif\" font-size=\"14.00\">30</text>\n",
        "</g>\n",
        "<!-- 29&#45;&gt;30 -->\n",
        "<g id=\"edge20\" class=\"edge\"><title>29&#45;&gt;30</title>\n",
        "<path fill=\"none\" stroke=\"black\" d=\"M269.727,-91.2674C278.856,-77.8776 292.115,-58.4312 302.58,-43.0829\"/>\n",
        "<polygon fill=\"black\" stroke=\"black\" points=\"305.624,-44.8304 308.366,-34.5964 299.841,-40.887 305.624,-44.8304\"/>\n",
        "<text text-anchor=\"middle\" x=\"298.669\" y=\"-57.4\" font-family=\"Times,serif\" font-size=\"14.00\">R</text>\n",
        "</g>\n",
        "</g>\n",
        "</svg>\n"
       ]
      }
     ],
     "prompt_number": 45
    },
    {
     "cell_type": "markdown",
     "metadata": {
      "slideshow": {
       "slide_type": "slide"
      }
     },
     "source": [
      "<img src=\"files/images/blueclicker.png\" width=200 style='float: left;'>\n",
      "<style type=\"text/css\">\n",
      "    ol { list-style-type: upper-alpha !important; }\n",
      "</style>\n",
      "If you add 20 to this tree, where does it go?\n",
      "\n",
      "<svg width=\"337pt\" height=\"388pt\" viewBox=\"0.00 0.00 337.00 388.00\" xmlns=\"http://www.w3.org/2000/svg\" xlink=\"http://www.w3.org/1999/xlink\">\n",
      "<g id=\"graph1\" class=\"graph\" transform=\"scale(1 1) rotate(0) translate(4 384)\">\n",
      "<title>G</title>\n",
      "<polygon fill=\"white\" stroke=\"white\" points=\"-4,5 -4,-384 334,-384 334,5 -4,5\"></polygon>\n",
      "<!-- 16 -->\n",
      "<g id=\"node1\" class=\"node\"><title>16</title>\n",
      "<ellipse fill=\"none\" stroke=\"black\" cx=\"140\" cy=\"-362\" rx=\"27\" ry=\"18\"></ellipse>\n",
      "<text text-anchor=\"middle\" x=\"140\" y=\"-356.4\" font-family=\"Times,serif\" font-size=\"14.00\">16</text>\n",
      "</g>\n",
      "<!-- 12 -->\n",
      "<g id=\"node3\" class=\"node\"><title>12</title>\n",
      "<ellipse fill=\"none\" stroke=\"black\" cx=\"99\" cy=\"-272\" rx=\"27\" ry=\"18\"></ellipse>\n",
      "<text text-anchor=\"middle\" x=\"99\" y=\"-266.4\" font-family=\"Times,serif\" font-size=\"14.00\">12</text>\n",
      "</g>\n",
      "<!-- 16&#45;&gt;12 -->\n",
      "<g id=\"edge2\" class=\"edge\"><title>16-&gt;12</title>\n",
      "<path fill=\"none\" stroke=\"black\" d=\"M132.288,-344.448C126.275,-331.542 117.818,-313.39 110.933,-298.613\"></path>\n",
      "<polygon fill=\"black\" stroke=\"black\" points=\"114.073,-297.064 106.677,-289.478 107.728,-300.021 114.073,-297.064\"></polygon>\n",
      "<text text-anchor=\"middle\" x=\"128.276\" y=\"-311.4\" font-family=\"Times,serif\" font-size=\"14.00\">L</text>\n",
      "</g>\n",
      "<!-- 25 -->\n",
      "<g id=\"node5\" class=\"node\"><title>25</title>\n",
      "<ellipse fill=\"none\" stroke=\"black\" cx=\"171\" cy=\"-272\" rx=\"27\" ry=\"18\"></ellipse>\n",
      "<text text-anchor=\"middle\" x=\"171\" y=\"-266.4\" font-family=\"Times,serif\" font-size=\"14.00\">25</text>\n",
      "</g>\n",
      "<!-- 16&#45;&gt;25 -->\n",
      "<g id=\"edge4\" class=\"edge\"><title>16-&gt;25</title>\n",
      "<path fill=\"none\" stroke=\"black\" d=\"M145.977,-344.033C150.466,-331.291 156.694,-313.61 161.814,-299.076\"></path>\n",
      "<polygon fill=\"black\" stroke=\"black\" points=\"165.125,-300.212 165.146,-289.617 158.523,-297.886 165.125,-300.212\"></polygon>\n",
      "<text text-anchor=\"middle\" x=\"163.669\" y=\"-311.4\" font-family=\"Times,serif\" font-size=\"14.00\">R</text>\n",
      "</g>\n",
      "<!-- 11 -->\n",
      "<g id=\"node7\" class=\"node\"><title>11</title>\n",
      "<ellipse fill=\"none\" stroke=\"black\" cx=\"27\" cy=\"-182\" rx=\"27\" ry=\"18\"></ellipse>\n",
      "<text text-anchor=\"middle\" x=\"27\" y=\"-176.4\" font-family=\"Times,serif\" font-size=\"14.00\">11</text>\n",
      "</g>\n",
      "<!-- 12&#45;&gt;11 -->\n",
      "<g id=\"edge6\" class=\"edge\"><title>12-&gt;11</title>\n",
      "<path fill=\"none\" stroke=\"black\" d=\"M86.4586,-255.672C75.3083,-242.043 58.8401,-221.916 46.0607,-206.296\"></path>\n",
      "<polygon fill=\"black\" stroke=\"black\" points=\"48.439,-203.676 39.3977,-198.153 43.0213,-208.109 48.439,-203.676\"></polygon>\n",
      "<text text-anchor=\"middle\" x=\"74.2759\" y=\"-221.4\" font-family=\"Times,serif\" font-size=\"14.00\">L</text>\n",
      "</g>\n",
      "<!-- 15 -->\n",
      "<g id=\"node9\" class=\"node\"><title>15</title>\n",
      "<ellipse fill=\"none\" stroke=\"black\" cx=\"99\" cy=\"-182\" rx=\"27\" ry=\"18\"></ellipse>\n",
      "<text text-anchor=\"middle\" x=\"99\" y=\"-176.4\" font-family=\"Times,serif\" font-size=\"14.00\">15</text>\n",
      "</g>\n",
      "<!-- 12&#45;&gt;15 -->\n",
      "<g id=\"edge8\" class=\"edge\"><title>12-&gt;15</title>\n",
      "<path fill=\"none\" stroke=\"black\" d=\"M99,-253.614C99,-241.24 99,-224.369 99,-210.22\"></path>\n",
      "<polygon fill=\"black\" stroke=\"black\" points=\"102.5,-210.05 99,-200.05 95.5001,-210.05 102.5,-210.05\"></polygon>\n",
      "<text text-anchor=\"middle\" x=\"103.669\" y=\"-221.4\" font-family=\"Times,serif\" font-size=\"14.00\">R</text>\n",
      "</g>\n",
      "<!-- C -->\n",
      "<g id=\"node11\" class=\"node\"><title>C</title>\n",
      "<ellipse fill=\"none\" stroke=\"black\" cx=\"171\" cy=\"-182\" rx=\"27\" ry=\"18\"></ellipse>\n",
      "<text text-anchor=\"middle\" x=\"171\" y=\"-176.4\" font-family=\"Times,serif\" font-size=\"14.00\">C</text>\n",
      "</g>\n",
      "<!-- 25&#45;&gt;C -->\n",
      "<g id=\"edge10\" class=\"edge\"><title>25-&gt;C</title>\n",
      "<path fill=\"none\" stroke=\"red\" d=\"M171,-253.614C171,-241.24 171,-224.369 171,-210.22\"></path>\n",
      "<polygon fill=\"red\" stroke=\"red\" points=\"174.5,-210.05 171,-200.05 167.5,-210.05 174.5,-210.05\"></polygon>\n",
      "<text text-anchor=\"middle\" x=\"175.276\" y=\"-221.4\" font-family=\"Times,serif\" font-size=\"14.00\">L</text>\n",
      "</g>\n",
      "<!-- 29 -->\n",
      "<g id=\"node13\" class=\"node\"><title>29</title>\n",
      "<ellipse fill=\"none\" stroke=\"black\" cx=\"243\" cy=\"-182\" rx=\"27\" ry=\"18\"></ellipse>\n",
      "<text text-anchor=\"middle\" x=\"243\" y=\"-176.4\" font-family=\"Times,serif\" font-size=\"14.00\">29</text>\n",
      "</g>\n",
      "<!-- 25&#45;&gt;29 -->\n",
      "<g id=\"edge12\" class=\"edge\"><title>25-&gt;29</title>\n",
      "<path fill=\"none\" stroke=\"black\" d=\"M183.541,-255.672C194.692,-242.043 211.16,-221.916 223.939,-206.296\"></path>\n",
      "<polygon fill=\"black\" stroke=\"black\" points=\"226.979,-208.109 230.602,-198.153 221.561,-203.676 226.979,-208.109\"></polygon>\n",
      "<text text-anchor=\"middle\" x=\"218.669\" y=\"-221.4\" font-family=\"Times,serif\" font-size=\"14.00\">R</text>\n",
      "</g>\n",
      "<!-- D -->\n",
      "<g id=\"node16\" class=\"node\"><title>D</title>\n",
      "<ellipse fill=\"none\" stroke=\"black\" cx=\"59\" cy=\"-92\" rx=\"27\" ry=\"18\"></ellipse>\n",
      "<text text-anchor=\"middle\" x=\"59\" y=\"-86.4\" font-family=\"Times,serif\" font-size=\"14.00\">D</text>\n",
      "</g>\n",
      "<!-- 15&#45;&gt;D -->\n",
      "<g id=\"edge14\" class=\"edge\"><title>15-&gt;D</title>\n",
      "<path fill=\"none\" stroke=\"red\" d=\"M91.4763,-164.448C85.61,-151.542 77.3592,-133.39 70.6421,-118.613\"></path>\n",
      "<polygon fill=\"red\" stroke=\"red\" points=\"73.8143,-117.133 66.49,-109.478 67.4418,-120.03 73.8143,-117.133\"></polygon>\n",
      "<text text-anchor=\"middle\" x=\"87.2759\" y=\"-131.4\" font-family=\"Times,serif\" font-size=\"14.00\">L</text>\n",
      "</g>\n",
      "<!-- 15.5 -->\n",
      "<g id=\"node18\" class=\"node\"><title>15.5</title>\n",
      "<ellipse fill=\"none\" stroke=\"black\" cx=\"132\" cy=\"-92\" rx=\"27.4055\" ry=\"18\"></ellipse>\n",
      "<text text-anchor=\"middle\" x=\"132\" y=\"-86.4\" font-family=\"Times,serif\" font-size=\"14.00\">15.5</text>\n",
      "</g>\n",
      "<!-- 15&#45;&gt;15.5 -->\n",
      "<g id=\"edge16\" class=\"edge\"><title>15-&gt;15.5</title>\n",
      "<path fill=\"none\" stroke=\"black\" d=\"M105.207,-164.448C109.97,-151.746 116.639,-133.962 122.132,-119.315\"></path>\n",
      "<polygon fill=\"black\" stroke=\"black\" points=\"125.474,-120.369 125.709,-109.777 118.92,-117.911 125.474,-120.369\"></polygon>\n",
      "<text text-anchor=\"middle\" x=\"123.669\" y=\"-131.4\" font-family=\"Times,serif\" font-size=\"14.00\">R</text>\n",
      "</g>\n",
      "<!-- E -->\n",
      "<g id=\"node20\" class=\"node\"><title>E</title>\n",
      "<ellipse fill=\"none\" stroke=\"black\" cx=\"230\" cy=\"-92\" rx=\"27\" ry=\"18\"></ellipse>\n",
      "<text text-anchor=\"middle\" x=\"230\" y=\"-86.4\" font-family=\"Times,serif\" font-size=\"14.00\">E</text>\n",
      "</g>\n",
      "<!-- 29&#45;&gt;E -->\n",
      "<g id=\"edge18\" class=\"edge\"><title>29-&gt;E</title>\n",
      "<path fill=\"none\" stroke=\"red\" d=\"M240.493,-164.033C238.671,-151.695 236.164,-134.727 234.058,-120.469\"></path>\n",
      "<polygon fill=\"red\" stroke=\"red\" points=\"237.467,-119.597 232.543,-110.215 230.542,-120.62 237.467,-119.597\"></polygon>\n",
      "<text text-anchor=\"middle\" x=\"242.276\" y=\"-131.4\" font-family=\"Times,serif\" font-size=\"14.00\">L</text>\n",
      "</g>\n",
      "<!-- 30 -->\n",
      "<g id=\"node22\" class=\"node\"><title>30</title>\n",
      "<ellipse fill=\"none\" stroke=\"black\" cx=\"302\" cy=\"-92\" rx=\"27\" ry=\"18\"></ellipse>\n",
      "<text text-anchor=\"middle\" x=\"302\" y=\"-86.4\" font-family=\"Times,serif\" font-size=\"14.00\">30</text>\n",
      "</g>\n",
      "<!-- 29&#45;&gt;30 -->\n",
      "<g id=\"edge20\" class=\"edge\"><title>29-&gt;30</title>\n",
      "<path fill=\"none\" stroke=\"black\" d=\"M253.548,-165.267C262.525,-151.878 275.563,-132.431 285.853,-117.083\"></path>\n",
      "<polygon fill=\"black\" stroke=\"black\" points=\"288.882,-118.851 291.543,-108.596 283.067,-114.953 288.882,-118.851\"></polygon>\n",
      "<text text-anchor=\"middle\" x=\"281.669\" y=\"-131.4\" font-family=\"Times,serif\" font-size=\"14.00\">R</text>\n",
      "</g>\n",
      "<!-- A -->\n",
      "<g id=\"node24\" class=\"node\"><title>A</title>\n",
      "<ellipse fill=\"none\" stroke=\"black\" cx=\"96\" cy=\"-18\" rx=\"27\" ry=\"18\"></ellipse>\n",
      "<text text-anchor=\"middle\" x=\"96\" y=\"-12.4\" font-family=\"Times,serif\" font-size=\"14.00\">A</text>\n",
      "</g>\n",
      "<!-- 15.5&#45;&gt;A -->\n",
      "<g id=\"edge22\" class=\"edge\"><title>15.5-&gt;A</title>\n",
      "<path fill=\"none\" stroke=\"red\" d=\"M123.831,-74.6621C119.366,-65.7326 113.737,-54.475 108.712,-44.4243\"></path>\n",
      "<polygon fill=\"red\" stroke=\"red\" points=\"111.739,-42.6523 104.137,-35.2733 105.478,-45.7828 111.739,-42.6523\"></polygon>\n",
      "</g>\n",
      "<!-- B -->\n",
      "<g id=\"node26\" class=\"node\"><title>B</title>\n",
      "<ellipse fill=\"none\" stroke=\"black\" cx=\"168\" cy=\"-18\" rx=\"27\" ry=\"18\"></ellipse>\n",
      "<text text-anchor=\"middle\" x=\"168\" y=\"-12.4\" font-family=\"Times,serif\" font-size=\"14.00\">B</text>\n",
      "</g>\n",
      "<!-- 15.5&#45;&gt;B -->\n",
      "<g id=\"edge24\" class=\"edge\"><title>15.5-&gt;B</title>\n",
      "<path fill=\"none\" stroke=\"red\" d=\"M140.169,-74.6621C144.634,-65.7326 150.263,-54.475 155.288,-44.4243\"></path>\n",
      "<polygon fill=\"red\" stroke=\"red\" points=\"158.522,-45.7828 159.863,-35.2733 152.261,-42.6523 158.522,-45.7828\"></polygon>\n",
      "</g>\n",
      "</g>\n",
      "</svg>"
     ]
    },
    {
     "cell_type": "markdown",
     "metadata": {
      "slideshow": {
       "slide_type": "slide"
      }
     },
     "source": [
      "If you want to traverse the tree, recursion is an effective approach.  \n",
      "\n",
      "Using \"depth-first\" traversal (i.e., go all the way to the bottom before doing anything), you recover all the values in the binary sort tree in the correct order.  \n",
      "\n",
      "You could do this by having a recursive function that appends values to a list (append means add to the end).\n",
      "\n",
      "However, we're not going to make use of the binary tree structure right now, this is just to show you what one is."
     ]
    },
    {
     "cell_type": "markdown",
     "metadata": {
      "slideshow": {
       "slide_type": "slide"
      }
     },
     "source": [
      "Recursion in compilers\n",
      "=========\n",
      "\n",
      "One use that actually occurs reasonably often is in code compilers.  \n",
      "\n",
      "In order to ensure operator precedence (i.e., make sure that `1+2*3=7` instead of `9`), you can evaluate expressions recursively in a *binary tree*.  \n",
      "\n",
      "In the following example, the nodes must all have *operations* in the __branches__ and *variables* in the __leaves__.\n",
      "\n",
      "<img src=\"data:image/png;base64,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\">"
     ]
    },
    {
     "cell_type": "code",
     "collapsed": false,
     "input": [
      "%%dot --format png -- \n",
      "/* QUIRREL  (a+b*c)+5 */\n",
      "digraph G { \n",
      "    P [label=\"+\"];\n",
      "    five [label=\"5\"];\n",
      "    plus [label=\"+\"];\n",
      "    times [label=\"*\"];\n",
      "    P->plus;\n",
      "    P->five;\n",
      "    plus->a;\n",
      "    plus->times;\n",
      "    times->b;\n",
      "    times->c;\n",
      "}"
     ],
     "language": "python",
     "metadata": {
      "slideshow": {
       "slide_type": "skip"
      }
     },
     "outputs": [
      {
       "output_type": "display_data",
       "png": "[encoded data removed]"
      }
     ],
     "prompt_number": 46
    },
    {
     "cell_type": "markdown",
     "metadata": {
      "slideshow": {
       "slide_type": "slide"
      }
     },
     "source": [
      "Image Analysis\n",
      "==============\n",
      "\n",
      "One of the final project options will be to develop an image photometry package.\n",
      "\n",
      "Before we get to that, thought, I need to show you some image display and analysis tools."
     ]
    },
    {
     "cell_type": "code",
     "collapsed": false,
     "input": [
      "# we have to load some modules to get images \n",
      "from IPython.display import Image\n",
      "import PIL, StringIO\n",
      "url='http://apod.nasa.gov/apod/image/0301/m38_noao.jpg'\n",
      "img = Image(url=url,embed=True) # grab image from the web\n",
      "I = PIL.Image.open(StringIO.StringIO(img.data)) # this only works in IPython\n",
      "I = PIL.Image.open(StringIO.StringIO(urllib.urlopen(url).read())) # This works in any python\n",
      "imgarr = array(I) # Turn a JPG image into a numpy array\n",
      "imshow(imgarr)\n",
      "starryimg = imgarr[:,:,0]"
     ],
     "language": "python",
     "metadata": {
      "slideshow": {
       "slide_type": "slide"
      }
     },
     "outputs": [
      {
       "output_type": "pyout",
       "prompt_number": 47,
       "text": [
        "<matplotlib.image.AxesImage at 0x1070b3a10>"
       ]
      },
      {
       "output_type": "display_data",
       "png": "[encoded data removed]",
       "text": [
        "<matplotlib.figure.Figure at 0x107343e10>"
       ]
      }
     ],
     "prompt_number": 47
    },
    {
     "cell_type": "code",
     "collapsed": false,
     "input": [
      "# What shape is the image we just grabbed?\n",
      "imgarr.shape"
     ],
     "language": "python",
     "metadata": {
      "slideshow": {
       "slide_type": "slide"
      }
     },
     "outputs": [
      {
       "output_type": "pyout",
       "prompt_number": 48,
       "text": [
        "(417, 650, 3)"
       ]
      }
     ],
     "prompt_number": 48
    },
    {
     "cell_type": "markdown",
     "metadata": {
      "slideshow": {
       "slide_type": "slide"
      }
     },
     "source": [
      "IDL version:\n",
      "    \n",
      "    read_jpeg,'m38_noao.jpg',imgarr\n",
      "    help,imgarr\n",
      "    \n",
      "    JPG             BYTE      = Array[3, 650, 417]"
     ]
    },
    {
     "cell_type": "code",
     "collapsed": false,
     "input": [
      "# imgarr is an RGB cube.  \n",
      "# Let's look at histograms of the values\n",
      "figure(); hist(imgarr[:,:,0].ravel())\n",
      "figure(); hist(imgarr[:,:,1].ravel())\n",
      "figure(); hist(imgarr[:,:,2].ravel())"
     ],
     "language": "python",
     "metadata": {
      "slideshow": {
       "slide_type": "slide"
      }
     },
     "outputs": [
      {
       "output_type": "pyout",
       "prompt_number": 49,
       "text": [
        "(array([ 55945, 155541,  28933,   9891,   6026,   4079,   3214,   2451,\n",
        "         2170,   2800]),\n",
        " array([   0. ,   25.5,   51. ,   76.5,  102. ,  127.5,  153. ,  178.5,\n",
        "        204. ,  229.5,  255. ]),\n",
        " <a list of 10 Patch objects>)"
       ]
      },
      {
       "output_type": "display_data",
       "png": "[encoded data removed]",
       "text": [
        "<matplotlib.figure.Figure at 0x1073540d0>"
       ]
      },
      {
       "output_type": "display_data",
       "png": "[encoded data removed]",
       "text": [
        "<matplotlib.figure.Figure at 0x107346a50>"
       ]
      },
      {
       "output_type": "display_data",
       "png": "[encoded data removed]",
       "text": [
        "<matplotlib.figure.Figure at 0x1073918d0>"
       ]
      }
     ],
     "prompt_number": 49
    },
    {
     "cell_type": "markdown",
     "metadata": {
      "slideshow": {
       "slide_type": "slide"
      }
     },
     "source": [
      "There are a few things you might want to know about a star:  \n",
      "\n",
      "  1. How bright is it?\n",
      "  2. Where is it?\n",
      "\n",
      "We can determine these. "
     ]
    },
    {
     "cell_type": "markdown",
     "metadata": {
      "slideshow": {
       "slide_type": "slide"
      }
     },
     "source": [
      "We'll follow the following procedure:\n",
      "\n",
      "  1. Find the approximate location of the star\n",
      "  2. \"Crop out\" part of the image containing the star (and hopefully not containing any other stars!)\n",
      "  3. Try to measure the *exact* center of the star by \"centroiding\""
     ]
    },
    {
     "cell_type": "code",
     "collapsed": false,
     "input": [
      "# first, let's find the approximate center of a star\n",
      "# we'll find the brightest star using \"argmax\"\n",
      "maxpoint = np.argmax(starryimg)\n",
      "print maxpoint\n",
      "# IDL: m = max(starryimg,maxpoint)"
     ],
     "language": "python",
     "metadata": {
      "slideshow": {
       "slide_type": "slide"
      }
     },
     "outputs": [
      {
       "output_type": "stream",
       "stream": "stdout",
       "text": [
        "11297\n"
       ]
      }
     ],
     "prompt_number": 59
    },
    {
     "cell_type": "code",
     "collapsed": false,
     "input": [
      "# That's a \"one-dimensional\" maximal point, which isn't really helpful\n",
      "# unravel_index can get us the 2D maximum\n",
      "ymax,xmax = np.unravel_index(maxpoint, starryimg.shape)\n",
      "print xmax,ymax\n",
      "# IDL: print,array_indices(starryimg, maxpoint)"
     ],
     "language": "python",
     "metadata": {
      "slideshow": {
       "slide_type": "slide"
      }
     },
     "outputs": [
      {
       "output_type": "stream",
       "stream": "stdout",
       "text": [
        "33 88\n"
       ]
      }
     ],
     "prompt_number": 60
    },
    {
     "cell_type": "code",
     "collapsed": false,
     "input": [
      "# That's more useful\n",
      "# We know from our star-making code above that stars are 10 pixels by 10 pixels\n",
      "# However, we also know they're not centered on a pixel\n",
      "# So let's extract an 11x11 pixel box around the star\n",
      "hbs = half_box_size = 5\n",
      "mystar = starryimg[ymax-hbs:ymax+hbs+1, xmax-hbs:xmax+hbs+1]\n",
      "imshow(mystar)\n",
      "# IDL: Same, except:\n",
      "# i = image(mystar)"
     ],
     "language": "python",
     "metadata": {
      "slideshow": {
       "slide_type": "slide"
      }
     },
     "outputs": [
      {
       "output_type": "pyout",
       "prompt_number": 61,
       "text": [
        "<matplotlib.image.AxesImage at 0x10877e390>"
       ]
      },
      {
       "output_type": "display_data",
       "png": "[encoded data removed]",
       "text": [
        "<matplotlib.figure.Figure at 0x107f55cd0>"
       ]
      }
     ],
     "prompt_number": 61
    },
    {
     "cell_type": "markdown",
     "metadata": {
      "slideshow": {
       "slide_type": "slide"
      }
     },
     "source": [
      "In order to find the exact center of the star, we want to compute the \"centroid\", which is the first moment of the star's position or the \"center of mass\" of the star.  To do this, we'll take a weighted sum along the different axes of the image.  I'll start with a 1-dimensional demonstration, though."
     ]
    },
    {
     "cell_type": "markdown",
     "metadata": {
      "slideshow": {
       "slide_type": "slide"
      }
     },
     "source": [
      "More formal information about the centroid:\n",
      "    \n",
      "The \"centroid\" is the middle point inside a star.  It has definitions outside of astronomy, but that's what it means for us.\n"
     ]
    },
    {
     "cell_type": "markdown",
     "metadata": {
      "slideshow": {
       "slide_type": "slide"
      }
     },
     "source": [
      "\n",
      "The centroid is the first \"moment\" of a function.  Moments are just special sums, defined like this:\n",
      "\n",
      "$$M_{0} = \\sum_{x} \\sum_{y} f(x,y)$$\n",
      "$$M_{x} = \\sum_{x} \\sum_{y} (x) f(x,y)$$\n",
      "$$M_{y} = \\sum_{x} \\sum_{y} (y) f(x,y)$$\n",
      "\n"
     ]
    },
    {
     "cell_type": "markdown",
     "metadata": {
      "slideshow": {
       "slide_type": "slide"
      }
     },
     "source": [
      "Where $f(x,y)$ represents your image (which is, in some sense, \"flux as a function of x and y position\"), $x$ and $y$ represent the x and y coordinate of each pixel, and $M_{x}$ and $M_{y}$ are the \"central moments\".  \n",
      "\n",
      "The centroid, or center pixel of the star is given by:\n",
      "$$\\mu_{x} = \\frac{M_{x}}{M_{0}}$$\n",
      "$$\\mu_{y} = \\frac{M_{y}}{M_{0}}$$"
     ]
    },
    {
     "cell_type": "code",
     "collapsed": false,
     "input": [
      "# We'll plot a 1-dimensional \"slice\" through a star\n",
      "# Stars are approximately Gaussians in normal images\n",
      "xax = np.linspace(-5,5,50)\n",
      "yax = np.exp(-(xax-0.25)**2/2.)\n",
      "plot(xax,yax)\n",
      "# IDL> xax = findgen(50)/49.*10-5\n",
      "# IDL> yax = exp(-(xax-0.25)^2/2.)\n",
      "# IDL> p = plot(xax,yax)"
     ],
     "language": "python",
     "metadata": {
      "slideshow": {
       "slide_type": "slide"
      }
     },
     "outputs": [
      {
       "output_type": "pyout",
       "prompt_number": 62,
       "text": [
        "[<matplotlib.lines.Line2D at 0x109102c10>]"
       ]
      },
      {
       "output_type": "display_data",
       "png": "[encoded data removed]",
       "text": [
        "<matplotlib.figure.Figure at 0x108492190>"
       ]
      }
     ],
     "prompt_number": 62
    },
    {
     "cell_type": "code",
     "collapsed": false,
     "input": [
      "# the \"centroid\" is the weighted average of the X values\n",
      "# http://en.wikipedia.org/wiki/Weighted_mean\n",
      "weighted_mean = (xax*yax).sum() / yax.sum()\n",
      "# IDL> weighted_mean = total(xax*yax)/total(yax)\n",
      "print \"The centroid position is %f, and the input 'correct' position is 0.25\" % weighted_mean\n",
      "print \"Nailed it.\""
     ],
     "language": "python",
     "metadata": {
      "slideshow": {
       "slide_type": "slide"
      }
     },
     "outputs": [
      {
       "output_type": "stream",
       "stream": "stdout",
       "text": [
        "The centroid position is 0.249997, and the input 'correct' position is 0.25\n",
        "Nailed it.\n"
       ]
      }
     ],
     "prompt_number": 63
    },
    {
     "cell_type": "code",
     "collapsed": false,
     "input": [
      "# Now we'll do the 2D case for our star\n",
      "# first, we need a grid of the X and Y values of the axes\n",
      "starx,stary = np.meshgrid(arange(11),arange(11))\n",
      "subplot(121); imshow(starx)\n",
      "subplot(122); imshow(stary)\n",
      "# IDL> starx = findgen(10)#(fltarr(10)+1)\n",
      "# IDL> stary = (fltarr(10)+1)#findgen(10)"
     ],
     "language": "python",
     "metadata": {
      "slideshow": {
       "slide_type": "slide"
      }
     },
     "outputs": [
      {
       "output_type": "pyout",
       "prompt_number": 64,
       "text": [
        "<matplotlib.image.AxesImage at 0x107d1af50>"
       ]
      },
      {
       "output_type": "display_data",
       "png": "[encoded data removed]",
       "text": [
        "<matplotlib.figure.Figure at 0x10879e350>"
       ]
      }
     ],
     "prompt_number": 64
    },
    {
     "cell_type": "code",
     "collapsed": false,
     "input": [
      "# The centroid is then the weighted sum of these values...\n",
      "xcenter = (starx*mystar).sum()/mystar.sum()\n",
      "ycenter = (stary*mystar).sum()/mystar.sum()\n",
      "print \"X center: \",xcenter,\" which is \",xcenter-5,\" pixels from the image peak\"\n",
      "print \"Y center: \",ycenter,\" which is \",ycenter-5,\" pixels from the image peak\"\n",
      "# IDL: again, use total instead of sum"
     ],
     "language": "python",
     "metadata": {
      "slideshow": {
       "slide_type": "slide"
      }
     },
     "outputs": [
      {
       "output_type": "stream",
       "stream": "stdout",
       "text": [
        "X center:  5.30612066108  which is  0.306120661077  pixels from the image peak\n",
        "Y center:  4.81557204836  which is  -0.184427951642  pixels from the image peak\n"
       ]
      }
     ],
     "prompt_number": 65
    },
    {
     "cell_type": "code",
     "collapsed": false,
     "input": [
      "# Test the \"fit\" by plotting the centroid as an X\n",
      "imshow(mystar)\n",
      "plot(xcenter,ycenter,'wx',markersize=30,markeredgewidth=2)\n",
      "axis([-0.5,10.5,-0.5,10.5]) # this is just to recenter the image after the plot cmd"
     ],
     "language": "python",
     "metadata": {
      "slideshow": {
       "slide_type": "slide"
      }
     },
     "outputs": [
      {
       "output_type": "pyout",
       "prompt_number": 66,
       "text": [
        "[-0.5, 10.5, -0.5, 10.5]"
       ]
      },
      {
       "output_type": "display_data",
       "png": "[encoded data removed]",
       "text": [
        "<matplotlib.figure.Figure at 0x10911a090>"
       ]
      }
     ],
     "prompt_number": 66
    },
    {
     "cell_type": "code",
     "collapsed": false,
     "input": [
      "# A second test: let's make our own \"artificial star\" and subtract it from the original\n",
      "# We need to determine how bright it should be, so we'll use its peak value\n",
      "peakval = np.max(starryimg)\n",
      "myfakestar = peakval*np.exp(-((starx-xcenter)**2+(stary-ycenter)**2) / 2.) \n",
      "subplot(121); imshow(myfakestar);\n",
      "subplot(122); imshow(mystar-myfakestar,vmax=peakval); "
     ],
     "language": "python",
     "metadata": {
      "slideshow": {
       "slide_type": "slide"
      }
     },
     "outputs": [
      {
       "output_type": "display_data",
       "png": "[encoded data removed]",
       "text": [
        "<matplotlib.figure.Figure at 0x1091d5350>"
       ]
      }
     ],
     "prompt_number": 67
    },
    {
     "cell_type": "markdown",
     "metadata": {
      "slideshow": {
       "slide_type": "slide"
      }
     },
     "source": [
      "Because the \"peak\" is spread over a few pixels, we don't get a perfect match, but we do pretty well.\n",
      "\n",
      "In order to determine exactly where our star is, we need to convert the sub-image back into units of the original image.  We know that the pixel 5,5 is the position of the peak, and we should only be measuring a sub-pixel offset from that point.  So, we can measure the \"true\" star center by subtracting 5 from each of the x and y coordinates to get our sub-pixel offset, and add that to the original position we measured."
     ]
    },
    {
     "cell_type": "code",
     "collapsed": false,
     "input": [
      "real_xcenter = xcenter-5 + xmax\n",
      "real_ycenter = ycenter-5 + ymax\n",
      "print real_xcenter,real_ycenter"
     ],
     "language": "python",
     "metadata": {
      "slideshow": {
       "slide_type": "slide"
      }
     },
     "outputs": [
      {
       "output_type": "stream",
       "stream": "stdout",
       "text": [
        "33.3061206611 87.8155720484\n"
       ]
      }
     ],
     "prompt_number": 77
    },
    {
     "cell_type": "markdown",
     "metadata": {
      "slideshow": {
       "slide_type": "slide"
      }
     },
     "source": [
      "Last recursion example: What if we want to visit each pixel in an image, and keep track of the locations that we've visited as a list of coordinates?  We'll start simple:"
     ]
    },
    {
     "cell_type": "code",
     "collapsed": false,
     "input": [
      "image = np.array([[1,2],\n",
      "                  [3,4]])\n",
      "figure()\n",
      "imshow(image)"
     ],
     "language": "python",
     "metadata": {},
     "outputs": [
      {
       "output_type": "pyout",
       "prompt_number": 78,
       "text": [
        "<matplotlib.image.AxesImage at 0x1093ef810>"
       ]
      },
      {
       "output_type": "display_data",
       "png": "[encoded data removed]",
       "text": [
        "<matplotlib.figure.Figure at 0x1093fac90>"
       ]
      }
     ],
     "prompt_number": 78
    },
    {
     "cell_type": "markdown",
     "metadata": {
      "slideshow": {
       "slide_type": "slide"
      }
     },
     "source": [
      "<img src=\"files/images/foursquare.png\" style='float: right;'>\n",
      "Our recursive algorithm will move *right* then *up* (so it must start at the lower left).\n",
      "\n",
      "We start at [0,0], then our recursive function will move both *right* and *up*, but *right* first.\n",
      "\n",
      "So we get [0,0], then [1,0] because [1,0] is right of [0,0].  Once we've \"moved to\" [1,0], the recursive function gets called again!  So it will try to move right from [1,0], but it can't because that's the end.  So then, we move *up* from [1,0]!"
     ]
    },
    {
     "cell_type": "markdown",
     "metadata": {
      "slideshow": {
       "slide_type": "slide"
      }
     },
     "source": [
      "\n",
      "This is all a little complicated, but not too terrible to visualize.  And ironically, quite easy to write."
     ]
    },
    {
     "cell_type": "code",
     "collapsed": false,
     "input": [
      "def traverse_image(x, y, image):\n",
      "    if x >= image.shape[1]:\n",
      "        return []\n",
      "    if y >= image.shape[0]:\n",
      "        return []\n",
      "    else:\n",
      "        right = traverse_image(x+1,y,image)  # right\n",
      "        up = traverse_image(x,y+1,image) # up          \n",
      "        value_list = ([image[y,x]] + up + right) \n",
      "        return value_list"
     ],
     "language": "python",
     "metadata": {
      "slideshow": {
       "slide_type": "slide"
      }
     },
     "outputs": []
    },
    {
     "cell_type": "code",
     "collapsed": false,
     "input": [
      "def traverse_image_coordinates(x, y, image):\n",
      "    if x >= image.shape[1]:\n",
      "        return []\n",
      "    if y >= image.shape[0]:\n",
      "        return []\n",
      "    else:\n",
      "        right = traverse_image_coordinates(x+1,y,image)  # right\n",
      "        up = traverse_image_coordinates(x,y+1,image) # up          \n",
      "        coord_list = ([(x,y)] + up + right) \n",
      "        return coord_list"
     ],
     "language": "python",
     "metadata": {
      "slideshow": {
       "slide_type": "slide"
      }
     },
     "outputs": []
    },
    {
     "cell_type": "markdown",
     "metadata": {
      "slideshow": {
       "slide_type": "slide"
      }
     },
     "source": [
      "In IDL, you'd do something very similar:\n",
      "\n",
      "    function traverse_image_coordinates,x,y,image\n",
      "        shape = size(image,/dim)\n",
      "        if x ge shape[0] then $\n",
      "            return, []\n",
      "        if y ge shape[1] then $\n",
      "            return, []\n",
      "        ; else \n",
      "        right = traverse_image_coordinates(x+1,y,image)\n",
      "        up = traverse_image_coordinates(x,y+1,image)\n",
      "        coord_list = [[x,y],[up],[right]] \n",
      "        return, coord_list\n",
      "    end\n",
      "    \n",
      "    function traverse_image,x,y,image\n",
      "        shape = size(image,/dim)\n",
      "        if x ge shape[0] then $\n",
      "            return, []\n",
      "        if y ge shape[1] then $\n",
      "            return, []\n",
      "        ; else \n",
      "        right = traverse_image(x+1,y,image)\n",
      "        up = traverse_image(x,y+1,image)\n",
      "        value_list = [image[x,y],up,right] \n",
      "        return, value_list\n",
      "    end\n"
     ]
    },
    {
     "cell_type": "markdown",
     "metadata": {
      "slideshow": {
       "slide_type": "slide"
      }
     },
     "source": [
      "These tools should give you a good start on image photometry if you're doing that work.  However, there's a problem you may have noticed with these codes: they will repeat the same pixel multiple times unless they have some way to keep track of whether they've visited a pixel before.  We'll get to that next time."
     ]
    },
    {
     "cell_type": "markdown",
     "metadata": {
      "slideshow": {
       "slide_type": "skip"
      }
     },
     "source": [
      "Everything below this point can be ignored"
     ]
    },
    {
     "cell_type": "code",
     "collapsed": false,
     "input": [
      "%load_ext hierarchymagic\n",
      "%load_ext slidemode\n",
      "%slideshow_mode"
     ],
     "language": "python",
     "metadata": {
      "slideshow": {
       "slide_type": "skip"
      }
     },
     "outputs": [
      {
       "output_type": "stream",
       "stream": "stdout",
       "text": [
        "The hierarchymagic extension is already loaded. To reload it, use:\n",
        "  %reload_ext hierarchymagic\n",
        "The slidemode extension is already loaded. To reload it, use:\n",
        "  %reload_ext slidemode\n"
       ]
      },
      {
       "javascript": [
        "/*\n",
        " * create an invisible input field that allows to get keyboard input\n",
        " * in order to control slide with keyboard\n",
        " */\n",
        "var bind_remote = function(selector){\n",
        "    var slide_control_input = $('<input/>')\n",
        "        .attr('id','slide_control_input')\n",
        "        .fadeTo(0.1,0)\n",
        "        /*\n",
        "         * bind the keyevent when slide control is enabled\n",
        "         */\n",
        "        .keydown(\n",
        "                function(event){\n",
        "                        if(event.which == IPython.utils.keycodes.LEFT_ARROW){\n",
        "                            IPython.slideshow.prev_group();\n",
        "                        }\n",
        "                        else if(event.which == IPython.utils.keycodes.RIGHT_ARROW){\n",
        "                            IPython.slideshow.next_group();\n",
        "                        }\n",
        "                    event.preventDefault();\n",
        "                    return false;\n",
        "            })\n",
        "         /*\n",
        "          * Modifie the state of the button that allows to take slide control when\n",
        "          * slide_control_input get in/out of focus\n",
        "          */\n",
        "         .focusin(function(){$('#slide_control_button').button('option','label','Slide Control Enabled')})\n",
        "         .focusout(function(){$('#slide_control_button').button('option','label','Enable Slide Control')})\n",
        "\n",
        "        var slide_control_button = $('<div/>')\n",
        "            .attr('id','slide_control_button')\n",
        "            .button({label:'Enable Slide Control'})\n",
        "            .attr('style','float:right')\n",
        "            .click(\n",
        "                function(){\n",
        "                    $('#slide_control_input').focus();\n",
        "                })\n",
        "    var hin = function(){$(selector).fadeTo('slow',1);}\n",
        "    var hout= function(){$(selector).fadeTo('slow',0.3);}\n",
        "\n",
        "    // this will make the toolbar translucent on top of the screen\n",
        "    // which will fade-in on hover\n",
        "    $(selector)\n",
        "        .append(slide_control_input)\n",
        "        .append(slide_control_button)\n",
        "        .fadeTo('slow',0.3)\n",
        "    .hover(hin,hout)\n",
        "\n",
        "}\n",
        "\n",
        "/* this is still a prototype, but should allow to progressively show a code cell.\n",
        "var show_line = function(cell,line_number){\n",
        "    cell.code_mirror.showLine(cell.code_mirror.getLineHandle(line_number-1))    }\n",
        "*/\n",
        "\n",
        "\n",
        "IPython = (function(IPython) {\n",
        "\n",
        "    var Presentation = function(){\n",
        "        // ccell == current cell number\n",
        "        this.ccell = 0;\n",
        "    }\n",
        "\n",
        "    var is_new_slide_beginning = function(cell){\n",
        "        return (cell.metadata.slideshow.slide_start)\n",
        "    }\n",
        "    var is_step = function(cell){\n",
        "        return (cell.metadata.slideshow.slide_step)\n",
        "    }\n",
        "\n",
        "    // we need the ability to create a presentation toolbar\n",
        "    // that show diverse slide actions\n",
        "    Presentation.prototype.create_toolbar = function(){\n",
        "        var that = this;\n",
        "        var presentation_toolbar_div = $('<div/>').attr('id','toolbar_present').addClass('toolbar');\n",
        "        // eta is estimated time of arrival\n",
        "        // this is just a button with `current slide/ number of slides`\n",
        "        this.avancement = $('<div/>').button({label:that.eta()});\n",
        "        presentation_toolbar_div.append(this.avancement);\n",
        "\n",
        "        // append it juste after the main toolbar\n",
        "        $('#maintoolbar').after(presentation_toolbar_div);\n",
        "        var ptoolbar = new IPython.ToolBar('#toolbar_present');\n",
        "        IPython.ptoolbar = ptoolbar;\n",
        "        ptoolbar.add_buttons_group([{label:'Pause', icon:'ui-icon-pause', callback:function(){that.stop()}}])\n",
        "        ptoolbar.add_buttons_group([{label:'Stop', icon:'ui-icon-stop', callback:function(){that.restart();that.stop()}}])\n",
        "        ptoolbar.add_buttons_group([\n",
        "            {label:'Restart from 0', icon:'ui-icon-arrowthickstop-1-w', callback:function(){that.stop(); that.restart(); that.start()}}\n",
        "            ])\n",
        "        ptoolbar.add_buttons_group([\n",
        "            {label:'Prev Slide', icon:'ui-icon-seek-prev', callback:function(){that.prev_group()}},\n",
        "            {label:'Next Slide', icon:'ui-icon-seek-next', callback:function(){that.next_group()}},\n",
        "            ])\n",
        "        ptoolbar.add_buttons_group([\n",
        "            {label:'Step Next', icon:'ui-icon-play', callback:function(){that.next()}}\n",
        "            ])\n",
        "        \n",
        "        // add ability to switch focus btween slide control and classic nb control\n",
        "        bind_remote('#toolbar_present');\n",
        "    }\n",
        "\n",
        "    Presentation.prototype.remove_toolbar = function(){\n",
        "        $('#toolbar_present').remove();\n",
        "    }\n",
        "\n",
        "        \n",
        "    Presentation.prototype.nslides = function(){\n",
        "        var cells = IPython.notebook.get_cells();\n",
        "        var cnt =0\n",
        "        for( var i=0; i< cells.length;i++)\n",
        "            if(is_new_slide_beginning(cells[i])) cnt++;\n",
        "        return cnt\n",
        "    }\n",
        "\n",
        "    Presentation.prototype.n_current_slide = function(){\n",
        "        var cells = IPython.notebook.get_cells();\n",
        "        var cnt =0\n",
        "        for( var i=0; i<= this.ccell ;i++)\n",
        "            if(is_new_slide_beginning(cells[i])) cnt++;\n",
        "        return cnt\n",
        "    }\n",
        "\n",
        "    Presentation.prototype.eta = function(){\n",
        "        return this.n_current_slide()+'/'+this.nslides()\n",
        "    }\n",
        "\n",
        "    Presentation.prototype.next_marked_cell_n = function() {\n",
        "        for(var i=this.ccell+1; i< $('.cell').length; i++) {\n",
        "            if(is_new_slide_beginning(IPython.notebook.get_cell(i)))\n",
        "            { return i; }\n",
        "        }\n",
        "        return null;\n",
        "    }\n",
        "\n",
        "    Presentation.prototype.prev_marked_cell_n = function() {\n",
        "        for(var i=this.ccell-1; i> 0; i--) {\n",
        "            if(is_new_slide_beginning(IPython.notebook.get_cell(i))){\n",
        "                    return i\n",
        "            }\n",
        "        }\n",
        "        return 0;\n",
        "      }\n",
        "\n",
        "      // restart a presentation from slide 0\n",
        "      Presentation.prototype.start = function(){\n",
        "            this.restart();\n",
        "            this.resume();\n",
        "      }\n",
        "\n",
        "      // make the current avancement to 0\n",
        "      Presentation.prototype.restart = function(){\n",
        "            this.ccell = 0;\n",
        "            $(this.avancement).remove();\n",
        "            delete this.avancement;\n",
        "      }\n",
        "\n",
        "      // start a presentation fromo where you left off\n",
        "      Presentation.prototype.resume = function(){\n",
        "            this.create_toolbar();\n",
        "            $('#menubar, #pager_splitter, #pager, #header,#maintoolbar').addClass('pmode');\n",
        "            $('.cell').fadeOut();\n",
        "            if(this.current_is_marked()){\n",
        "                $('.cell:nth('+this.ccell+')').fadeIn();\n",
        "            } else {\n",
        "                for( var i=this.prev_marked_cell_n() ; i<= this.ccell; i++){\n",
        "                    $('.cell:nth('+i+')').fadeIn();\n",
        "                }\n",
        "            }\n",
        "            var that=this;\n",
        "            if(this.avancement != undefined){\n",
        "                $(this.avancement).button('option','label',that.eta())\n",
        "            }\n",
        "            setTimeout(function(){IPython.layout_manager.do_resize();},1000);\n",
        "            return this;\n",
        "      }\n",
        "\n",
        "      Presentation.prototype.stop = function(){\n",
        "          $('.cell').fadeIn();\n",
        "          $('.pmode').removeClass('pmode');\n",
        "          $('div#notebook').removeClass('pove');\n",
        "          this.remove_toolbar();\n",
        "      }\n",
        "\n",
        "      Presentation.prototype.next = function(){\n",
        "          this.ccell = this.ccell+1;\n",
        "          var that = this;\n",
        "          if(this.ccell >= $('.cell').length ){\n",
        "              this.restart();\n",
        "              this.stop();\n",
        "              return;\n",
        "          }\n",
        "          var nnext = this.ccell;\n",
        "          var ncell = IPython.notebook.get_cell(nnext)\n",
        "\n",
        "          if(is_new_slide_beginning(ncell)){\n",
        "              $('.cell').fadeOut(100);\n",
        "              setTimeout(function(){$('.cell:nth('+nnext+')').fadeIn(100)},150);\n",
        "          } else {\n",
        "              setTimeout(function(){$('.cell:nth('+nnext+')').fadeIn(200)},0);\n",
        "          }\n",
        "          $(this.avancement).button('option','label',that.eta())\n",
        "          setTimeout(function(){IPython.layout_manager.do_resize();},1000);\n",
        "          return this;\n",
        "      }\n",
        "\n",
        "      Presentation.prototype.next_group = function(){\n",
        "          this.ccell = this.next_marked_cell_n();\n",
        "          var that = this;\n",
        "          $('.cell').fadeOut(100);\n",
        "          setTimeout(function(){\n",
        "              $('.cell:nth('+that.ccell+')').fadeIn(100)\n",
        "                  },150);\n",
        "          setTimeout(function(){IPython.layout_manager.do_resize();},1000);\n",
        "          $(this.avancement).button('option','label',that.eta())\n",
        "      }\n",
        "\n",
        "      Presentation.prototype.prev_group = function(){\n",
        "          this.ccell = this.prev_marked_cell_n();\n",
        "          var that = this\n",
        "          $('.cell').fadeOut(100);\n",
        "          setTimeout(function(){$('.cell:nth('+that.ccell+')').fadeIn(100)},150);\n",
        "          $(this.avancement).button('option','label',that.eta())\n",
        "      }\n",
        "\n",
        "      Presentation.prototype.is_n_marked = function(n){\n",
        "          return is_new_slide_beginning(IPython.notebook.get_cell(n))\n",
        "      }\n",
        "\n",
        "      Presentation.prototype.current_is_marked = function(n){\n",
        "          return is_new_slide_beginning(IPython.notebook.get_cell(this.ccell));\n",
        "      }\n",
        "\n",
        "      Presentation.prototype.prev = function(){\n",
        "          if(is_new_slide_beginning(IPython.notebook.get_cell(this.ccell))){\n",
        "              var pmcell = this.prev_marked_cell_n();\n",
        "              $('.cell').fadeOut(100);\n",
        "              for( var i=pmcell; i< this.ccell ; i++ ){\n",
        "                  (function(val){\n",
        "                      return function(){\n",
        "                                  setTimeout( function(){\n",
        "                                      $('.cell:nth('+val+')').fadeIn(100)\n",
        "                                      },150);\n",
        "                      }\n",
        "                   })(i)();\n",
        "              }\n",
        "          } else {\n",
        "              $('.cell:nth('+this.ccell+')').fadeOut(200);\n",
        "          }\n",
        "          this.ccell = this.ccell -1;\n",
        "          return this;\n",
        "      }\n",
        "\n",
        "      IPython.Presentation = Presentation;\n",
        "      return IPython;\n",
        "\n",
        "    })(IPython);\n",
        "\n",
        "    $('body').append($('<style/>').text('.pmode{ display: none !important }'));\n",
        "    IPython.slideshow = new IPython.Presentation();\n",
        "\n",
        "    var sid = 'start_pmode'\n",
        "    if(($('#'+sid)).length == 0) {\n",
        "          IPython.toolbar.add_buttons_group([\n",
        "                  {'label'  :'Start Slideshow',\n",
        "                    'icon'  :'ui-icon-image',\n",
        "                    'callback':function(){IPython.slideshow.resume()},'id':sid},\n",
        "              ])\n",
        "         }\n"
       ],
       "output_type": "display_data",
       "text": [
        "<IPython.core.display.Javascript at 0x1073f9b90>"
       ]
      }
     ],
     "prompt_number": 71
    },
    {
     "cell_type": "code",
     "collapsed": false,
     "input": [
      "from IPython.core.display import HTML\n",
      "\n",
      "def blackbg():\n",
      "\t\"\"\"Black Background code mirror theme.\"\"\"\n",
      "\thtml = \"\"\"\n",
      "<style type=\"text/css\">\n",
      ".cm-s-ipython { background-color: black; color: lightblue; }\n",
      ".cm-s-ipython span.cm-keyword {color: #00ff00; font-weight: bold;}\n",
      ".cm-s-ipython span.cm-number {color: #ee88ee;}\n",
      ".cm-s-ipython span.cm-operator {color: lime; font-weight: bold;}\n",
      ".cm-s-ipython span.cm-meta {color: white;}\n",
      ".cm-s-ipython span.cm-comment {color: cyan; font-style: italic;}\n",
      ".cm-s-ipython span.cm-string {color: red;}\n",
      ".cm-s-ipython span.cm-error {color: darkred;}\n",
      ".cm-s-ipython span.cm-builtin {color: pink; font-weight: bold;}\n",
      ".CodeMirror pre.CodeMirror-cursor {color: white; border-left: 1px solid white;}\n",
      ".cm-s-ipython span.cm-variable {color: white;}\n",
      "div.text_cell_input  {   background-color: black;    color: white;}\n",
      "div.text_cell {   background-color: black;    color: white;}\n",
      "div#notebook {    background-color: black;     background-image: none;     color: white;}\n",
      "div.code_cell { background-color: black;    color: white;}\n",
      "div.metaedit .maintoolbar{    background-color: black;    color: white;}\n",
      "body{    background-color: black;    color: white;}\n",
      "#notebook_name {  background-color: #333333;    color: white; background-image:none;}\n",
      "span.ui-widget-content{  background-color: #333333;    color: white; background-image:none;}\n",
      "div.ui-widget-content{  background-color: #333333;    color: white; background-image:none;}\n",
      "div#ui-button ui-widget ui-state-default ui-corner-all ui-button-text-only output_collapsed vbox{  \n",
      "  background-color: black;    color: white;}\n",
      "div.input_area{    background-color: black;    color: white;}\n",
      "div.ui-widget-content { background-color: #333333; background-image: none;}\n",
      "div.input_prompt {color:#6666CC; font-weight: bold;}\n",
      "div.output_prompt {color:#CC6666; font-weight: bold;}\n",
      "div.output_text {color:white;}\n",
      "div.text_cell_render {color:white;}\n",
      ".pln {color:white} \n",
      ".typ {color:#f9f}\n",
      ".lit {color:#BBB}\n",
      ".kwd {color:#3e3}\n",
      ".metaedit {background: transparent; border-color: transparent; color:white;}\n",
      ".ui-button-text {background: #112; color:white; border-color:666;}\n",
      ".ui-menubar  {background-color: transparent; background: transparent; background-image:none;}\n",
      ".ui-widget-header  {background-color: transparent; background: transparent; background-image:none;}\n",
      ".ui-helper-clearfix {background-color: transparent; background: transparent; background-image:none;}\n",
      ".ui-corner-all {background: #112; color: white;}\n",
      ".ui-widget  {background: #112; color: white;}\n",
      ".ui-widget-content {background: #112; color: white;}\n",
      "</style>\"\"\"\n",
      "\treturn HTML(html)\n",
      "blackbg()"
     ],
     "language": "python",
     "metadata": {
      "slideshow": {
       "slide_type": "skip"
      }
     },
     "outputs": [
      {
       "html": [
        "\n",
        "<style type=\"text/css\">\n",
        ".cm-s-ipython { background-color: black; color: lightblue; }\n",
        ".cm-s-ipython span.cm-keyword {color: #00ff00; font-weight: bold;}\n",
        ".cm-s-ipython span.cm-number {color: #ee88ee;}\n",
        ".cm-s-ipython span.cm-operator {color: lime; font-weight: bold;}\n",
        ".cm-s-ipython span.cm-meta {color: white;}\n",
        ".cm-s-ipython span.cm-comment {color: cyan; font-style: italic;}\n",
        ".cm-s-ipython span.cm-string {color: red;}\n",
        ".cm-s-ipython span.cm-error {color: darkred;}\n",
        ".cm-s-ipython span.cm-builtin {color: pink; font-weight: bold;}\n",
        ".CodeMirror pre.CodeMirror-cursor {color: white; border-left: 1px solid white;}\n",
        ".cm-s-ipython span.cm-variable {color: white;}\n",
        "div.text_cell_input  {   background-color: black;    color: white;}\n",
        "div.text_cell {   background-color: black;    color: white;}\n",
        "div#notebook {    background-color: black;     background-image: none;     color: white;}\n",
        "div.code_cell { background-color: black;    color: white;}\n",
        "div.metaedit .maintoolbar{    background-color: black;    color: white;}\n",
        "body{    background-color: black;    color: white;}\n",
        "#notebook_name {  background-color: #333333;    color: white; background-image:none;}\n",
        "span.ui-widget-content{  background-color: #333333;    color: white; background-image:none;}\n",
        "div.ui-widget-content{  background-color: #333333;    color: white; background-image:none;}\n",
        "div#ui-button ui-widget ui-state-default ui-corner-all ui-button-text-only output_collapsed vbox{  \n",
        "  background-color: black;    color: white;}\n",
        "div.input_area{    background-color: black;    color: white;}\n",
        "div.ui-widget-content { background-color: #333333; background-image: none;}\n",
        "div.input_prompt {color:#6666CC; font-weight: bold;}\n",
        "div.output_prompt {color:#CC6666; font-weight: bold;}\n",
        "div.output_text {color:white;}\n",
        "div.text_cell_render {color:white;}\n",
        ".pln {color:white} \n",
        ".typ {color:#f9f}\n",
        ".lit {color:#BBB}\n",
        ".kwd {color:#3e3}\n",
        ".metaedit {background: transparent; border-color: transparent; color:white;}\n",
        ".ui-button-text {background: #112; color:white; border-color:666;}\n",
        ".ui-menubar  {background-color: transparent; background: transparent; background-image:none;}\n",
        ".ui-widget-header  {background-color: transparent; background: transparent; background-image:none;}\n",
        ".ui-helper-clearfix {background-color: transparent; background: transparent; background-image:none;}\n",
        ".ui-corner-all {background: #112; color: white;}\n",
        ".ui-widget  {background: #112; color: white;}\n",
        ".ui-widget-content {background: #112; color: white;}\n",
        "</style>"
       ],
       "output_type": "pyout",
       "prompt_number": 72,
       "text": [
        "<IPython.core.display.HTML at 0x108791210>"
       ]
      }
     ],
     "prompt_number": 72
    },
    {
     "cell_type": "code",
     "collapsed": false,
     "input": [
      "# A nice commented mandelbrot code from\n",
      "# http://thesamovar.wordpress.com/2009/03/22/fast-fractals-with-python-and-numpy/#viewSource\n",
      "from numpy import *\n",
      "\n",
      "def mandel(n, m, itermax, xmin, xmax, ymin, ymax):\n",
      "    '''\n",
      "    Fast mandelbrot computation using numpy.\n",
      "\n",
      "    (n, m) are the output image dimensions\n",
      "    itermax is the maximum number of iterations to do\n",
      "    xmin, xmax, ymin, ymax specify the region of the\n",
      "    set to compute.\n",
      "    '''\n",
      "    # The point of ix and iy is that they are 2D arrays\n",
      "    # giving the x-coord and y-coord at each point in\n",
      "    # the array. The reason for doing this will become\n",
      "    # clear below...\n",
      "    ix, iy = mgrid[0:n, 0:m]\n",
      "    # Now x and y are the x-values and y-values at each\n",
      "    # point in the array, linspace(start, end, n)\n",
      "    # is an array of n linearly spaced points between\n",
      "    # start and end, and we then index this array using\n",
      "    # numpy fancy indexing. If A is an array and I is\n",
      "    # an array of indices, then A[I] has the same shape\n",
      "    # as I and at each place i in I has the value A[i].\n",
      "    x = linspace(xmin, xmax, n)[ix]\n",
      "    y = linspace(ymin, ymax, m)[iy]\n",
      "    # c is the complex number with the given x, y coords\n",
      "    c = x+complex(0,1)*y\n",
      "    del x, y # save a bit of memory, we only need z\n",
      "    # the output image coloured according to the number\n",
      "    # of iterations it takes to get to the boundary\n",
      "    # abs(z)>2\n",
      "    img = zeros(c.shape, dtype=int)\n",
      "    # Here is where the improvement over the standard\n",
      "    # algorithm for drawing fractals in numpy comes in.\n",
      "    # We flatten all the arrays ix, iy and c. This\n",
      "    # flattening doesn't use any more memory because\n",
      "    # we are just changing the shape of the array, the\n",
      "    # data in memory stays the same. It also affects\n",
      "    # each array in the same way, so that index i in\n",
      "    # array c has x, y coords ix[i], iy[i]. The way the\n",
      "    # algorithm works is that whenever abs(z)>2 we\n",
      "    # remove the corresponding index from each of the\n",
      "    # arrays ix, iy and c. Since we do the same thing\n",
      "    # to each array, the correspondence between c and\n",
      "    # the x, y coords stored in ix and iy is kept.\n",
      "    ix.shape = n*m\n",
      "    iy.shape = n*m\n",
      "    c.shape = n*m\n",
      "    # we iterate z->z^2+c with z starting at 0, but the\n",
      "    # first iteration makes z=c so we just start there.\n",
      "    # We need to copy c because otherwise the operation\n",
      "    # z->z^2 will send c->c^2.\n",
      "    z = copy(c)\n",
      "    for i in xrange(itermax):\n",
      "        if not len(z): break # all points have escaped\n",
      "        # equivalent to z = z*z+c but quicker and uses\n",
      "        # less memory\n",
      "        multiply(z, z, z)\n",
      "        add(z, c, z)\n",
      "        # these are the points that have escaped\n",
      "        rem = abs(z)>2.0\n",
      "        # colour them with the iteration number, we\n",
      "        # add one so that points which haven't\n",
      "        # escaped have 0 as their iteration number,\n",
      "        # this is why we keep the arrays ix and iy\n",
      "        # because we need to know which point in img\n",
      "        # to colour\n",
      "        img[ix[rem], iy[rem]] = i+1\n",
      "        # -rem is the array of points which haven't\n",
      "        # escaped, in numpy -A for a boolean array A\n",
      "        # is the NOT operation.\n",
      "        rem = -rem\n",
      "        # So we select out the points in\n",
      "        # z, ix, iy and c which are still to be\n",
      "        # iterated on in the next step\n",
      "        z = z[rem]\n",
      "        ix, iy = ix[rem], iy[rem]\n",
      "        c = c[rem]\n",
      "    return img\n",
      "\n",
      "if __name__=='__main__':\n",
      "    from pylab import *\n",
      "    import time\n",
      "    start = time.time()\n",
      "    I = mandel(400, 400, 100, -2, .5, -1.25, 1.25)\n",
      "    print 'Time taken:', time.time()-start\n",
      "    I[I==0] = 101\n",
      "    img = imshow(I.T, origin='lower left')\n",
      "    img.write_png('mandel.png', noscale=True)\n",
      "    show()\n"
     ],
     "language": "python",
     "metadata": {
      "slideshow": {
       "slide_type": "skip"
      }
     },
     "outputs": [
      {
       "output_type": "stream",
       "stream": "stdout",
       "text": [
        "Time taken: 0.279784917831\n"
       ]
      },
      {
       "output_type": "display_data",
       "png": "[encoded data removed]",
       "text": [
        "<matplotlib.figure.Figure at 0x10911a090>"
       ]
      }
     ],
     "prompt_number": 73
    },
    {
     "cell_type": "code",
     "collapsed": false,
     "input": [
      "%%dot --format svg --\n",
      "digraph G {\n",
      "   16 -> 12 [label=\"L\"]; \n",
      "   16 -> 25 [label=\"R\"];\n",
      "   12 -> 11 [label=\"L\"];\n",
      "   12 -> 15 [label=\"R\"];\n",
      "   25 -> C [label=\"L\" color=\"red\"];\n",
      "   25 -> 29 [label=\"R\"];\n",
      "   empty2 [label=\"empty\"];\n",
      "   15 -> D [label=\"L\" color=\"red\"];\n",
      "   15 -> 15.5 [label=\"R\"];\n",
      "   29 -> E [label=\"L\" color=\"red\"];\n",
      "   29 -> 30 [label=\"R\"];\n",
      "   15.5 -> A [color=\"red\"];\n",
      "   15.5 -> B [color=\"red\"];   \n",
      "}"
     ],
     "language": "python",
     "metadata": {
      "slideshow": {
       "slide_type": "notes"
      }
     },
     "outputs": [
      {
       "output_type": "display_data",
       "svg": [
        "<?xml version=\"1.0\" encoding=\"UTF-8\" standalone=\"no\"?>\n",
        "<!DOCTYPE svg PUBLIC \"-//W3C//DTD SVG 1.1//EN\"\n",
        " \"http://www.w3.org/Graphics/SVG/1.1/DTD/svg11.dtd\">\n",
        "<!-- Generated by graphviz version 2.28.0 (20121121.2234)\n",
        " -->\n",
        "<!-- Title: G Pages: 1 -->\n",
        "<svg width=\"337pt\" height=\"388pt\"\n",
        " viewBox=\"0.00 0.00 337.00 388.00\" xmlns=\"http://www.w3.org/2000/svg\" xmlns:xlink=\"http://www.w3.org/1999/xlink\">\n",
        "<g id=\"graph1\" class=\"graph\" transform=\"scale(1 1) rotate(0) translate(4 384)\">\n",
        "<title>G</title>\n",
        "<polygon fill=\"white\" stroke=\"white\" points=\"-4,5 -4,-384 334,-384 334,5 -4,5\"/>\n",
        "<!-- 16 -->\n",
        "<g id=\"node1\" class=\"node\"><title>16</title>\n",
        "<ellipse fill=\"none\" stroke=\"black\" cx=\"140\" cy=\"-362\" rx=\"27\" ry=\"18\"/>\n",
        "<text text-anchor=\"middle\" x=\"140\" y=\"-356.4\" font-family=\"Times,serif\" font-size=\"14.00\">16</text>\n",
        "</g>\n",
        "<!-- 12 -->\n",
        "<g id=\"node3\" class=\"node\"><title>12</title>\n",
        "<ellipse fill=\"none\" stroke=\"black\" cx=\"99\" cy=\"-272\" rx=\"27\" ry=\"18\"/>\n",
        "<text text-anchor=\"middle\" x=\"99\" y=\"-266.4\" font-family=\"Times,serif\" font-size=\"14.00\">12</text>\n",
        "</g>\n",
        "<!-- 16&#45;&gt;12 -->\n",
        "<g id=\"edge2\" class=\"edge\"><title>16&#45;&gt;12</title>\n",
        "<path fill=\"none\" stroke=\"black\" d=\"M132.288,-344.448C126.275,-331.542 117.818,-313.39 110.933,-298.613\"/>\n",
        "<polygon fill=\"black\" stroke=\"black\" points=\"114.073,-297.064 106.677,-289.478 107.728,-300.021 114.073,-297.064\"/>\n",
        "<text text-anchor=\"middle\" x=\"128.276\" y=\"-311.4\" font-family=\"Times,serif\" font-size=\"14.00\">L</text>\n",
        "</g>\n",
        "<!-- 25 -->\n",
        "<g id=\"node5\" class=\"node\"><title>25</title>\n",
        "<ellipse fill=\"none\" stroke=\"black\" cx=\"171\" cy=\"-272\" rx=\"27\" ry=\"18\"/>\n",
        "<text text-anchor=\"middle\" x=\"171\" y=\"-266.4\" font-family=\"Times,serif\" font-size=\"14.00\">25</text>\n",
        "</g>\n",
        "<!-- 16&#45;&gt;25 -->\n",
        "<g id=\"edge4\" class=\"edge\"><title>16&#45;&gt;25</title>\n",
        "<path fill=\"none\" stroke=\"black\" d=\"M145.977,-344.033C150.466,-331.291 156.694,-313.61 161.814,-299.076\"/>\n",
        "<polygon fill=\"black\" stroke=\"black\" points=\"165.125,-300.212 165.146,-289.617 158.523,-297.886 165.125,-300.212\"/>\n",
        "<text text-anchor=\"middle\" x=\"163.669\" y=\"-311.4\" font-family=\"Times,serif\" font-size=\"14.00\">R</text>\n",
        "</g>\n",
        "<!-- 11 -->\n",
        "<g id=\"node7\" class=\"node\"><title>11</title>\n",
        "<ellipse fill=\"none\" stroke=\"black\" cx=\"27\" cy=\"-182\" rx=\"27\" ry=\"18\"/>\n",
        "<text text-anchor=\"middle\" x=\"27\" y=\"-176.4\" font-family=\"Times,serif\" font-size=\"14.00\">11</text>\n",
        "</g>\n",
        "<!-- 12&#45;&gt;11 -->\n",
        "<g id=\"edge6\" class=\"edge\"><title>12&#45;&gt;11</title>\n",
        "<path fill=\"none\" stroke=\"black\" d=\"M86.4586,-255.672C75.3083,-242.043 58.8401,-221.916 46.0607,-206.296\"/>\n",
        "<polygon fill=\"black\" stroke=\"black\" points=\"48.439,-203.676 39.3977,-198.153 43.0213,-208.109 48.439,-203.676\"/>\n",
        "<text text-anchor=\"middle\" x=\"74.2759\" y=\"-221.4\" font-family=\"Times,serif\" font-size=\"14.00\">L</text>\n",
        "</g>\n",
        "<!-- 15 -->\n",
        "<g id=\"node9\" class=\"node\"><title>15</title>\n",
        "<ellipse fill=\"none\" stroke=\"black\" cx=\"99\" cy=\"-182\" rx=\"27\" ry=\"18\"/>\n",
        "<text text-anchor=\"middle\" x=\"99\" y=\"-176.4\" font-family=\"Times,serif\" font-size=\"14.00\">15</text>\n",
        "</g>\n",
        "<!-- 12&#45;&gt;15 -->\n",
        "<g id=\"edge8\" class=\"edge\"><title>12&#45;&gt;15</title>\n",
        "<path fill=\"none\" stroke=\"black\" d=\"M99,-253.614C99,-241.24 99,-224.369 99,-210.22\"/>\n",
        "<polygon fill=\"black\" stroke=\"black\" points=\"102.5,-210.05 99,-200.05 95.5001,-210.05 102.5,-210.05\"/>\n",
        "<text text-anchor=\"middle\" x=\"103.669\" y=\"-221.4\" font-family=\"Times,serif\" font-size=\"14.00\">R</text>\n",
        "</g>\n",
        "<!-- C -->\n",
        "<g id=\"node11\" class=\"node\"><title>C</title>\n",
        "<ellipse fill=\"none\" stroke=\"black\" cx=\"171\" cy=\"-182\" rx=\"27\" ry=\"18\"/>\n",
        "<text text-anchor=\"middle\" x=\"171\" y=\"-176.4\" font-family=\"Times,serif\" font-size=\"14.00\">C</text>\n",
        "</g>\n",
        "<!-- 25&#45;&gt;C -->\n",
        "<g id=\"edge10\" class=\"edge\"><title>25&#45;&gt;C</title>\n",
        "<path fill=\"none\" stroke=\"red\" d=\"M171,-253.614C171,-241.24 171,-224.369 171,-210.22\"/>\n",
        "<polygon fill=\"red\" stroke=\"red\" points=\"174.5,-210.05 171,-200.05 167.5,-210.05 174.5,-210.05\"/>\n",
        "<text text-anchor=\"middle\" x=\"175.276\" y=\"-221.4\" font-family=\"Times,serif\" font-size=\"14.00\">L</text>\n",
        "</g>\n",
        "<!-- 29 -->\n",
        "<g id=\"node13\" class=\"node\"><title>29</title>\n",
        "<ellipse fill=\"none\" stroke=\"black\" cx=\"243\" cy=\"-182\" rx=\"27\" ry=\"18\"/>\n",
        "<text text-anchor=\"middle\" x=\"243\" y=\"-176.4\" font-family=\"Times,serif\" font-size=\"14.00\">29</text>\n",
        "</g>\n",
        "<!-- 25&#45;&gt;29 -->\n",
        "<g id=\"edge12\" class=\"edge\"><title>25&#45;&gt;29</title>\n",
        "<path fill=\"none\" stroke=\"black\" d=\"M183.541,-255.672C194.692,-242.043 211.16,-221.916 223.939,-206.296\"/>\n",
        "<polygon fill=\"black\" stroke=\"black\" points=\"226.979,-208.109 230.602,-198.153 221.561,-203.676 226.979,-208.109\"/>\n",
        "<text text-anchor=\"middle\" x=\"218.669\" y=\"-221.4\" font-family=\"Times,serif\" font-size=\"14.00\">R</text>\n",
        "</g>\n",
        "<!-- D -->\n",
        "<g id=\"node16\" class=\"node\"><title>D</title>\n",
        "<ellipse fill=\"none\" stroke=\"black\" cx=\"59\" cy=\"-92\" rx=\"27\" ry=\"18\"/>\n",
        "<text text-anchor=\"middle\" x=\"59\" y=\"-86.4\" font-family=\"Times,serif\" font-size=\"14.00\">D</text>\n",
        "</g>\n",
        "<!-- 15&#45;&gt;D -->\n",
        "<g id=\"edge14\" class=\"edge\"><title>15&#45;&gt;D</title>\n",
        "<path fill=\"none\" stroke=\"red\" d=\"M91.4763,-164.448C85.61,-151.542 77.3592,-133.39 70.6421,-118.613\"/>\n",
        "<polygon fill=\"red\" stroke=\"red\" points=\"73.8143,-117.133 66.49,-109.478 67.4418,-120.03 73.8143,-117.133\"/>\n",
        "<text text-anchor=\"middle\" x=\"87.2759\" y=\"-131.4\" font-family=\"Times,serif\" font-size=\"14.00\">L</text>\n",
        "</g>\n",
        "<!-- 15.5 -->\n",
        "<g id=\"node18\" class=\"node\"><title>15.5</title>\n",
        "<ellipse fill=\"none\" stroke=\"black\" cx=\"132\" cy=\"-92\" rx=\"27.4055\" ry=\"18\"/>\n",
        "<text text-anchor=\"middle\" x=\"132\" y=\"-86.4\" font-family=\"Times,serif\" font-size=\"14.00\">15.5</text>\n",
        "</g>\n",
        "<!-- 15&#45;&gt;15.5 -->\n",
        "<g id=\"edge16\" class=\"edge\"><title>15&#45;&gt;15.5</title>\n",
        "<path fill=\"none\" stroke=\"black\" d=\"M105.207,-164.448C109.97,-151.746 116.639,-133.962 122.132,-119.315\"/>\n",
        "<polygon fill=\"black\" stroke=\"black\" points=\"125.474,-120.369 125.709,-109.777 118.92,-117.911 125.474,-120.369\"/>\n",
        "<text text-anchor=\"middle\" x=\"123.669\" y=\"-131.4\" font-family=\"Times,serif\" font-size=\"14.00\">R</text>\n",
        "</g>\n",
        "<!-- E -->\n",
        "<g id=\"node20\" class=\"node\"><title>E</title>\n",
        "<ellipse fill=\"none\" stroke=\"black\" cx=\"230\" cy=\"-92\" rx=\"27\" ry=\"18\"/>\n",
        "<text text-anchor=\"middle\" x=\"230\" y=\"-86.4\" font-family=\"Times,serif\" font-size=\"14.00\">E</text>\n",
        "</g>\n",
        "<!-- 29&#45;&gt;E -->\n",
        "<g id=\"edge18\" class=\"edge\"><title>29&#45;&gt;E</title>\n",
        "<path fill=\"none\" stroke=\"red\" d=\"M240.493,-164.033C238.671,-151.695 236.164,-134.727 234.058,-120.469\"/>\n",
        "<polygon fill=\"red\" stroke=\"red\" points=\"237.467,-119.597 232.543,-110.215 230.542,-120.62 237.467,-119.597\"/>\n",
        "<text text-anchor=\"middle\" x=\"242.276\" y=\"-131.4\" font-family=\"Times,serif\" font-size=\"14.00\">L</text>\n",
        "</g>\n",
        "<!-- 30 -->\n",
        "<g id=\"node22\" class=\"node\"><title>30</title>\n",
        "<ellipse fill=\"none\" stroke=\"black\" cx=\"302\" cy=\"-92\" rx=\"27\" ry=\"18\"/>\n",
        "<text text-anchor=\"middle\" x=\"302\" y=\"-86.4\" font-family=\"Times,serif\" font-size=\"14.00\">30</text>\n",
        "</g>\n",
        "<!-- 29&#45;&gt;30 -->\n",
        "<g id=\"edge20\" class=\"edge\"><title>29&#45;&gt;30</title>\n",
        "<path fill=\"none\" stroke=\"black\" d=\"M253.548,-165.267C262.525,-151.878 275.563,-132.431 285.853,-117.083\"/>\n",
        "<polygon fill=\"black\" stroke=\"black\" points=\"288.882,-118.851 291.543,-108.596 283.067,-114.953 288.882,-118.851\"/>\n",
        "<text text-anchor=\"middle\" x=\"281.669\" y=\"-131.4\" font-family=\"Times,serif\" font-size=\"14.00\">R</text>\n",
        "</g>\n",
        "<!-- empty2 -->\n",
        "<g id=\"node14\" class=\"node\"><title>empty2</title>\n",
        "<ellipse fill=\"none\" stroke=\"black\" cx=\"220\" cy=\"-362\" rx=\"35.2617\" ry=\"18\"/>\n",
        "<text text-anchor=\"middle\" x=\"220\" y=\"-356.4\" font-family=\"Times,serif\" font-size=\"14.00\">empty</text>\n",
        "</g>\n",
        "<!-- A -->\n",
        "<g id=\"node24\" class=\"node\"><title>A</title>\n",
        "<ellipse fill=\"none\" stroke=\"black\" cx=\"96\" cy=\"-18\" rx=\"27\" ry=\"18\"/>\n",
        "<text text-anchor=\"middle\" x=\"96\" y=\"-12.4\" font-family=\"Times,serif\" font-size=\"14.00\">A</text>\n",
        "</g>\n",
        "<!-- 15.5&#45;&gt;A -->\n",
        "<g id=\"edge22\" class=\"edge\"><title>15.5&#45;&gt;A</title>\n",
        "<path fill=\"none\" stroke=\"red\" d=\"M123.831,-74.6621C119.366,-65.7326 113.737,-54.475 108.712,-44.4243\"/>\n",
        "<polygon fill=\"red\" stroke=\"red\" points=\"111.739,-42.6523 104.137,-35.2733 105.478,-45.7828 111.739,-42.6523\"/>\n",
        "</g>\n",
        "<!-- B -->\n",
        "<g id=\"node26\" class=\"node\"><title>B</title>\n",
        "<ellipse fill=\"none\" stroke=\"black\" cx=\"168\" cy=\"-18\" rx=\"27\" ry=\"18\"/>\n",
        "<text text-anchor=\"middle\" x=\"168\" y=\"-12.4\" font-family=\"Times,serif\" font-size=\"14.00\">B</text>\n",
        "</g>\n",
        "<!-- 15.5&#45;&gt;B -->\n",
        "<g id=\"edge24\" class=\"edge\"><title>15.5&#45;&gt;B</title>\n",
        "<path fill=\"none\" stroke=\"red\" d=\"M140.169,-74.6621C144.634,-65.7326 150.263,-54.475 155.288,-44.4243\"/>\n",
        "<polygon fill=\"red\" stroke=\"red\" points=\"158.522,-45.7828 159.863,-35.2733 152.261,-42.6523 158.522,-45.7828\"/>\n",
        "</g>\n",
        "</g>\n",
        "</svg>\n"
       ]
      }
     ],
     "prompt_number": 74
    },
    {
     "cell_type": "code",
     "collapsed": false,
     "input": [
      "%%dot --format svg --\n",
      "digraph G {\n",
      "   BinaryTree -> Left;\n",
      "   BinaryTree -> Right;\n",
      "}      \n",
      "digraph B {\n",
      "   rankdir=\"LR\";\n",
      "   LinkedList->NextNode;\n",
      "}"
     ],
     "language": "python",
     "metadata": {
      "slideshow": {
       "slide_type": "skip"
      }
     },
     "outputs": [
      {
       "output_type": "display_data",
       "svg": [
        "<?xml version=\"1.0\" encoding=\"UTF-8\" standalone=\"no\"?>\n",
        "<!DOCTYPE svg PUBLIC \"-//W3C//DTD SVG 1.1//EN\"\n",
        " \"http://www.w3.org/Graphics/SVG/1.1/DTD/svg11.dtd\">\n",
        "<!-- Generated by graphviz version 2.28.0 (20121121.2234)\n",
        " -->\n",
        "<!-- Title: G Pages: 1 -->\n",
        "<svg width=\"145pt\" height=\"116pt\"\n",
        " viewBox=\"0.00 0.00 145.00 116.00\" xmlns=\"http://www.w3.org/2000/svg\" xmlns:xlink=\"http://www.w3.org/1999/xlink\">\n",
        "<g id=\"graph1\" class=\"graph\" transform=\"scale(1 1) rotate(0) translate(4 112)\">\n",
        "<title>G</title>\n",
        "<polygon fill=\"white\" stroke=\"white\" points=\"-4,5 -4,-112 142,-112 142,5 -4,5\"/>\n",
        "<!-- BinaryTree -->\n",
        "<g id=\"node1\" class=\"node\"><title>BinaryTree</title>\n",
        "<ellipse fill=\"none\" stroke=\"black\" cx=\"66\" cy=\"-90\" rx=\"54.5074\" ry=\"18\"/>\n",
        "<text text-anchor=\"middle\" x=\"66\" y=\"-84.4\" font-family=\"Times,serif\" font-size=\"14.00\">BinaryTree</text>\n",
        "</g>\n",
        "<!-- Left -->\n",
        "<g id=\"node3\" class=\"node\"><title>Left</title>\n",
        "<ellipse fill=\"none\" stroke=\"black\" cx=\"27\" cy=\"-18\" rx=\"27.1809\" ry=\"18\"/>\n",
        "<text text-anchor=\"middle\" x=\"27\" y=\"-12.4\" font-family=\"Times,serif\" font-size=\"14.00\">Left</text>\n",
        "</g>\n",
        "<!-- BinaryTree&#45;&gt;Left -->\n",
        "<g id=\"edge2\" class=\"edge\"><title>BinaryTree&#45;&gt;Left</title>\n",
        "<path fill=\"none\" stroke=\"black\" d=\"M56.5592,-72.055C51.8927,-63.6793 46.1679,-53.4039 41.0033,-44.1341\"/>\n",
        "<polygon fill=\"black\" stroke=\"black\" points=\"44.0099,-42.3392 36.0853,-35.307 37.8949,-45.7462 44.0099,-42.3392\"/>\n",
        "</g>\n",
        "<!-- Right -->\n",
        "<g id=\"node5\" class=\"node\"><title>Right</title>\n",
        "<ellipse fill=\"none\" stroke=\"black\" cx=\"105\" cy=\"-18\" rx=\"32.2509\" ry=\"18\"/>\n",
        "<text text-anchor=\"middle\" x=\"105\" y=\"-12.4\" font-family=\"Times,serif\" font-size=\"14.00\">Right</text>\n",
        "</g>\n",
        "<!-- BinaryTree&#45;&gt;Right -->\n",
        "<g id=\"edge4\" class=\"edge\"><title>BinaryTree&#45;&gt;Right</title>\n",
        "<path fill=\"none\" stroke=\"black\" d=\"M75.4408,-72.055C80.1073,-63.6793 85.8321,-53.4039 90.9967,-44.1341\"/>\n",
        "<polygon fill=\"black\" stroke=\"black\" points=\"94.1051,-45.7462 95.9147,-35.307 87.9901,-42.3392 94.1051,-45.7462\"/>\n",
        "</g>\n",
        "</g>\n",
        "</svg>\n",
        "<?xml version=\"1.0\" encoding=\"UTF-8\" standalone=\"no\"?>\n",
        "<!DOCTYPE svg PUBLIC \"-//W3C//DTD SVG 1.1//EN\"\n",
        " \"http://www.w3.org/Graphics/SVG/1.1/DTD/svg11.dtd\">\n",
        "<!-- Generated by graphviz version 2.28.0 (20121121.2234)\n",
        " -->\n",
        "<!-- Title: B Pages: 1 -->\n",
        "<svg width=\"254pt\" height=\"44pt\"\n",
        " viewBox=\"0.00 0.00 254.00 44.00\" xmlns=\"http://www.w3.org/2000/svg\" xmlns:xlink=\"http://www.w3.org/1999/xlink\">\n",
        "<g id=\"graph1\" class=\"graph\" transform=\"scale(1 1) rotate(0) translate(4 40)\">\n",
        "<title>B</title>\n",
        "<polygon fill=\"white\" stroke=\"white\" points=\"-4,5 -4,-40 251,-40 251,5 -4,5\"/>\n",
        "<!-- LinkedList -->\n",
        "<g id=\"node1\" class=\"node\"><title>LinkedList</title>\n",
        "<ellipse fill=\"none\" stroke=\"black\" cx=\"54\" cy=\"-18\" rx=\"53.326\" ry=\"18\"/>\n",
        "<text text-anchor=\"middle\" x=\"54\" y=\"-12.4\" font-family=\"Times,serif\" font-size=\"14.00\">LinkedList</text>\n",
        "</g>\n",
        "<!-- NextNode -->\n",
        "<g id=\"node3\" class=\"node\"><title>NextNode</title>\n",
        "<ellipse fill=\"none\" stroke=\"black\" cx=\"195\" cy=\"-18\" rx=\"50.9515\" ry=\"18\"/>\n",
        "<text text-anchor=\"middle\" x=\"195\" y=\"-12.4\" font-family=\"Times,serif\" font-size=\"14.00\">NextNode</text>\n",
        "</g>\n",
        "<!-- LinkedList&#45;&gt;NextNode -->\n",
        "<g id=\"edge2\" class=\"edge\"><title>LinkedList&#45;&gt;NextNode</title>\n",
        "<path fill=\"none\" stroke=\"black\" d=\"M107.55,-18C116.17,-18 125.161,-18 133.946,-18\"/>\n",
        "<polygon fill=\"black\" stroke=\"black\" points=\"134.131,-21.5001 144.131,-18 134.131,-14.5001 134.131,-21.5001\"/>\n",
        "</g>\n",
        "</g>\n",
        "</svg>\n"
       ]
      }
     ],
     "prompt_number": 75
    },
    {
     "cell_type": "code",
     "collapsed": false,
     "input": [],
     "language": "python",
     "metadata": {},
     "outputs": [],
     "prompt_number": 75
    },
    {
     "cell_type": "raw",
     "metadata": {
      "slideshow": {
       "slide_type": "skip"
      }
     },
     "source": []
    }
   ],
   "metadata": {}
  }
 ]
}