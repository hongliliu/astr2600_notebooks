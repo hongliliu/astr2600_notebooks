{
 "metadata": {
  "name": "Exercise Functionalize"
 },
 "nbformat": 3,
 "nbformat_minor": 0,
 "worksheets": [
  {
   "cells": [
    {
     "cell_type": "markdown",
     "metadata": {},
     "source": [
      "This tutorial / exercise is to go through steps writing out code by hand, then turn that code into a function so you can re-use it.  You should run each of these cells!"
     ]
    },
    {
     "cell_type": "code",
     "collapsed": false,
     "input": [
      "# change some plotting defaults\n",
      "rcParams['image.origin'] = 'lower'\n",
      "rcParams['image.interpolation'] = 'nearest'\n",
      "# import modules we need\n",
      "import numpy as np\n",
      "import pylab as pl"
     ],
     "language": "python",
     "metadata": {},
     "outputs": [],
     "prompt_number": 3
    },
    {
     "cell_type": "code",
     "collapsed": false,
     "input": [
      "# import code to make a random image\n",
      "# (we did this in a much earlier lecture)\n",
      "from starphottests import make_image"
     ],
     "language": "python",
     "metadata": {
      "slideshow": {
       "slide_start": false
      }
     },
     "outputs": [],
     "prompt_number": 8
    },
    {
     "cell_type": "code",
     "collapsed": false,
     "input": [
      "# this is how you call make_image with the default parameters set\n",
      "img = make_image()"
     ],
     "language": "python",
     "metadata": {
      "slideshow": {
       "slide_start": false
      }
     },
     "outputs": [],
     "prompt_number": 9
    },
    {
     "cell_type": "code",
     "collapsed": false,
     "input": [
      "# Find the brightest pixel\n",
      "brightest_pixel = img.argmax()\n",
      "print brightest_pixel"
     ],
     "language": "python",
     "metadata": {
      "slideshow": {
       "slide_start": false
      }
     },
     "outputs": [
      {
       "output_type": "stream",
       "stream": "stdout",
       "text": [
        "5516\n"
       ]
      }
     ],
     "prompt_number": 13
    },
    {
     "cell_type": "code",
     "collapsed": false,
     "input": [
      "# OK, but we actually want the x and y positions of the brightest pixel\n",
      "ymax,xmax = np.unravel_index(brightest_pixel,img.shape) # X and Y swapped\n",
      "print xmax,ymax"
     ],
     "language": "python",
     "metadata": {
      "slideshow": {
       "slide_start": false
      }
     },
     "outputs": [
      {
       "output_type": "stream",
       "stream": "stdout",
       "text": [
        "12 43\n"
       ]
      }
     ],
     "prompt_number": 20
    },
    {
     "cell_type": "code",
     "collapsed": false,
     "input": [
      "# we can show the image...\n",
      "imshow(img)\n",
      "# and overplot the brightest pixel\n",
      "plot(xmax,ymax,'wx',markeredgewidth=2)"
     ],
     "language": "python",
     "metadata": {
      "slideshow": {
       "slide_start": false
      }
     },
     "outputs": [
      {
       "output_type": "pyout",
       "prompt_number": 22,
       "text": [
        "[<matplotlib.lines.Line2D at 0x10677ff50>]"
       ]
      },
      {
       "output_type": "display_data",
       "png": "[encoded data removed]",
       "text": [
        "<matplotlib.figure.Figure at 0x10677f6d0>"
       ]
      }
     ],
     "prompt_number": 22
    },
    {
     "cell_type": "code",
     "collapsed": false,
     "input": [
      "# chop out a chunk around the brightest pixel\n",
      "chunk = img[ymax-5:ymax+5,xmax-5:xmax+5]\n",
      "imshow(chunk)"
     ],
     "language": "python",
     "metadata": {
      "slideshow": {
       "slide_start": false
      }
     },
     "outputs": [
      {
       "output_type": "pyout",
       "prompt_number": 23,
       "text": [
        "<matplotlib.image.AxesImage at 0x106d81890>"
       ]
      },
      {
       "output_type": "display_data",
       "png": "[encoded data removed]",
       "text": [
        "<matplotlib.figure.Figure at 0x106b39190>"
       ]
      }
     ],
     "prompt_number": 23
    },
    {
     "cell_type": "markdown",
     "metadata": {},
     "source": [
      "EXERCISE:\n",
      "=========\n",
      "1. Write a function to return the x and y locations of the brightest pixel in the image\n",
      "\n",
      "2. Write a function to return a \"chunk\" of the image centered on the brightest pixel.  This function should allow you to specify how big that chunk is on a side, but it should default to 10 pixels."
     ]
    },
    {
     "cell_type": "code",
     "collapsed": false,
     "input": [
      "# Define a function to return the x and y locations of the brightest pixel in the image\n",
      "def get_brightest_star( .... ):\n",
      "    return [something]"
     ],
     "language": "python",
     "metadata": {},
     "outputs": []
    },
    {
     "cell_type": "code",
     "collapsed": false,
     "input": [
      "# Define a function to return a chunk around the brightest pixel\n",
      "def get_brightest_chunk( .... ):\n",
      "    return [something]"
     ],
     "language": "python",
     "metadata": {},
     "outputs": []
    },
    {
     "cell_type": "code",
     "collapsed": false,
     "input": [
      "# Here's test code for the get_brightest_star function\n",
      "# run this after you've written get_brightest_star\n",
      "for randomseed in arange(100):\n",
      "    img = make_image(randomseed)\n",
      "    print get_brightest_star(img)"
     ],
     "language": "python",
     "metadata": {
      "slideshow": {
       "slide_start": false
      }
     },
     "outputs": [
      {
       "output_type": "stream",
       "stream": "stdout",
       "text": [
        "(75, 33)\n",
        "(51, 7)\n",
        "(71, 112)\n",
        "(31, 16)\n",
        "(118, 52)\n",
        "(54, 56)\n",
        "(81, 67)\n",
        "(33, 86)\n",
        "(110, 65)\n",
        "(76, 98)\n",
        "(18, 46)\n",
        "(104, 68)\n",
        "(57, 95)\n",
        "(74, 24)\n",
        "(100, 60)"
       ]
      },
      {
       "output_type": "stream",
       "stream": "stdout",
       "text": [
        "\n",
        "(79, 116)\n",
        "(101, 88)\n",
        "(56, 40)\n",
        "(42, 87)\n",
        "(43, 112)\n",
        "(98, 54)\n",
        "(87, 98)\n",
        "(45, 70)\n",
        "(44, 100)\n",
        "(97, 26)\n",
        "(69, 99)\n",
        "(75, 60)\n",
        "(53, 19)\n",
        "(25, 93)\n",
        "(66, 15)\n",
        "(58, 26)\n",
        "(79, 41)\n",
        "(102, 68)\n",
        "(73, 84)\n",
        "(55, 107)"
       ]
      },
      {
       "output_type": "stream",
       "stream": "stdout",
       "text": [
        "\n",
        "(55, 100)\n",
        "(32, 36)\n",
        "(49, 106)\n",
        "(25, 44)\n",
        "(87, 89)\n",
        "(98, 58)\n",
        "(23, 28)\n",
        "(12, 43)\n",
        "(72, 60)\n",
        "(90, 76)\n",
        "(45, 58)\n",
        "(44, 84)\n",
        "(16, 51)\n",
        "(69, 109)\n",
        "(91, 22)\n",
        "(100, 67)\n",
        "(56, 49)"
       ]
      },
      {
       "output_type": "stream",
       "stream": "stdout",
       "text": [
        "\n",
        "(78, 57)\n",
        "(120, 96)\n",
        "(50, 97)\n",
        "(38, 60)\n",
        "(59, 38)\n",
        "(98, 75)\n",
        "(23, 87)\n",
        "(75, 100)\n",
        "(36, 97)\n",
        "(24, 12)\n",
        "(31, 14)\n",
        "(82, 30)\n",
        "(100, 92)\n",
        "(42, 23)\n",
        "(98, 86)\n",
        "(113, 113)\n",
        "(34, 47)\n",
        "(21, 37)\n",
        "(46, 33)\n",
        "(107, 121)"
       ]
      },
      {
       "output_type": "stream",
       "stream": "stdout",
       "text": [
        "\n",
        "(34, 40)\n",
        "(105, 80)\n",
        "(46, 69)\n",
        "(37, 95)\n",
        "(42, 35)\n",
        "(90, 117)\n",
        "(120, 40)\n",
        "(85, 90)\n",
        "(112, 28)\n",
        "(65, 62)\n",
        "(121, 39)\n",
        "(46, 43)\n",
        "(33, 39)\n",
        "(56, 72)\n",
        "(41, 109)\n",
        "(61, 83)\n",
        "(76, 110)\n",
        "(50, 104)\n",
        "(49, 49)"
       ]
      },
      {
       "output_type": "stream",
       "stream": "stdout",
       "text": [
        "\n",
        "(111, 34)\n",
        "(61, 11)\n",
        "(34, 102)\n",
        "(81, 32)\n",
        "(30, 72)\n",
        "(17, 25)\n",
        "(54, 8)\n",
        "(49, 95)\n",
        "(109, 111)\n"
       ]
      }
     ],
     "prompt_number": 25
    },
    {
     "cell_type": "markdown",
     "metadata": {},
     "source": [
      "With those two functions in hand, we'll now take the next step along the photometry flow chart (skipping the star identification procedure).\n",
      "\n",
      "We'll take advantage of the fact that we know about how big a star is supposed to be (5x5 pixels) to \"hide\" the star from ourselves at each step.\n",
      "\n",
      "First, let's make a star mask.  Make a \"mask\" that is equal to \"True\" wherever the value in the image is >0.1, and False otherwise.  This does *not* require a for loop!"
     ]
    },
    {
     "cell_type": "code",
     "collapsed": false,
     "input": [
      "mask = ...\n",
      "imshow(mask)"
     ],
     "language": "python",
     "metadata": {
      "slideshow": {
       "slide_start": false
      }
     },
     "outputs": []
    },
    {
     "cell_type": "markdown",
     "metadata": {},
     "source": [
      "Next, we'll extract the mask in the same area as our \"chunk\" above.  Once you've made your mask, you should be able to run this:"
     ]
    },
    {
     "cell_type": "code",
     "collapsed": false,
     "input": [
      "mask_chunk = mask[ymax-5:ymax+5,xmax-5:xmax+5]\n",
      "subplot(121)\n",
      "imshow(mask_chunk)\n",
      "subplot(122)\n",
      "imshow(chunk)"
     ],
     "language": "python",
     "metadata": {},
     "outputs": []
    },
    {
     "cell_type": "markdown",
     "metadata": {},
     "source": [
      "Modify your `get_brightest_chunk` code so that it accepts the mask as an input in addition to the image.  \n",
      "\n",
      "(copy & paste your code from above, then modify it here.  Rename it to `get_next_brightest_chunk`)\n",
      "\n",
      "The code should change the values of the mask to `False` in the \"chunk\" region"
     ]
    },
    {
     "cell_type": "code",
     "collapsed": false,
     "input": [
      "def get_next_brightest_chunk ...\n",
      "    ..."
     ],
     "language": "python",
     "metadata": {},
     "outputs": [],
     "prompt_number": 2
    },
    {
     "cell_type": "markdown",
     "metadata": {},
     "source": [
      "Now it should be possible to get the `N` brightest stars in the image.  \n",
      "\n",
      "Write a for loop that loops 9 times, from 1 to 10, and each time runs your `get_next_brightest_chunk` code.  I've made a template for you to fill in.  \n",
      "\n",
      "Note: you need to re-define the mask in this cell because it's going to be modified every time you run `get_next_brightest_chunk`."
     ]
    },
    {
     "cell_type": "code",
     "collapsed": false,
     "input": [
      "mask =\n",
      "for ii in ... :\n",
      "    pl.subplot(3,3,ii)\n",
      "    chunk = get_next_brightest_chunk(...)\n",
      "    print \"%i'th brightest star has peak %f\" % (ii,chunk.max())\n",
      "    imshow(chunk)"
     ],
     "language": "python",
     "metadata": {},
     "outputs": []
    },
    {
     "cell_type": "markdown",
     "metadata": {},
     "source": [
      "Now that we've successfully extracted individual stars from the image, we'll figure out how to extract just the star's pixels and sum those pixels.\n",
      "\n",
      "To start, I'll show you a recursive function that \"moves\" to the left side of a mask region."
     ]
    },
    {
     "cell_type": "code",
     "collapsed": false,
     "input": [
      "# I'll make something approximately circular first...\n",
      "xx,yy = np.meshgrid(np.linspace(-2,2,20),np.linspace(-2,2,20))\n",
      "rr = (xx**2+yy**2)**0.5\n",
      "imshow(rr)"
     ],
     "language": "python",
     "metadata": {},
     "outputs": [
      {
       "output_type": "pyout",
       "prompt_number": 106,
       "text": [
        "<matplotlib.image.AxesImage at 0x1071cd610>"
       ]
      },
      {
       "output_type": "display_data",
       "png": "[encoded data removed]",
       "text": [
        "<matplotlib.figure.Figure at 0x107cce490>"
       ]
      }
     ],
     "prompt_number": 106
    },
    {
     "cell_type": "code",
     "collapsed": false,
     "input": [
      "# now the mask will be some subset of that\n",
      "mask_region = rr < 1\n",
      "imshow(mask_region)"
     ],
     "language": "python",
     "metadata": {},
     "outputs": [
      {
       "output_type": "pyout",
       "prompt_number": 131,
       "text": [
        "<matplotlib.image.AxesImage at 0x106773990>"
       ]
      },
      {
       "output_type": "display_data",
       "png": "[encoded data removed]",
       "text": [
        "<matplotlib.figure.Figure at 0x10718c190>"
       ]
      }
     ],
     "prompt_number": 131
    },
    {
     "cell_type": "code",
     "collapsed": false,
     "input": [
      "# our starting point will be the center\n",
      "start_x,start_y = start = (10,10) # start *must* be a tuple!\n",
      "imshow(mask_region)\n",
      "plot(start[0],start[1],'s',color=(0,1,0))\n",
      "axis([0,20,0,20]) # this just resets the axis limits "
     ],
     "language": "python",
     "metadata": {},
     "outputs": [
      {
       "output_type": "pyout",
       "prompt_number": 132,
       "text": [
        "[0, 20, 0, 20]"
       ]
      },
      {
       "output_type": "display_data",
       "png": "[encoded data removed]",
       "text": [
        "<matplotlib.figure.Figure at 0x106794c90>"
       ]
      }
     ],
     "prompt_number": 132
    },
    {
     "cell_type": "code",
     "collapsed": false,
     "input": [
      "# Now our goal is to write a function that starts at some point and moves left\n",
      "# The \"End Condition\" will be when we reach a mask value of zero\n",
      "def move_left(x,y, image):\n",
      "    if image[y,x] == 0:\n",
      "        # base case: return the left edge\n",
      "        return x,y\n",
      "    else:\n",
      "        # if the value is still non-zero, keep going\n",
      "        # position = (x,y), so we'll subtract 1 from x to move left\n",
      "        # we have to pass along image each time\n",
      "        # position *must* be a tuple!\n",
      "        return move_left(x-1,y, image)"
     ],
     "language": "python",
     "metadata": {},
     "outputs": [],
     "prompt_number": 133
    },
    {
     "cell_type": "markdown",
     "metadata": {},
     "source": [
      "The above function works fine, but I want you to be able to see what's going on, so we'll add a plot statement at each step."
     ]
    },
    {
     "cell_type": "code",
     "collapsed": false,
     "input": [
      "def move_left(x, y, image):\n",
      "    if image[y,x] == False:\n",
      "        # base case: return the left edge\n",
      "        plot(x,y,'o')\n",
      "        return x,y \n",
      "    else:\n",
      "        # if the value is still non-zero, keep going\n",
      "        # position = [y,x], so we'll subtract 1 from x to move left\n",
      "        # we have to pass along image each time\n",
      "        plot(x,y,'s')\n",
      "        return move_left(x-1,y, image)"
     ],
     "language": "python",
     "metadata": {},
     "outputs": [],
     "prompt_number": 134
    },
    {
     "cell_type": "code",
     "collapsed": false,
     "input": [
      "# now let's actually run it\n",
      "# start by plotting the image\n",
      "imshow(mask_region)\n",
      "# now call the move_left procedure\n",
      "# print it so we can see where the left edge is\n",
      "print move_left(start_x, start_y, mask_region)"
     ],
     "language": "python",
     "metadata": {},
     "outputs": [
      {
       "output_type": "stream",
       "stream": "stdout",
       "text": [
        "10 10\n",
        "9 10\n",
        "8 10\n",
        "7 10\n",
        "6 10\n",
        "5 10\n",
        "4 10\n",
        "(4, 10)\n"
       ]
      },
      {
       "output_type": "display_data",
       "png": "[encoded data removed]",
       "text": [
        "<matplotlib.figure.Figure at 0x1067aac10>"
       ]
      }
     ],
     "prompt_number": 135
    },
    {
     "cell_type": "markdown",
     "metadata": {},
     "source": [
      "As you can see, we started at the center then shifted 1 pixel left each time until we reached an edge.  \n",
      "\n",
      "Now, your task is to do the same thing, but:  \n",
      "\n",
      "  1. go up instead of left\n",
      "  2. at each step, set the \"image\" mask from `True` to `False`"
     ]
    },
    {
     "cell_type": "code",
     "collapsed": false,
     "input": [
      "def move_up(x,y, image):\n",
      "    ..."
     ],
     "language": "python",
     "metadata": {},
     "outputs": [],
     "prompt_number": 136
    },
    {
     "cell_type": "code",
     "collapsed": false,
     "input": [
      "# run the code, make sure it works\n",
      "mask_region = rr < 1\n",
      "start_x,start_y = start = (10,10)\n",
      "move_up(start_x, start_y, mask_region)\n",
      "imshow(mask_region)"
     ],
     "language": "python",
     "metadata": {},
     "outputs": [
      {
       "output_type": "pyout",
       "prompt_number": 138,
       "text": [
        "<matplotlib.image.AxesImage at 0x106754dd0>"
       ]
      },
      {
       "output_type": "display_data",
       "png": "[encoded data removed]",
       "text": [
        "<matplotlib.figure.Figure at 0x106f48550>"
       ]
      }
     ],
     "prompt_number": 138
    },
    {
     "cell_type": "markdown",
     "metadata": {},
     "source": [
      "Now that we've got that working, combine the two: write a recursive function that moves both *up* and *left*, and at each pixel sets the value of image to zero.  This time, it should return `None` when done."
     ]
    },
    {
     "cell_type": "code",
     "collapsed": false,
     "input": [
      "def move_up_left(x, y, image):\n",
      "    ..."
     ],
     "language": "python",
     "metadata": {},
     "outputs": [],
     "prompt_number": 139
    },
    {
     "cell_type": "code",
     "collapsed": false,
     "input": [
      "# run the code, make sure it works\n",
      "mask_region = rr < 1\n",
      "start_x,start_y = start = (10,10)\n",
      "move_up_left(start_x, start_y, mask_region)\n",
      "imshow(mask_region)"
     ],
     "language": "python",
     "metadata": {},
     "outputs": [
      {
       "output_type": "pyout",
       "prompt_number": 140,
       "text": [
        "<matplotlib.image.AxesImage at 0x106f45c10>"
       ]
      },
      {
       "output_type": "display_data",
       "png": "[encoded data removed]",
       "text": [
        "<matplotlib.figure.Figure at 0x106c96190>"
       ]
      }
     ],
     "prompt_number": 140
    },
    {
     "cell_type": "markdown",
     "metadata": {},
     "source": [
      "Now that we've done that, make the same code, but have it go in all 4 directions.  Should be easy at this point; only 2 more lines of code.\n",
      "\n",
      "Does the order matter?"
     ]
    },
    {
     "cell_type": "code",
     "collapsed": false,
     "input": [
      "def move_ALL_THE_DIRECTIONS(x, y, image):\n",
      "    ..."
     ],
     "language": "python",
     "metadata": {},
     "outputs": [],
     "prompt_number": 143
    },
    {
     "cell_type": "code",
     "collapsed": false,
     "input": [
      "# run the code, make sure it works\n",
      "mask_region = rr < 1\n",
      "start_x,start_y = start = (10,10)\n",
      "move_ALL_THE_DIRECTIONS(start_x, start_y, mask_region)\n",
      "imshow(mask_region)\n",
      "# should be empty now"
     ],
     "language": "python",
     "metadata": {},
     "outputs": [
      {
       "output_type": "pyout",
       "prompt_number": 144,
       "text": [
        "<matplotlib.image.AxesImage at 0x107c7d390>"
       ]
      },
      {
       "output_type": "display_data",
       "png": "[encoded data removed]",
       "text": [
        "<matplotlib.figure.Figure at 0x106f7d710>"
       ]
      }
     ],
     "prompt_number": 144
    },
    {
     "cell_type": "markdown",
     "metadata": {},
     "source": [
      "Modify your code so that instead of returning `None`, it returns the number of pixels included in the final image.  This might be a little tricky, but again only requires modifying 1-2 lines of code."
     ]
    },
    {
     "cell_type": "code",
     "collapsed": false,
     "input": [
      "def count_ALL_THE_DIRECTIONS(x, y, image):\n",
      "    ..."
     ],
     "language": "python",
     "metadata": {},
     "outputs": [],
     "prompt_number": 150
    },
    {
     "cell_type": "code",
     "collapsed": false,
     "input": [
      "# run the code, make sure it works\n",
      "mask_region = rr < 1\n",
      "start_x,start_y = start = (10,10)\n",
      "print count_ALL_THE_DIRECTIONS(start_x, start_y, mask_region)\n",
      "imshow(mask_region)\n",
      "# should be empty now"
     ],
     "language": "python",
     "metadata": {},
     "outputs": [
      {
       "output_type": "stream",
       "stream": "stdout",
       "text": [
        "76\n"
       ]
      },
      {
       "output_type": "pyout",
       "prompt_number": 151,
       "text": [
        "<matplotlib.image.AxesImage at 0x106ebb710>"
       ]
      },
      {
       "output_type": "display_data",
       "png": "[encoded data removed]",
       "text": [
        "<matplotlib.figure.Figure at 0x1067c8450>"
       ]
      }
     ],
     "prompt_number": 151
    },
    {
     "cell_type": "markdown",
     "metadata": {},
     "source": [
      "We now have code that loops over all pixels in the \"star\" (if that's what we're working on).\n",
      "\n",
      "The next step is summing all the pixels.  First thing, we'll make ourselves a fake \"star\" image:"
     ]
    },
    {
     "cell_type": "code",
     "collapsed": false,
     "input": [
      "star = np.exp(-rr/2.)\n",
      "imshow(star)"
     ],
     "language": "python",
     "metadata": {},
     "outputs": [
      {
       "output_type": "pyout",
       "prompt_number": 152,
       "text": [
        "<matplotlib.image.AxesImage at 0x107c171d0>"
       ]
      },
      {
       "output_type": "display_data",
       "png": "[encoded data removed]",
       "text": [
        "<matplotlib.figure.Figure at 0x107c54c10>"
       ]
      }
     ],
     "prompt_number": 152
    },
    {
     "cell_type": "markdown",
     "metadata": {},
     "source": [
      "Good enough.  Now modify your \"count\" code so that instead of counting the number of pixels, it sums the pixels in a second image.\n",
      "\n",
      "The big change here is that your code needs to accept *two* arrays, one a \"mask\" (which is what we were working on before), and the other the star image."
     ]
    },
    {
     "cell_type": "code",
     "collapsed": false,
     "input": [
      "def sum_ALL_THE_DIRECTIONS(x, y, ..., ...):\n",
      "    ..."
     ],
     "language": "python",
     "metadata": {},
     "outputs": [],
     "prompt_number": 153
    },
    {
     "cell_type": "code",
     "collapsed": false,
     "input": [
      "# run the code, make sure it works\n",
      "mask_region = rr < 1\n",
      "start_x,start_y = start = (10,10)\n",
      "print sum_ALL_THE_DIRECTIONS(start_x, start_y, star, mask_region)\n",
      "imshow(mask_region)\n",
      "# should be empty now"
     ],
     "language": "python",
     "metadata": {},
     "outputs": [
      {
       "output_type": "stream",
       "stream": "stdout",
       "text": [
        "54.2276120184\n"
       ]
      },
      {
       "output_type": "pyout",
       "prompt_number": 154,
       "text": [
        "<matplotlib.image.AxesImage at 0x107c28250>"
       ]
      },
      {
       "output_type": "display_data",
       "png": "[encoded data removed]",
       "text": [
        "<matplotlib.figure.Figure at 0x106ea23d0>"
       ]
      }
     ],
     "prompt_number": 154
    },
    {
     "cell_type": "markdown",
     "metadata": {},
     "source": [
      "You now have a recursive star-summing algorithm.  Use it to replace the \"get_chunk\" code in your `get_next_brightest_chunk` code"
     ]
    },
    {
     "cell_type": "code",
     "collapsed": false,
     "input": [
      "# Define a function to return a chunk around the brightest pixel\n",
      "def get_next_brightest_star(img,mask):\n",
      "    ..."
     ],
     "language": "python",
     "metadata": {},
     "outputs": []
    },
    {
     "cell_type": "code",
     "collapsed": false,
     "input": [
      "mask = img > 0.1\n",
      "for ii in xrange(1,10) :\n",
      "    starflux = get_next_brightest_star(img,mask)\n",
      "    print \"%i'th brightest star has flux %f\" % (ii,starflux)"
     ],
     "language": "python",
     "metadata": {},
     "outputs": [
      {
       "output_type": "stream",
       "stream": "stdout",
       "text": [
        "1'th brightest star has flux 3.843738\n",
        "2'th brightest star has flux 3.810195\n",
        "3'th brightest star has flux 7.965039\n",
        "4'th brightest star has flux 3.724138\n",
        "5'th brightest star has flux 3.615788\n",
        "6'th brightest star has flux 3.603417\n",
        "7'th brightest star has flux 3.750942\n",
        "8'th brightest star has flux 3.184787\n",
        "9'th brightest star has flux 2.889829\n"
       ]
      }
     ],
     "prompt_number": 156
    },
    {
     "cell_type": "markdown",
     "metadata": {},
     "source": [
      "You've essentially finished writing the *basic* version of a star finding and star extraction algorithm.\n",
      "\n",
      "These methods will be very helpful for the Connect 4 project!"
     ]
    }
   ],
   "metadata": {}
  }
 ]
}