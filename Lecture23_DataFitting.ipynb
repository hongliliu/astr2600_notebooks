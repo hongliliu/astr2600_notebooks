{
 "metadata": {
  "name": "Lecture23_DataFitting"
 },
 "nbformat": 3,
 "nbformat_minor": 0,
 "worksheets": [
  {
   "cells": [
    {
     "cell_type": "code",
     "collapsed": false,
     "input": [
      "from IPython.core.display import HTML\n",
      "\n",
      "HTML(\"\"\"<style type=\"text/css\">\n",
      ".reveal {\n",
      "    overflow-y: auto;\n",
      "    overflow-x: hidden;\n",
      "}\"\"\")\n",
      "\n",
      "%config InlineBackend.close_figures = False"
     ],
     "language": "python",
     "metadata": {
      "slideshow": {
       "slide_type": "skip"
      }
     },
     "outputs": [
      {
       "html": [
        "<style type=\"text/css\">\n",
        ".reveal {\n",
        "    overflow-y: auto;\n",
        "    overflow-x: hidden;\n",
        "}"
       ],
       "output_type": "pyout",
       "prompt_number": 50,
       "text": [
        "<IPython.core.display.HTML at 0x1093c01d0>"
       ]
      }
     ],
     "prompt_number": 50
    },
    {
     "cell_type": "markdown",
     "metadata": {
      "slideshow": {
       "slide_start": true,
       "slide_step": true,
       "slide_type": "slide"
      }
     },
     "source": [
      "Annotated notes from Lecture 23\n",
      "\n",
      "Each python command is given with its IDL equivalent when there is one.\n",
      "\n",
      "__GOALS:__\n",
      "\n",
      " *   Learn the tools needed for the data fitting homework assignment\n",
      " *   Learn some generally useful data fitting techniques\n",
      "\n",
      "__TUTORIAL TODAY:__  \n",
      "Load up this ipython notebook and change the values of `m` and `b` in the \"Fitting Lines to Data\" section, `A` and `B` in \"Curve Fitting\", and then again `a` and `b` in \"Fitting a Power Law\"\n"
     ]
    },
    {
     "cell_type": "code",
     "collapsed": false,
     "input": [
      "# You can ignore this, it's just for aesthetic purposes\n",
      "matplotlib.rcParams['figure.figsize'] = (8,5)\n",
      "rcParams['savefig.dpi'] = 100"
     ],
     "language": "python",
     "metadata": {
      "slideshow": {
       "slide_start": false,
       "slide_step": false,
       "slide_type": "skip"
      }
     },
     "outputs": [],
     "prompt_number": 2
    },
    {
     "cell_type": "markdown",
     "metadata": {
      "slideshow": {
       "slide_start": false,
       "slide_step": true,
       "slide_type": "slide"
      }
     },
     "source": [
      "Fitting Lines to Data\n",
      "=====================\n",
      "We'll cover very basic line fitting, largely ignoring the subtleties of the statistics in favor of showing you *how* to perform simple fits of models to data."
     ]
    },
    {
     "cell_type": "code",
     "collapsed": false,
     "input": [
      "# These import commands set up the environment so we have access to numpy and pylab functions\n",
      "import numpy as np\n",
      "import pylab as pl\n",
      "\n",
      "# Data Fitting\n",
      "# First, we'll generate some fake data to use\n",
      "x = np.linspace(0,10,50) # 50 x points from 0 to 10\n",
      "# IDL> x = findgen(50)/49. * 10\n",
      "\n",
      "# Remember, you can look at the help for linspace too:\n",
      "# help(np.linspace)"
     ],
     "language": "python",
     "metadata": {
      "slideshow": {
       "slide_start": false,
       "slide_step": false,
       "slide_type": "slide"
      }
     },
     "outputs": [],
     "prompt_number": 3
    },
    {
     "cell_type": "code",
     "collapsed": false,
     "input": [
      "# y = m x + b\n",
      "y = 2.5 * x + 1.2"
     ],
     "language": "python",
     "metadata": {
      "slideshow": {
       "slide_start": false,
       "slide_step": true,
       "slide_type": "subslide"
      }
     },
     "outputs": [],
     "prompt_number": 4
    },
    {
     "cell_type": "code",
     "collapsed": false,
     "input": [
      "# let's plot that\n",
      "pl.clf()\n",
      "pl.plot(x,y)\n",
      "# IDL> p1 = plot(x,y)"
     ],
     "language": "python",
     "metadata": {
      "slideshow": {
       "slide_start": true,
       "slide_step": true,
       "slide_type": "subslide"
      }
     },
     "outputs": [
      {
       "output_type": "pyout",
       "prompt_number": 5,
       "text": [
        "[<matplotlib.lines.Line2D at 0x105bb4b50>]"
       ]
      },
      {
       "output_type": "display_data",
       "png": "[encoded data removed]",
       "text": [
        "<matplotlib.figure.Figure at 0x105757b10>"
       ]
      }
     ],
     "prompt_number": 5
    },
    {
     "cell_type": "code",
     "collapsed": false,
     "input": [
      "# looks like a simple line.  But we want to see the individual data points\n",
      "pl.plot(x,y,marker='s')\n",
      "# IDL> p2 = plot(x,y,symbol='s',overplot=pl)"
     ],
     "language": "python",
     "metadata": {
      "slideshow": {
       "slide_start": true,
       "slide_step": true,
       "slide_type": "subslide"
      }
     },
     "outputs": [
      {
       "output_type": "pyout",
       "prompt_number": 6,
       "text": [
        "[<matplotlib.lines.Line2D at 0x105bdea90>]"
       ]
      },
      {
       "output_type": "display_data",
       "png": "[encoded data removed]",
       "text": [
        "<matplotlib.figure.Figure at 0x105757750>"
       ]
      }
     ],
     "prompt_number": 6
    },
    {
     "cell_type": "markdown",
     "metadata": {
      "slideshow": {
       "slide_type": "slide"
      }
     },
     "source": [
      "For the first, most basic example, we're going to add Gaussian (normally distributed) random noise to our line so that we can try to fit noisy data (which is what you do in the \"real world\")"
     ]
    },
    {
     "cell_type": "code",
     "collapsed": false,
     "input": [
      "# We need to add noise first\n",
      "noise = pl.randn(y.size)\n",
      "# in IDL, this would be: IDL> noise = randomn(seed, n_elements(y))\n",
      "# Like IDL, python has a 'randn' function that is centered at 0 with a standard deviation of 1.  \n",
      "# IDL's 'randomu' is 'pl.rand' instead\n",
      "# What's y.size?\n",
      "print y.size\n",
      "print len(y)"
     ],
     "language": "python",
     "metadata": {
      "slideshow": {
       "slide_start": false
      }
     },
     "outputs": [
      {
       "output_type": "stream",
       "stream": "stdout",
       "text": [
        "50\n",
        "50\n"
       ]
      }
     ],
     "prompt_number": 7
    },
    {
     "cell_type": "markdown",
     "metadata": {
      "slideshow": {
       "slide_start": false
      }
     },
     "source": [
      "`y.size` is the number of elements in y, just like `len(y)` or, in IDL, `n_elements(y)`"
     ]
    },
    {
     "cell_type": "markdown",
     "metadata": {
      "slideshow": {
       "slide_type": "slide"
      }
     },
     "source": [
      "Now add noise to the data."
     ]
    },
    {
     "cell_type": "code",
     "collapsed": false,
     "input": [
      "# We can add arrays in python just like in IDL\n",
      "noisy_flux = y + noise\n",
      "# We'll plot it too, but this time without any lines\n",
      "# between the points, and we'll use black dots\n",
      "# ('k' is a shortcut for 'black', '.' means 'point')\n",
      "pl.clf() # clear the figure\n",
      "pl.plot(x,noisy_flux,'k.')\n",
      "# We need labels, of course\n",
      "pl.xlabel(\"Time\")\n",
      "pl.ylabel(\"Flux\")"
     ],
     "language": "python",
     "metadata": {
      "slideshow": {
       "slide_start": false,
       "slide_type": "-"
      }
     },
     "outputs": [
      {
       "output_type": "pyout",
       "prompt_number": 8,
       "text": [
        "<matplotlib.text.Text at 0x105bfaa10>"
       ]
      },
      {
       "output_type": "display_data",
       "png": "[encoded data removed]",
       "text": [
        "<matplotlib.figure.Figure at 0x105b69990>"
       ]
      }
     ],
     "prompt_number": 8
    },
    {
     "cell_type": "markdown",
     "metadata": {
      "slideshow": {
       "slide_type": "subslide"
      }
     },
     "source": [
      "The IDL equivalent:\n",
      "    \n",
      "    p1.putdata,x,noisy_flux\n",
      "    p1.symbol='o'\n",
      "    p1.sym_size=0.3\n",
      "    p1.linestyle=''\n",
      "    p1.xtitle = \"Time\"\n",
      "    p1.ytitle = \"Flux\"\n",
      "    p2.hide = 1\n"
     ]
    },
    {
     "cell_type": "markdown",
     "metadata": {
      "slideshow": {
       "slide_start": false,
       "slide_type": "slide"
      }
     },
     "source": [
      "On to the fitting stage.\n",
      "We're going to fit a function of the form\n",
      "\n",
      "$$y = m*x + b$$\n",
      "\n",
      "which is the same as\n",
      "\n",
      "$$f(x) = p[1]*x + p[0]$$\n",
      "\n",
      "to the data.  Fitting this function means we are trying to determine the values of $m$ and $b$ (or $p[0]$ and $p[1]$).\n",
      "\n",
      "This is called \"linear regression\", but it is also a special case of a more\n",
      "general concept: this is a first-order polynomial.\n",
      "\"First Order\" means that the highest exponent of x in the equation is 1\n"
     ]
    },
    {
     "cell_type": "code",
     "collapsed": false,
     "input": [
      "# We'll use polyfit to find the values of the coefficients.  The third\n",
      "# parameter is the \"order\" (1=linear, 2=quadratic, 3=cubic, etc)\n",
      "p = np.polyfit(x,noisy_flux,1)\n",
      "# help(polyfit) if you want to find out more\n",
      "# IDL> p = linfit(x,noisy_flux)\n",
      "# or \n",
      "# IDL> p = poly_fit(x,noisy_flux,1)"
     ],
     "language": "python",
     "metadata": {
      "slideshow": {
       "slide_start": false
      }
     },
     "outputs": [],
     "prompt_number": 9
    },
    {
     "cell_type": "code",
     "collapsed": false,
     "input": [
      "# print our fit parameters.  They are not exact because there's noise in the data!\n",
      "# note that this is an array!\n",
      "print p, \" and we chose m=2.5 and b=1.2\"\n",
      "print type(p) # you can ask python to tell you what type a variable is"
     ],
     "language": "python",
     "metadata": {
      "slideshow": {
       "slide_start": false,
       "slide_type": "subslide"
      }
     },
     "outputs": [
      {
       "output_type": "stream",
       "stream": "stdout",
       "text": [
        "[ 2.49617641  1.32560353]  and we chose m=2.5 and b=1.2\n",
        "<type 'numpy.ndarray'>\n"
       ]
      }
     ],
     "prompt_number": 10
    },
    {
     "cell_type": "code",
     "collapsed": false,
     "input": [
      "# Great!  We've got our fit.  Let's overplot the data and the fit now\n",
      "pl.clf() # clear the figure\n",
      "pl.plot(x,noisy_flux,'k.') # repeated from above\n",
      "pl.plot(x,p[0]*x+p[1],'r-') # A red solid line\n",
      "pl.xlabel(\"Time\") # labels again\n",
      "pl.ylabel(\"Flux\")\n",
      "# IDL> p3 = plot(x,p[1]*x+p[0],color='r',overplot=p1)\n",
      "# (in IDL, just don't clear the plot)"
     ],
     "language": "python",
     "metadata": {
      "slideshow": {
       "slide_start": false,
       "slide_type": "fragment"
      }
     },
     "outputs": [
      {
       "output_type": "pyout",
       "prompt_number": 11,
       "text": [
        "<matplotlib.text.Text at 0x105c41250>"
       ]
      },
      {
       "output_type": "display_data",
       "png": "[encoded data removed]",
       "text": [
        "<matplotlib.figure.Figure at 0x105c00310>"
       ]
      }
     ],
     "prompt_number": 11
    },
    {
     "cell_type": "code",
     "collapsed": false,
     "input": [
      "# Cool, but there's another (better) way to do this.  We'll use the polyval\n",
      "# function instead of writing out the m x + b equation ourselves\n",
      "pl.clf() # clear the figure\n",
      "pl.plot(x,noisy_flux,'k.') # repeated from above\n",
      "pl.plot(x,np.polyval(p,x),'r-') # A red solid line\n",
      "pl.xlabel(\"Time\") # labels again\n",
      "pl.ylabel(\"Flux\")"
     ],
     "language": "python",
     "metadata": {
      "slideshow": {
       "slide_start": false,
       "slide_type": "subslide"
      }
     },
     "outputs": [
      {
       "output_type": "pyout",
       "prompt_number": 12,
       "text": [
        "<matplotlib.text.Text at 0x105c3f810>"
       ]
      },
      {
       "output_type": "display_data",
       "png": "[encoded data removed]",
       "text": [
        "<matplotlib.figure.Figure at 0x105c4f110>"
       ]
      }
     ],
     "prompt_number": 12
    },
    {
     "cell_type": "code",
     "collapsed": false,
     "input": [
      "# help(polyval) if you want to find out more"
     ],
     "language": "python",
     "metadata": {
      "slideshow": {
       "slide_start": false
      }
     },
     "outputs": [],
     "prompt_number": 13
    },
    {
     "cell_type": "markdown",
     "metadata": {
      "slideshow": {
       "slide_type": "subslide"
      }
     },
     "source": [
      "The IDL equivalent, again:\n",
      "        \n",
      "    IDL> p3.hide=1\n",
      "    IDL> p4 = plot(x,poly(x,p),color='r',overplot=p1)\n"
     ]
    },
    {
     "cell_type": "markdown",
     "metadata": {
      "slideshow": {
       "slide_start": false,
       "slide_type": "slide"
      }
     },
     "source": [
      "Let's do the same thing with a noisier data set.  I'm going to leave out most of the comments this time."
     ]
    },
    {
     "cell_type": "code",
     "collapsed": false,
     "input": [
      "noisy_flux = y+noise*10\n",
      "p = polyfit(x,noisy_flux,1)\n",
      "print p"
     ],
     "language": "python",
     "metadata": {
      "slideshow": {
       "slide_start": false
      }
     },
     "outputs": [
      {
       "output_type": "stream",
       "stream": "stdout",
       "text": [
        "[ 2.46176413  2.45603528]\n"
       ]
      }
     ],
     "prompt_number": 14
    },
    {
     "cell_type": "code",
     "collapsed": false,
     "input": [
      "# plot it\n",
      "pl.clf() # clear the figure\n",
      "pl.plot(x,noisy_flux,'k.') # repeated from above\n",
      "pl.plot(x,np.polyval(p,x),'r-',label=\"Best fit\") # A red solid line\n",
      "pl.plot(x,2.5*x+1.2,'b--',label=\"Input\") # a blue dashed line showing the REAL line\n",
      "pl.legend(loc='best') # make a legend in the best location\n",
      "pl.xlabel(\"Time\") # labels again\n",
      "pl.ylabel(\"Flux\")"
     ],
     "language": "python",
     "metadata": {
      "slideshow": {
       "slide_start": false,
       "slide_type": "subslide"
      }
     },
     "outputs": [
      {
       "output_type": "pyout",
       "prompt_number": 15,
       "text": [
        "<matplotlib.text.Text at 0x105cbb510>"
       ]
      },
      {
       "output_type": "display_data",
       "png": "[encoded data removed]",
       "text": [
        "<matplotlib.figure.Figure at 0x105c8e150>"
       ]
      }
     ],
     "prompt_number": 15
    },
    {
     "cell_type": "markdown",
     "metadata": {
      "slideshow": {
       "slide_start": false
      }
     },
     "source": [
      "Despite the noisy data, our fit is still pretty good!  One last plotting trick, then we'll move on."
     ]
    },
    {
     "cell_type": "markdown",
     "metadata": {
      "slideshow": {
       "slide_type": "subslide"
      }
     },
     "source": [
      "The IDL equivalent:\n",
      "    \n",
      "    p4.hide=1\n",
      "    noisy_flux = y+noise*10\n",
      "    p = poly_fit(x,noisy_flux,1)\n",
      "    p1.putdata,x,noisy_flux\n",
      "    p2 = plot(x,poly(x,p),color='r',overplot=p1,name=\"Best Fit\")\n",
      "    p3 = plot(x,2.5*x+1.2,color='b',linestyle='--',overplot=p1,name=\"Input Model\")\n",
      "    \n",
      "    p_legend = legend(target=[p2,p3]) \n"
     ]
    },
    {
     "cell_type": "code",
     "collapsed": false,
     "input": [
      "pl.clf() # clear the figure\n",
      "pl.errorbar(x,noisy_flux,yerr=10,marker='.',color='k',linestyle='none') # errorbar requires some extras to look nice\n",
      "pl.plot(x,np.polyval(p,x),'r-',label=\"Best fit\") # A red solid line\n",
      "pl.plot(x,2.5*x+1.2,'b--',label=\"Input\") # a blue dashed line showing the REAL line\n",
      "pl.legend(loc='best') # make a legend in the best location\n",
      "pl.xlabel(\"Time\") # labels again\n",
      "pl.ylabel(\"Flux\")"
     ],
     "language": "python",
     "metadata": {
      "slideshow": {
       "slide_start": false,
       "slide_type": "slide"
      }
     },
     "outputs": [
      {
       "output_type": "pyout",
       "prompt_number": 16,
       "text": [
        "<matplotlib.text.Text at 0x105fc04d0>"
       ]
      },
      {
       "output_type": "display_data",
       "png": "[encoded data removed]",
       "text": [
        "<matplotlib.figure.Figure at 0x105c0ac50>"
       ]
      }
     ],
     "prompt_number": 16
    },
    {
     "cell_type": "markdown",
     "metadata": {
      "slideshow": {
       "slide_type": "subslide"
      }
     },
     "source": [
      "IDL Equivalent:\n",
      "    \n",
      "    errp = errorplot(x,noisy_flux,replicate(10,n_elements(x)),$\n",
      "        linestyle='', symbol='o', sym_size=0.3, xtitle='Time', ytitle='Flux')\n",
      "    \n",
      "    errp2 = plot(x,poly(x,p),color='r',overplot=errp,name=\"Best Fit\")\n",
      "    errp3 = plot(x,2.5*x+1.2,color='b',linestyle='--',overplot=errp,name=\"Input Model\")\n",
      "    p_legend = legend(target=[errp2,errp3]) \n"
     ]
    },
    {
     "cell_type": "markdown",
     "metadata": {
      "slideshow": {
       "slide_start": false,
       "slide_type": "slide"
      }
     },
     "source": [
      "Curve Fitting\n",
      "=============\n",
      "\n",
      "We'll now move on to more complicated curves.  What if the data looks more like a sine curve?  We'll create \"fake data\" in basically the same way as above."
     ]
    },
    {
     "cell_type": "code",
     "collapsed": false,
     "input": [
      "# this time we want our \"independent variable\" to be in radians\n",
      "x = np.linspace(0,2*np.pi,50)\n",
      "y = np.sin(x)\n",
      "pl.clf()\n",
      "pl.plot(x,y)"
     ],
     "language": "python",
     "metadata": {
      "slideshow": {
       "slide_start": false
      }
     },
     "outputs": [
      {
       "output_type": "pyout",
       "prompt_number": 17,
       "text": [
        "[<matplotlib.lines.Line2D at 0x10638c2d0>]"
       ]
      },
      {
       "output_type": "display_data",
       "png": "[encoded data removed]",
       "text": [
        "<matplotlib.figure.Figure at 0x105c38810>"
       ]
      }
     ],
     "prompt_number": 17
    },
    {
     "cell_type": "markdown",
     "metadata": {
      "slideshow": {
       "slide_type": "subslide"
      }
     },
     "source": [
      "IDL Equivalent:\n",
      "\n",
      "    x = findgen(50)/49. * 2 * !pi\n",
      "    y = sin(x)\n",
      "    curvepl = plot(x,y,color='b')\n"
     ]
    },
    {
     "cell_type": "code",
     "collapsed": false,
     "input": [
      "# We'll make it noisy again\n",
      "noise = pl.randn(y.size)\n",
      "noisy_flux = y + noise\n",
      "pl.plot(x,noisy_flux,'k.') # no clear this time"
     ],
     "language": "python",
     "metadata": {
      "slideshow": {
       "slide_start": false,
       "slide_type": "slide"
      }
     },
     "outputs": [
      {
       "output_type": "pyout",
       "prompt_number": 18,
       "text": [
        "[<matplotlib.lines.Line2D at 0x1063c1610>]"
       ]
      },
      {
       "output_type": "display_data",
       "png": "[encoded data removed]",
       "text": [
        "<matplotlib.figure.Figure at 0x105be4910>"
       ]
      }
     ],
     "prompt_number": 18
    },
    {
     "cell_type": "markdown",
     "metadata": {
      "slideshow": {
       "slide_type": "subslide"
      }
     },
     "source": [
      "IDL Equivalent:\n",
      "    \n",
      "    noise = randomn(seed,n_elements(x))\n",
      "    noisy_flux = y + noise\n",
      "    fitpl = plot(x,noisy_flux,color='k', symbol='o', sym_size=0.3, overplot=curvepl, linestyle='', sym_filled=1)\n"
     ]
    },
    {
     "cell_type": "markdown",
     "metadata": {
      "slideshow": {
       "slide_start": false,
       "slide_type": "slide"
      }
     },
     "source": [
      "That looks like kind of a mess.  Let's see how well we can fit it.\n",
      "The function we're trying to fit has the form:\n",
      "$$f(x) = A * sin(x - B)$$\n",
      "where $A$ is a \"scale\" parameter and $B$ is the side-to-side offset (or the \"delay\" if the x-axis is time).  For our data, they are $A=1$ and $B=0$ respectively, because we made $y=sin(x)$"
     ]
    },
    {
     "cell_type": "code",
     "collapsed": false,
     "input": [
      "# curve_fit is the function we need for this, but it's in another package called scipy\n",
      "from scipy.optimize import curve_fit\n",
      "# we need to know what it does:\n",
      "help(curve_fit)"
     ],
     "language": "python",
     "metadata": {
      "slideshow": {
       "slide_start": false
      }
     },
     "outputs": [
      {
       "output_type": "stream",
       "stream": "stdout",
       "text": [
        "Help on function curve_fit in module scipy.optimize.minpack:\n",
        "\n",
        "curve_fit(f, xdata, ydata, p0=None, sigma=None, **kw)\n",
        "    Use non-linear least squares to fit a function, f, to data.\n",
        "    \n",
        "    Assumes ``ydata = f(xdata, *params) + eps``\n",
        "    \n",
        "    Parameters\n",
        "    ----------\n",
        "    f : callable\n",
        "        The model function, f(x, ...).  It must take the independent\n",
        "        variable as the first argument and the parameters to fit as\n",
        "        separate remaining arguments.\n",
        "    xdata : An N-length sequence or an (k,N)-shaped array\n",
        "        for functions with k predictors.\n",
        "        The independent variable where the data is measured.\n",
        "    ydata : N-length sequence\n",
        "        The dependent data --- nominally f(xdata, ...)\n",
        "    p0 : None, scalar, or M-length sequence\n",
        "        Initial guess for the parameters.  If None, then the initial\n",
        "        values will all be 1 (if the number of parameters for the function\n",
        "        can be determined using introspection, otherwise a ValueError\n",
        "        is raised).\n",
        "    sigma : None or N-length sequence\n",
        "        If not None, it represents the standard-deviation of ydata.\n",
        "        This vector, if given, will be used as weights in the\n",
        "        least-squares problem.\n",
        "    \n",
        "    Returns\n",
        "    -------\n",
        "    popt : array\n",
        "        Optimal values for the parameters so that the sum of the squared error\n",
        "        of ``f(xdata, *popt) - ydata`` is minimized\n",
        "    pcov : 2d array\n",
        "        The estimated covariance of popt.  The diagonals provide the variance\n",
        "        of the parameter estimate.\n",
        "    \n",
        "    See Also\n",
        "    --------\n",
        "    leastsq\n",
        "    \n",
        "    Notes\n",
        "    -----\n",
        "    The algorithm uses the Levenburg-Marquardt algorithm through `leastsq`.\n",
        "    Additional keyword arguments are passed directly to that algorithm.\n",
        "    \n",
        "    Examples\n",
        "    --------\n",
        "    >>> import numpy as np\n",
        "    >>> from scipy.optimize import curve_fit\n",
        "    >>> def func(x, a, b, c):\n",
        "    ...     return a*np.exp(-b*x) + c\n",
        "    \n",
        "    >>> x = np.linspace(0,4,50)\n",
        "    >>> y = func(x, 2.5, 1.3, 0.5)\n",
        "    >>> yn = y + 0.2*np.random.normal(size=len(x))\n",
        "    \n",
        "    >>> popt, pcov = curve_fit(func, x, yn)\n",
        "\n"
       ]
      },
      {
       "output_type": "stream",
       "stream": "stderr",
       "text": [
        "/Users/adam/virtual-python/lib/python2.7/site-packages/scikits/__init__.py:1: UserWarning: Module argparse was already imported from /Library/Frameworks/Python.framework/Versions/2.7/lib/python2.7/argparse.pyc, but /Users/adam/virtual-python/lib/python2.7/site-packages is being added to sys.path\n",
        "  __import__('pkg_resources').declare_namespace(__name__)\n"
       ]
      }
     ],
     "prompt_number": 19
    },
    {
     "cell_type": "markdown",
     "metadata": {
      "slideshow": {
       "slide_start": false,
       "slide_type": "subslide"
      }
     },
     "source": [
      "Look at the returns:\n",
      "\n",
      "\n",
      "    Returns\n",
      "    -------\n",
      "    popt : array\n",
      "        Optimal values for the parameters so that the sum of the squared error\n",
      "        of ``f(xdata, *popt) - ydata`` is minimized\n",
      "    pcov : 2d array\n",
      "        The estimated covariance of popt.  The diagonals provide the variance\n",
      "        of the parameter estimate.\n",
      "    \n",
      "\n",
      "So the first set of returns is the \"best-fit parameters\", while the second set is the \"covariance matrix\""
     ]
    },
    {
     "cell_type": "markdown",
     "metadata": {
      "slideshow": {
       "slide_type": "subslide"
      }
     },
     "source": [
      "Unfortunately, IDL doesn't have an equivalent to `curve_fit` built in.  You'll need to use the `mpfit` code package, which is an external library.  That will be provided for you in the github repository."
     ]
    },
    {
     "cell_type": "code",
     "collapsed": false,
     "input": [
      "def sinfunc(x,a,b):\n",
      "    return a*np.sin(x-b)\n",
      "fitpars, covmat = curve_fit(sinfunc,x,noisy_flux)\n",
      "# The diagonals of the covariance matrix are variances\n",
      "# variance = standard deviation squared, so we'll take the square roots to get the standard devations!\n",
      "# You can get the diagonals of a 2D array easily:\n",
      "variances = covmat.diagonal()\n",
      "std_devs = np.sqrt(variances)\n",
      "print fitpars,std_devs"
     ],
     "language": "python",
     "metadata": {
      "slideshow": {
       "slide_start": false,
       "slide_type": "slide"
      }
     },
     "outputs": [
      {
       "output_type": "stream",
       "stream": "stdout",
       "text": [
        "[ 1.43909829  0.20129478] [ 0.17763027  0.12118131]\n"
       ]
      }
     ],
     "prompt_number": 20
    },
    {
     "cell_type": "markdown",
     "metadata": {
      "slideshow": {
       "slide_type": "subslide"
      }
     },
     "source": [
      "IDL Equivalent:\n",
      "        \n",
      "    ; needs to be in a different file\n",
      "    function shifted_sin,x,pars\n",
      "        return,pars[0]*sin(x-pars[1])\n",
      "    end\n",
      "\n",
      "We need to define a \"starting point\" for the parameters `a` and `b`, and we need to identify the error on each data point (1-$\\sigma$).  Then we can use `mpfitfun`:\n",
      "\n",
      "    errorbars = replicate(1.,n_elements(x))\n",
      "    guesses = [0.,0.]\n",
      "    params = mpfitfun(\"shifted_sin\",x,noisy_flux,errorbars,guesses)\n"
     ]
    },
    {
     "cell_type": "markdown",
     "metadata": {
      "slideshow": {
       "slide_type": "subslide"
      }
     },
     "source": [
      "Just to show how it works:\n",
      "    \n",
      "    IDL> params = mpfitfun(\"shifted_sin\",x,noisy_flux,errorbars,guesses)\n",
      "    Iter      1   CHI-SQUARE =       85.294258          DOF = 48\n",
      "        P(0) =              0.00000\n",
      "        P(1) =              0.00000\n",
      "    Iter      2   CHI-SQUARE =       51.359203          DOF = 48\n",
      "        P(0) =              1.17695\n",
      "        P(1) =              0.00000\n",
      "    Iter      3   CHI-SQUARE =       48.539089          DOF = 48\n",
      "        P(0) =              1.17689\n",
      "        P(1) =             0.285293\n",
      "    Iter      4   CHI-SQUARE =       48.483067          DOF = 48\n",
      "        P(0) =              1.22393\n",
      "        P(1) =             0.277742\n",
      "    Iter      5   CHI-SQUARE =       48.483063          DOF = 48\n",
      "        P(0) =              1.22386\n",
      "        P(1) =             0.278199\n",
      "    Iter      6   CHI-SQUARE =       48.483055          DOF = 48\n",
      "        P(0) =              1.22386\n",
      "        P(1) =             0.278157\n",
      "    Iter      6   CHI-SQUARE =       48.483055          DOF = 48\n",
      "        P(0) =              1.22386\n",
      "        P(1) =             0.278157"
     ]
    },
    {
     "cell_type": "code",
     "collapsed": false,
     "input": [
      "# Let's plot our best fit, see how well we did\n",
      "# These two lines are equivalent:\n",
      "pl.plot(x, sinfunc(x, fitpars[0], fitpars[1]), 'r-')\n",
      "pl.plot(x, sinfunc(x, *fitpars), 'r-')"
     ],
     "language": "python",
     "metadata": {
      "slideshow": {
       "slide_start": false,
       "slide_type": "slide"
      }
     },
     "outputs": [
      {
       "output_type": "pyout",
       "prompt_number": 21,
       "text": [
        "[<matplotlib.lines.Line2D at 0x1079f4ad0>]"
       ]
      },
      {
       "output_type": "display_data",
       "png": "[encoded data removed]",
       "text": [
        "<matplotlib.figure.Figure at 0x1079f4b50>"
       ]
      }
     ],
     "prompt_number": 21
    },
    {
     "cell_type": "markdown",
     "metadata": {
      "slideshow": {
       "slide_start": false
      }
     },
     "source": [
      "Again, this is pretty good despite the noisiness."
     ]
    },
    {
     "cell_type": "markdown",
     "metadata": {
      "slideshow": {
       "slide_start": false
      }
     },
     "source": [
      "Fitting a Power Law\n",
      "===================\n",
      "\n",
      "Power laws occur all the time in physis, so it's a good idea to learn how to use them.\n",
      "\n",
      "What's a power law?  Any function of the form:\n",
      "$$f(t) = a t^b$$\n",
      "where $x$ is your independent variable, $a$ is a scale parameter, and $b$ is the exponent (the power).\n",
      "\n",
      "When fitting power laws, it's very useful to take advantage of the fact that \"a power law is linear in log-space\".\n",
      "That means, if you take the log of both sides of the equation (which is allowed) and change variables, you get a \n",
      "linear equation!\n",
      "$$\\ln(f(t)) = \\ln(a t^b) = \\ln(a) + b \\ln(t)$$\n",
      "We'll use the substitutions $y=\\ln(f(t))$, $A=\\ln(a)$, and $x=\\ln(t)$, so that\n",
      "$$y=a+bx$$\n",
      "which looks just like our linear equation from before (albeit with different letters for the fit parameters).\n",
      "\n",
      "We'll now go through the same fitting exercise as before, but using powerlaws instead of lines."
     ]
    },
    {
     "cell_type": "code",
     "collapsed": false,
     "input": [
      "t = np.linspace(0.1,10)  \n",
      "a = 1.5\n",
      "b = 2.5\n",
      "z = a*t**b "
     ],
     "language": "python",
     "metadata": {
      "slideshow": {
       "slide_start": false
      }
     },
     "outputs": [],
     "prompt_number": 22
    },
    {
     "cell_type": "code",
     "collapsed": false,
     "input": [
      "pl.clf()\n",
      "pl.plot(t,z)"
     ],
     "language": "python",
     "metadata": {
      "slideshow": {
       "slide_start": false
      }
     },
     "outputs": [
      {
       "output_type": "pyout",
       "prompt_number": 23,
       "text": [
        "[<matplotlib.lines.Line2D at 0x107e76e90>]"
       ]
      },
      {
       "output_type": "display_data",
       "png": "[encoded data removed]",
       "text": [
        "<matplotlib.figure.Figure at 0x101135f50>"
       ]
      }
     ],
     "prompt_number": 23
    },
    {
     "cell_type": "code",
     "collapsed": false,
     "input": [
      "# Change the variables\n",
      "# np.log is the natural log\n",
      "y = np.log(z)\n",
      "x = np.log(t)\n",
      "pl.clf()\n",
      "pl.plot(x,y)\n",
      "pl.ylabel(\"log(z)\")\n",
      "pl.xlabel(\"log(t)\")"
     ],
     "language": "python",
     "metadata": {
      "slideshow": {
       "slide_start": false
      }
     },
     "outputs": [
      {
       "output_type": "pyout",
       "prompt_number": 24,
       "text": [
        "<matplotlib.text.Text at 0x107e809d0>"
       ]
      },
      {
       "output_type": "display_data",
       "png": "[encoded data removed]",
       "text": [
        "<matplotlib.figure.Figure at 0x107d39950>"
       ]
      }
     ],
     "prompt_number": 24
    },
    {
     "cell_type": "markdown",
     "metadata": {
      "slideshow": {
       "slide_start": false
      }
     },
     "source": [
      "It's a straight line.  Now, for our \"fake data\", we'll add the noise *before* transforming from \"linear\" to \"log\" space"
     ]
    },
    {
     "cell_type": "code",
     "collapsed": false,
     "input": [
      "noisy_z = z + pl.randn(z.size)*10\n",
      "pl.clf()\n",
      "pl.plot(t,z)\n",
      "pl.plot(t,noisy_z,'k.')"
     ],
     "language": "python",
     "metadata": {
      "slideshow": {
       "slide_start": false
      }
     },
     "outputs": [
      {
       "output_type": "pyout",
       "prompt_number": 25,
       "text": [
        "[<matplotlib.lines.Line2D at 0x107e8e450>]"
       ]
      },
      {
       "output_type": "display_data",
       "png": "[encoded data removed]",
       "text": [
        "<matplotlib.figure.Figure at 0x107e96250>"
       ]
      }
     ],
     "prompt_number": 25
    },
    {
     "cell_type": "code",
     "collapsed": false,
     "input": [
      "noisy_y = np.log(noisy_z)\n",
      "pl.clf()\n",
      "pl.plot(x,y)\n",
      "pl.plot(x,noisy_y,'k.')\n",
      "pl.ylabel(\"log(z)\")\n",
      "pl.xlabel(\"log(t)\")"
     ],
     "language": "python",
     "metadata": {
      "slideshow": {
       "slide_start": false
      }
     },
     "outputs": [
      {
       "output_type": "stream",
       "stream": "stderr",
       "text": [
        "-c:1: RuntimeWarning: invalid value encountered in log\n"
       ]
      },
      {
       "output_type": "pyout",
       "prompt_number": 26,
       "text": [
        "<matplotlib.text.Text at 0x107d3b150>"
       ]
      },
      {
       "output_type": "display_data",
       "png": "[encoded data removed]",
       "text": [
        "<matplotlib.figure.Figure at 0x107d3ebd0>"
       ]
      }
     ],
     "prompt_number": 26
    },
    {
     "cell_type": "markdown",
     "metadata": {
      "slideshow": {
       "slide_start": false
      }
     },
     "source": [
      "Note how different this looks from the \"noisy line\" we plotted earlier.  Power laws are much more sensitive to noise!  In fact, there are some data points that don't even show up on this plot because you can't take the log of a negative number.  Any points where the random noise was negative enough that the curve dropped below zero ended up being \"NAN\", or \"Not a Number\".  Luckily, our plotter knows to ignore those numbers, but `polyfit` doesnt."
     ]
    },
    {
     "cell_type": "code",
     "collapsed": false,
     "input": [
      "print noisy_y"
     ],
     "language": "python",
     "metadata": {
      "slideshow": {
       "slide_start": false
      }
     },
     "outputs": [
      {
       "output_type": "stream",
       "stream": "stdout",
       "text": [
        "[ 0.21399273  2.58129456         nan  2.22996065         nan  2.45840651\n",
        " -0.3482174   1.370456    3.16013909  1.7287699   2.84947043  2.43727238\n",
        "  2.5461094   1.68477021  2.96164653  3.7943582   3.37543129  3.15643662\n",
        "  3.47949596  4.04283029  3.27992533  4.28953726  4.08027775  4.22176631\n",
        "  4.45752149  4.66306792  4.43359125  4.70960111  4.83789587  4.88206464\n",
        "  4.91272169  5.00478413  5.0901368   5.09552339  5.32404942  5.31705268\n",
        "  5.4388978   5.4565533   5.49426319  5.61220988  5.70587486  5.73036585\n",
        "  5.76196863  5.80226428  5.86463024  5.96764977  6.00142127  6.07070655\n",
        "  6.10703925  6.18376908]\n"
       ]
      }
     ],
     "prompt_number": 27
    },
    {
     "cell_type": "code",
     "collapsed": false,
     "input": [
      "# try to polyfit a line\n",
      "pars = np.polyfit(x,noisy_y,1)\n",
      "print pars"
     ],
     "language": "python",
     "metadata": {
      "slideshow": {
       "slide_start": false
      }
     },
     "outputs": [
      {
       "output_type": "stream",
       "stream": "stdout",
       "text": [
        "[ nan  nan]\n"
       ]
      }
     ],
     "prompt_number": 28
    },
    {
     "cell_type": "markdown",
     "metadata": {
      "slideshow": {
       "slide_start": false
      }
     },
     "source": [
      "In order to get around this problem, we need to *mask the data*.  That means we have to tell the code to ignore all the data points where `noisy_y` is `nan`.\n",
      "\n",
      "My favorite way to do this is to take advantage of a curious fact:  $1=1$, but `nan`!=`nan`"
     ]
    },
    {
     "cell_type": "code",
     "collapsed": false,
     "input": [
      "print 1 == 1\n",
      "print np.nan == np.nan"
     ],
     "language": "python",
     "metadata": {
      "slideshow": {
       "slide_start": false
      }
     },
     "outputs": [
      {
       "output_type": "stream",
       "stream": "stdout",
       "text": [
        "True\n",
        "False\n"
       ]
      }
     ],
     "prompt_number": 29
    },
    {
     "cell_type": "markdown",
     "metadata": {
      "slideshow": {
       "slide_start": false
      }
     },
     "source": [
      "So if we find all the places were `noisy_y` != `noisy_y`, we can get rid of them.  Or we can just use the places where `noisy_y` equals itself."
     ]
    },
    {
     "cell_type": "code",
     "collapsed": false,
     "input": [
      "OK = noisy_y == noisy_y\n",
      "print OK"
     ],
     "language": "python",
     "metadata": {
      "slideshow": {
       "slide_start": false
      }
     },
     "outputs": [
      {
       "output_type": "stream",
       "stream": "stdout",
       "text": [
        "[ True  True False  True False  True  True  True  True  True  True  True\n",
        "  True  True  True  True  True  True  True  True  True  True  True  True\n",
        "  True  True  True  True  True  True  True  True  True  True  True  True\n",
        "  True  True  True  True  True  True  True  True  True  True  True  True\n",
        "  True  True]\n"
       ]
      }
     ],
     "prompt_number": 30
    },
    {
     "cell_type": "markdown",
     "metadata": {
      "slideshow": {
       "slide_start": false
      }
     },
     "source": [
      "This `OK` array is a \"boolean mask\".  We can use it as an \"index array\", which is pretty neat.  "
     ]
    },
    {
     "cell_type": "code",
     "collapsed": false,
     "input": [
      "print \"There are %i OK values\" % (OK.sum())\n",
      "masked_noisy_y = noisy_y[OK]\n",
      "masked_x = x[OK]\n",
      "print \"masked_noisy_y has length\",len(masked_noisy_y)"
     ],
     "language": "python",
     "metadata": {
      "slideshow": {
       "slide_start": false
      }
     },
     "outputs": [
      {
       "output_type": "stream",
       "stream": "stdout",
       "text": [
        "There are 48 OK values\n",
        "masked_noisy_y has length 48\n"
       ]
      }
     ],
     "prompt_number": 31
    },
    {
     "cell_type": "code",
     "collapsed": false,
     "input": [
      "# now polyfit again\n",
      "pars = np.polyfit(masked_x,masked_noisy_y,1)\n",
      "print pars"
     ],
     "language": "python",
     "metadata": {
      "slideshow": {
       "slide_start": false
      }
     },
     "outputs": [
      {
       "output_type": "stream",
       "stream": "stdout",
       "text": [
        "[ 1.50678869  2.06177876]\n"
       ]
      }
     ],
     "prompt_number": 32
    },
    {
     "cell_type": "code",
     "collapsed": false,
     "input": [
      "# cool, it worked.  But the fit looks a little weird!\n",
      "fitted_y = polyval(pars,x)\n",
      "pl.plot(x, fitted_y, 'r--')"
     ],
     "language": "python",
     "metadata": {
      "slideshow": {
       "slide_start": false
      }
     },
     "outputs": [
      {
       "output_type": "pyout",
       "prompt_number": 33,
       "text": [
        "[<matplotlib.lines.Line2D at 0x1082bb650>]"
       ]
      },
      {
       "output_type": "display_data",
       "png": "[encoded data removed]",
       "text": [
        "<matplotlib.figure.Figure at 0x107eaef50>"
       ]
      }
     ],
     "prompt_number": 33
    },
    {
     "cell_type": "markdown",
     "metadata": {
      "slideshow": {
       "slide_start": false
      }
     },
     "source": [
      "The noise seems to have affected our fit. "
     ]
    },
    {
     "cell_type": "code",
     "collapsed": false,
     "input": [
      "# Convert bag to linear-space to see what it \"really\" looks like\n",
      "fitted_z = np.exp(fitted_y)\n",
      "pl.clf()\n",
      "pl.plot(t,z)\n",
      "pl.plot(t,noisy_z,'k.')\n",
      "pl.plot(t,fitted_z,'r--')\n",
      "pl.xlabel('t')\n",
      "pl.ylabel('z')"
     ],
     "language": "python",
     "metadata": {
      "slideshow": {
       "slide_start": false
      }
     },
     "outputs": [
      {
       "output_type": "pyout",
       "prompt_number": 34,
       "text": [
        "<matplotlib.text.Text at 0x108529190>"
       ]
      },
      {
       "output_type": "display_data",
       "png": "[encoded data removed]",
       "text": [
        "<matplotlib.figure.Figure at 0x108299390>"
       ]
      }
     ],
     "prompt_number": 34
    },
    {
     "cell_type": "markdown",
     "metadata": {
      "slideshow": {
       "slide_start": false
      }
     },
     "source": [
      "That's pretty bad.  A \"least-squares\" approach, as with `curve_fit`, is probably going to be the better choice.  However, in the absence of noise (i.e., on your homework), this approach *should* work"
     ]
    },
    {
     "cell_type": "code",
     "collapsed": false,
     "input": [
      "def powerlaw(x,a,b):\n",
      "    return a*(x**b)\n",
      "pars,covar =  curve_fit(powerlaw,t,noisy_z)\n",
      "pl.clf()\n",
      "pl.plot(t,z)\n",
      "pl.plot(t,noisy_z,'k.')\n",
      "pl.plot(t,powerlaw(t,*pars),'r--')\n",
      "pl.xlabel('t')\n",
      "pl.ylabel('z')"
     ],
     "language": "python",
     "metadata": {
      "slideshow": {
       "slide_start": false
      }
     },
     "outputs": [
      {
       "output_type": "pyout",
       "prompt_number": 35,
       "text": [
        "<matplotlib.text.Text at 0x10855f350>"
       ]
      },
      {
       "output_type": "display_data",
       "png": "[encoded data removed]",
       "text": [
        "<matplotlib.figure.Figure at 0x1085358d0>"
       ]
      }
     ],
     "prompt_number": 35
    },
    {
     "cell_type": "markdown",
     "metadata": {
      "slideshow": {
       "slide_start": false
      }
     },
     "source": [
      "Tricks with Arrays\n",
      "==================\n",
      "\n",
      "We need to cover a few syntactic things comparing IDL and python.\n",
      "\n",
      "In IDL, if you wanted the maximum value in an array, you would do:  \n",
      "`maxval = max(array, location_of_max)`\n",
      "\n",
      "\n",
      "In python, it's more straightforward:  \n",
      "`location_of_max = array.argmax()`  \n",
      "or   \n",
      "`location_of_max = np.argmax(array)`  \n",
      "\n",
      "Now, say we want to determine the location of the maximum of a number of different functions.  The functions we'll use are:  \n",
      "`sin(x)`  \n",
      "`sin`$^2$`(x)`  \n",
      "`sin`$^3$`(x)`  \n",
      "`sin(x)cos(x)`  \n",
      "\n",
      "We'll define these functions, then loop over them. "
     ]
    },
    {
     "cell_type": "code",
     "collapsed": false,
     "input": [
      "# sin(x) is already defined\n",
      "def sin2x(x):\n",
      "    \"\"\" sin^2 of x \"\"\"\n",
      "    return np.sin(x)**2\n",
      "def sin3x(x):\n",
      "    \"\"\" sin^3 of x \"\"\"\n",
      "    return np.sin(x)**3\n",
      "def sincos(x):\n",
      "    \"\"\" sin(x)*cos(x) \"\"\"\n",
      "    return np.sin(x)*np.cos(x)\n",
      "list_of_functions = [np.sin, sin2x, sin3x, sincos]"
     ],
     "language": "python",
     "metadata": {
      "slideshow": {
       "slide_start": false
      }
     },
     "outputs": [],
     "prompt_number": 36
    },
    {
     "cell_type": "code",
     "collapsed": false,
     "input": [
      "# we want 0-2pi for these functions\n",
      "t = np.linspace(0,2*np.pi)\n",
      "# this is the cool part: we can make a variable function\n",
      "for fun in list_of_functions:\n",
      "    # the functions know their own names (in a \"secret hidden variable\" called __name__)\n",
      "    print \"The maximum of \",fun.__name__,\" is \", fun(t).max()"
     ],
     "language": "python",
     "metadata": {
      "slideshow": {
       "slide_start": false
      }
     },
     "outputs": [
      {
       "output_type": "stream",
       "stream": "stdout",
       "text": [
        "The maximum of  sin  is  0.999486216201\n",
        "The maximum of  sin2x  is  0.998972696375\n",
        "The maximum of  sin3x  is  0.998459440388\n",
        "The maximum of  sincos  is  0.4997431081\n"
       ]
      }
     ],
     "prompt_number": 37
    },
    {
     "cell_type": "code",
     "collapsed": false,
     "input": [
      "# OK, but we wanted the location of the maximum....\n",
      "for fun in list_of_functions:\n",
      "    print \"The location of the maximum of \",fun.__name__,\" is \", fun(t).argmax()"
     ],
     "language": "python",
     "metadata": {
      "slideshow": {
       "slide_start": false
      }
     },
     "outputs": [
      {
       "output_type": "stream",
       "stream": "stdout",
       "text": [
        "The location of the maximum of  sin  is  12\n",
        "The location of the maximum of  sin2x  is  12\n",
        "The location of the maximum of  sin3x  is  12\n",
        "The location of the maximum of  sincos  is  6\n"
       ]
      }
     ],
     "prompt_number": 38
    },
    {
     "cell_type": "code",
     "collapsed": false,
     "input": [
      "# well, that's not QUITE what we want, but it's close\n",
      "# We want to know the value of t, not the index!\n",
      "for fun in list_of_functions:\n",
      "    print \"The location of the maximum of \",fun.__name__,\" is \", t[fun(t).argmax()]"
     ],
     "language": "python",
     "metadata": {
      "slideshow": {
       "slide_start": false
      }
     },
     "outputs": [
      {
       "output_type": "stream",
       "stream": "stdout",
       "text": [
        "The location of the maximum of  sin  is  1.5387392589\n",
        "The location of the maximum of  sin2x  is  1.5387392589\n",
        "The location of the maximum of  sin3x  is  1.5387392589\n",
        "The location of the maximum of  sincos  is  0.769369629451\n"
       ]
      }
     ],
     "prompt_number": 39
    },
    {
     "cell_type": "code",
     "collapsed": false,
     "input": [
      "# Finally, what if we want to store all that in an array?\n",
      "# Well, here's a cool trick: you can sort of invert the for loop\n",
      "# This is called a \"list comprehension\":\n",
      "maxlocs = [ t[fun(t).argmax()] for fun in list_of_functions ]\n",
      "print maxlocs"
     ],
     "language": "python",
     "metadata": {
      "slideshow": {
       "slide_start": false
      }
     },
     "outputs": [
      {
       "output_type": "stream",
       "stream": "stdout",
       "text": [
        "[1.5387392589011231, 1.5387392589011231, 1.5387392589011231, 0.76936962945056153]\n"
       ]
      }
     ],
     "prompt_number": 40
    },
    {
     "cell_type": "code",
     "collapsed": false,
     "input": [
      "# Confused?  OK.  Try this one:\n",
      "print range(6)\n",
      "print [ii**2 for ii in range(6)]"
     ],
     "language": "python",
     "metadata": {
      "slideshow": {
       "slide_start": false
      }
     },
     "outputs": [
      {
       "output_type": "stream",
       "stream": "stdout",
       "text": [
        "[0, 1, 2, 3, 4, 5]\n",
        "[0, 1, 4, 9, 16, 25]\n"
       ]
      }
     ],
     "prompt_number": 41
    },
    {
     "cell_type": "markdown",
     "metadata": {
      "slideshow": {
       "slide_start": false
      }
     },
     "source": [
      "Recursion\n",
      "=========\n",
      "\n",
      "The next big programming topic is called *recursion*.\n",
      "\n",
      "*Recursion*\n",
      "-----------\n",
      "The next little programming topic is called recursion.\n",
      "\n",
      "<img src=\"http://i.qkme.me/35tnta.jpg\">\n",
      "\n",
      "For better or worse, you must visit <a href=\"http://en.wikipedia.org/wiki/Recursion#Recursive_humor\">the wiki page on recursion</a>\n",
      "\n",
      "Recursion is when a function calls itself.  But, a recursive function *must* have an \"end condition\" to avoid an infinite loop.\n",
      "If you try to make an infinite loop, you will get a \"stack overflow\" (python will give you an error)."
     ]
    },
    {
     "cell_type": "code",
     "collapsed": false,
     "input": [
      "def fail(x):\n",
      "    \"\"\" an infinite recursion. Will fail \"\"\"\n",
      "    return fail(x)\n",
      "# WARNING: this will definitely fail, but it may take a long time! \n",
      "# print fail(1)"
     ],
     "language": "python",
     "metadata": {
      "slideshow": {
       "slide_start": false
      }
     },
     "outputs": [],
     "prompt_number": 42
    },
    {
     "cell_type": "markdown",
     "metadata": {
      "slideshow": {
       "slide_start": false
      }
     },
     "source": [
      "Recursion is a useful mathematical tool.  There are some problems that are best solved via recursion.  The most commonly used example is the fibonacci sequence:  \n",
      "0 1 1 2 3 5 8 13 21 ....  \n",
      "this sequence is defined by the recursive relation  \n",
      "$$F_n = F_{n-1} + F_{n-2}$$  \n",
      "or $$f(n) = f(n-1) + f(n-2)$$\n",
      "\n",
      "It has the base conditions:\n",
      "$$f(0) = 0$$\n",
      "$$f(1) = 1$$\n",
      "\n",
      "This one is pretty easy to define in code.  But I'll leave it as an exercise.\n",
      "\n",
      "The following code shows a hierarchy of what will happen if you call `fibonacci(5)`.  Don't worry about trying to understand the 'digraph' code, it's just a graph visualization tool."
     ]
    },
    {
     "cell_type": "code",
     "collapsed": false,
     "input": [
      "%install_ext https://raw.github.com/tkf/ipython-hierarchymagic/master/hierarchymagic.py"
     ],
     "language": "python",
     "metadata": {
      "slideshow": {
       "slide_start": false
      }
     },
     "outputs": [
      {
       "output_type": "stream",
       "stream": "stdout",
       "text": [
        "Installed hierarchymagic.py. To use it, type:\n",
        "  %load_ext hierarchymagic\n"
       ]
      }
     ],
     "prompt_number": 43
    },
    {
     "cell_type": "code",
     "collapsed": false,
     "input": [
      "%load_ext hierarchymagic"
     ],
     "language": "python",
     "metadata": {
      "slideshow": {
       "slide_start": false
      }
     },
     "outputs": [],
     "prompt_number": 44
    },
    {
     "cell_type": "code",
     "collapsed": false,
     "input": [
      "%%dot --format svg -- \n",
      "digraph G { \n",
      "    f5 [label=\"f(5)\"];\n",
      "    Lf1 [label=\"f(1)\"];\n",
      "LLf0 [label=\"f(0)\"];\n",
      "Lf2 [label=\"f(2)\"];\n",
      "Lf3 [label=\"f(3)\"];\n",
      "RRf1  [label=\"f(1)\"];\n",
      "RRMf1 [label=\"f(1)\"];\n",
      "RRf0 [label=\"f(0)\"];\n",
      "LLf1 [label=\"f(1)\"];\n",
      "RMf0 [label=\"f(0)\"];\n",
      "RMf1 [label=\"f(1)\"];\n",
      "Rf2 [label=\"f(2)\"];\n",
      "RMf2 [label=\"f(2)\"];\n",
      "Rf3 [label=\"f(3)\"];\n",
      "Rf4 [label=\"f(4)\"];\n",
      "    f5->Lf3; f5->Rf4;  \n",
      "    Lf3->Lf2; Lf3->Lf1;\n",
      "    Rf4->Rf3; Rf4->Rf2;\n",
      "    Rf2->RRf1; Rf2->RRf0;\n",
      "    Lf2->LLf1; Lf2->LLf0;\n",
      "    Rf3->RMf2; Rf3->RMf1;\n",
      "    RMf2->RMf0; RMf2->RRMf1;\n",
      "}"
     ],
     "language": "python",
     "metadata": {
      "slideshow": {
       "slide_start": false
      }
     },
     "outputs": [
      {
       "output_type": "display_data",
       "svg": [
        "<?xml version=\"1.0\" encoding=\"UTF-8\" standalone=\"no\"?>\n",
        "<!DOCTYPE svg PUBLIC \"-//W3C//DTD SVG 1.1//EN\"\n",
        " \"http://www.w3.org/Graphics/SVG/1.1/DTD/svg11.dtd\">\n",
        "<!-- Generated by graphviz version 2.28.0 (20121121.2234)\n",
        " -->\n",
        "<!-- Title: G Pages: 1 -->\n",
        "<svg width=\"458pt\" height=\"332pt\"\n",
        " viewBox=\"0.00 0.00 458.00 332.00\" xmlns=\"http://www.w3.org/2000/svg\" xmlns:xlink=\"http://www.w3.org/1999/xlink\">\n",
        "<g id=\"graph1\" class=\"graph\" transform=\"scale(1 1) rotate(0) translate(4 328)\">\n",
        "<title>G</title>\n",
        "<polygon fill=\"white\" stroke=\"white\" points=\"-4,5 -4,-328 455,-328 455,5 -4,5\"/>\n",
        "<!-- f5 -->\n",
        "<g id=\"node1\" class=\"node\"><title>f5</title>\n",
        "<ellipse fill=\"none\" stroke=\"black\" cx=\"153\" cy=\"-306\" rx=\"27\" ry=\"18\"/>\n",
        "<text text-anchor=\"middle\" x=\"153\" y=\"-300.4\" font-family=\"Times,serif\" font-size=\"14.00\">f(5)</text>\n",
        "</g>\n",
        "<!-- Lf3 -->\n",
        "<g id=\"node5\" class=\"node\"><title>Lf3</title>\n",
        "<ellipse fill=\"none\" stroke=\"black\" cx=\"99\" cy=\"-234\" rx=\"27\" ry=\"18\"/>\n",
        "<text text-anchor=\"middle\" x=\"99\" y=\"-228.4\" font-family=\"Times,serif\" font-size=\"14.00\">f(3)</text>\n",
        "</g>\n",
        "<!-- f5&#45;&gt;Lf3 -->\n",
        "<g id=\"edge2\" class=\"edge\"><title>f5&#45;&gt;Lf3</title>\n",
        "<path fill=\"none\" stroke=\"black\" d=\"M141.016,-289.465C134.024,-280.402 125.064,-268.786 117.215,-258.612\"/>\n",
        "<polygon fill=\"black\" stroke=\"black\" points=\"119.83,-256.272 110.951,-250.492 114.288,-260.548 119.83,-256.272\"/>\n",
        "</g>\n",
        "<!-- Rf4 -->\n",
        "<g id=\"node15\" class=\"node\"><title>Rf4</title>\n",
        "<ellipse fill=\"none\" stroke=\"black\" cx=\"207\" cy=\"-234\" rx=\"27\" ry=\"18\"/>\n",
        "<text text-anchor=\"middle\" x=\"207\" y=\"-228.4\" font-family=\"Times,serif\" font-size=\"14.00\">f(4)</text>\n",
        "</g>\n",
        "<!-- f5&#45;&gt;Rf4 -->\n",
        "<g id=\"edge4\" class=\"edge\"><title>f5&#45;&gt;Rf4</title>\n",
        "<path fill=\"none\" stroke=\"black\" d=\"M164.984,-289.465C171.976,-280.402 180.936,-268.786 188.785,-258.612\"/>\n",
        "<polygon fill=\"black\" stroke=\"black\" points=\"191.712,-260.548 195.049,-250.492 186.17,-256.272 191.712,-260.548\"/>\n",
        "</g>\n",
        "<!-- Lf1 -->\n",
        "<g id=\"node2\" class=\"node\"><title>Lf1</title>\n",
        "<ellipse fill=\"none\" stroke=\"black\" cx=\"27\" cy=\"-162\" rx=\"27\" ry=\"18\"/>\n",
        "<text text-anchor=\"middle\" x=\"27\" y=\"-156.4\" font-family=\"Times,serif\" font-size=\"14.00\">f(1)</text>\n",
        "</g>\n",
        "<!-- LLf0 -->\n",
        "<g id=\"node3\" class=\"node\"><title>LLf0</title>\n",
        "<ellipse fill=\"none\" stroke=\"black\" cx=\"27\" cy=\"-90\" rx=\"27\" ry=\"18\"/>\n",
        "<text text-anchor=\"middle\" x=\"27\" y=\"-84.4\" font-family=\"Times,serif\" font-size=\"14.00\">f(0)</text>\n",
        "</g>\n",
        "<!-- Lf2 -->\n",
        "<g id=\"node4\" class=\"node\"><title>Lf2</title>\n",
        "<ellipse fill=\"none\" stroke=\"black\" cx=\"99\" cy=\"-162\" rx=\"27\" ry=\"18\"/>\n",
        "<text text-anchor=\"middle\" x=\"99\" y=\"-156.4\" font-family=\"Times,serif\" font-size=\"14.00\">f(2)</text>\n",
        "</g>\n",
        "<!-- Lf2&#45;&gt;LLf0 -->\n",
        "<g id=\"edge20\" class=\"edge\"><title>Lf2&#45;&gt;LLf0</title>\n",
        "<path fill=\"none\" stroke=\"black\" d=\"M84.4297,-146.834C74.2501,-136.938 60.4761,-123.546 48.9694,-112.359\"/>\n",
        "<polygon fill=\"black\" stroke=\"black\" points=\"51.4055,-109.846 41.7957,-105.385 46.5259,-114.865 51.4055,-109.846\"/>\n",
        "</g>\n",
        "<!-- LLf1 -->\n",
        "<g id=\"node9\" class=\"node\"><title>LLf1</title>\n",
        "<ellipse fill=\"none\" stroke=\"black\" cx=\"99\" cy=\"-90\" rx=\"27\" ry=\"18\"/>\n",
        "<text text-anchor=\"middle\" x=\"99\" y=\"-84.4\" font-family=\"Times,serif\" font-size=\"14.00\">f(1)</text>\n",
        "</g>\n",
        "<!-- Lf2&#45;&gt;LLf1 -->\n",
        "<g id=\"edge18\" class=\"edge\"><title>Lf2&#45;&gt;LLf1</title>\n",
        "<path fill=\"none\" stroke=\"black\" d=\"M99,-143.697C99,-135.983 99,-126.712 99,-118.112\"/>\n",
        "<polygon fill=\"black\" stroke=\"black\" points=\"102.5,-118.104 99,-108.104 95.5001,-118.104 102.5,-118.104\"/>\n",
        "</g>\n",
        "<!-- Lf3&#45;&gt;Lf1 -->\n",
        "<g id=\"edge8\" class=\"edge\"><title>Lf3&#45;&gt;Lf1</title>\n",
        "<path fill=\"none\" stroke=\"black\" d=\"M84.4297,-218.834C74.2501,-208.938 60.4761,-195.546 48.9694,-184.359\"/>\n",
        "<polygon fill=\"black\" stroke=\"black\" points=\"51.4055,-181.846 41.7957,-177.385 46.5259,-186.865 51.4055,-181.846\"/>\n",
        "</g>\n",
        "<!-- Lf3&#45;&gt;Lf2 -->\n",
        "<g id=\"edge6\" class=\"edge\"><title>Lf3&#45;&gt;Lf2</title>\n",
        "<path fill=\"none\" stroke=\"black\" d=\"M99,-215.697C99,-207.983 99,-198.712 99,-190.112\"/>\n",
        "<polygon fill=\"black\" stroke=\"black\" points=\"102.5,-190.104 99,-180.104 95.5001,-190.104 102.5,-190.104\"/>\n",
        "</g>\n",
        "<!-- RRf1 -->\n",
        "<g id=\"node6\" class=\"node\"><title>RRf1</title>\n",
        "<ellipse fill=\"none\" stroke=\"black\" cx=\"171\" cy=\"-90\" rx=\"27\" ry=\"18\"/>\n",
        "<text text-anchor=\"middle\" x=\"171\" y=\"-84.4\" font-family=\"Times,serif\" font-size=\"14.00\">f(1)</text>\n",
        "</g>\n",
        "<!-- RRMf1 -->\n",
        "<g id=\"node7\" class=\"node\"><title>RRMf1</title>\n",
        "<ellipse fill=\"none\" stroke=\"black\" cx=\"351\" cy=\"-18\" rx=\"27\" ry=\"18\"/>\n",
        "<text text-anchor=\"middle\" x=\"351\" y=\"-12.4\" font-family=\"Times,serif\" font-size=\"14.00\">f(1)</text>\n",
        "</g>\n",
        "<!-- RRf0 -->\n",
        "<g id=\"node8\" class=\"node\"><title>RRf0</title>\n",
        "<ellipse fill=\"none\" stroke=\"black\" cx=\"243\" cy=\"-90\" rx=\"27\" ry=\"18\"/>\n",
        "<text text-anchor=\"middle\" x=\"243\" y=\"-84.4\" font-family=\"Times,serif\" font-size=\"14.00\">f(0)</text>\n",
        "</g>\n",
        "<!-- RMf0 -->\n",
        "<g id=\"node10\" class=\"node\"><title>RMf0</title>\n",
        "<ellipse fill=\"none\" stroke=\"black\" cx=\"423\" cy=\"-18\" rx=\"27\" ry=\"18\"/>\n",
        "<text text-anchor=\"middle\" x=\"423\" y=\"-12.4\" font-family=\"Times,serif\" font-size=\"14.00\">f(0)</text>\n",
        "</g>\n",
        "<!-- RMf1 -->\n",
        "<g id=\"node11\" class=\"node\"><title>RMf1</title>\n",
        "<ellipse fill=\"none\" stroke=\"black\" cx=\"315\" cy=\"-90\" rx=\"27\" ry=\"18\"/>\n",
        "<text text-anchor=\"middle\" x=\"315\" y=\"-84.4\" font-family=\"Times,serif\" font-size=\"14.00\">f(1)</text>\n",
        "</g>\n",
        "<!-- Rf2 -->\n",
        "<g id=\"node12\" class=\"node\"><title>Rf2</title>\n",
        "<ellipse fill=\"none\" stroke=\"black\" cx=\"207\" cy=\"-162\" rx=\"27\" ry=\"18\"/>\n",
        "<text text-anchor=\"middle\" x=\"207\" y=\"-156.4\" font-family=\"Times,serif\" font-size=\"14.00\">f(2)</text>\n",
        "</g>\n",
        "<!-- Rf2&#45;&gt;RRf1 -->\n",
        "<g id=\"edge14\" class=\"edge\"><title>Rf2&#45;&gt;RRf1</title>\n",
        "<path fill=\"none\" stroke=\"black\" d=\"M198.65,-144.765C194.288,-136.283 188.853,-125.714 183.959,-116.197\"/>\n",
        "<polygon fill=\"black\" stroke=\"black\" points=\"186.99,-114.439 179.304,-107.147 180.765,-117.641 186.99,-114.439\"/>\n",
        "</g>\n",
        "<!-- Rf2&#45;&gt;RRf0 -->\n",
        "<g id=\"edge16\" class=\"edge\"><title>Rf2&#45;&gt;RRf0</title>\n",
        "<path fill=\"none\" stroke=\"black\" d=\"M215.35,-144.765C219.712,-136.283 225.147,-125.714 230.041,-116.197\"/>\n",
        "<polygon fill=\"black\" stroke=\"black\" points=\"233.235,-117.641 234.696,-107.147 227.01,-114.439 233.235,-117.641\"/>\n",
        "</g>\n",
        "<!-- RMf2 -->\n",
        "<g id=\"node13\" class=\"node\"><title>RMf2</title>\n",
        "<ellipse fill=\"none\" stroke=\"black\" cx=\"387\" cy=\"-90\" rx=\"27\" ry=\"18\"/>\n",
        "<text text-anchor=\"middle\" x=\"387\" y=\"-84.4\" font-family=\"Times,serif\" font-size=\"14.00\">f(2)</text>\n",
        "</g>\n",
        "<!-- RMf2&#45;&gt;RRMf1 -->\n",
        "<g id=\"edge28\" class=\"edge\"><title>RMf2&#45;&gt;RRMf1</title>\n",
        "<path fill=\"none\" stroke=\"black\" d=\"M378.65,-72.7646C374.288,-64.2831 368.853,-53.7144 363.959,-44.1974\"/>\n",
        "<polygon fill=\"black\" stroke=\"black\" points=\"366.99,-42.4395 359.304,-35.1473 360.765,-45.6409 366.99,-42.4395\"/>\n",
        "</g>\n",
        "<!-- RMf2&#45;&gt;RMf0 -->\n",
        "<g id=\"edge26\" class=\"edge\"><title>RMf2&#45;&gt;RMf0</title>\n",
        "<path fill=\"none\" stroke=\"black\" d=\"M395.35,-72.7646C399.712,-64.2831 405.147,-53.7144 410.041,-44.1974\"/>\n",
        "<polygon fill=\"black\" stroke=\"black\" points=\"413.235,-45.6409 414.696,-35.1473 407.01,-42.4395 413.235,-45.6409\"/>\n",
        "</g>\n",
        "<!-- Rf3 -->\n",
        "<g id=\"node14\" class=\"node\"><title>Rf3</title>\n",
        "<ellipse fill=\"none\" stroke=\"black\" cx=\"315\" cy=\"-162\" rx=\"27\" ry=\"18\"/>\n",
        "<text text-anchor=\"middle\" x=\"315\" y=\"-156.4\" font-family=\"Times,serif\" font-size=\"14.00\">f(3)</text>\n",
        "</g>\n",
        "<!-- Rf3&#45;&gt;RMf1 -->\n",
        "<g id=\"edge24\" class=\"edge\"><title>Rf3&#45;&gt;RMf1</title>\n",
        "<path fill=\"none\" stroke=\"black\" d=\"M315,-143.697C315,-135.983 315,-126.712 315,-118.112\"/>\n",
        "<polygon fill=\"black\" stroke=\"black\" points=\"318.5,-118.104 315,-108.104 311.5,-118.104 318.5,-118.104\"/>\n",
        "</g>\n",
        "<!-- Rf3&#45;&gt;RMf2 -->\n",
        "<g id=\"edge22\" class=\"edge\"><title>Rf3&#45;&gt;RMf2</title>\n",
        "<path fill=\"none\" stroke=\"black\" d=\"M329.57,-146.834C339.75,-136.938 353.524,-123.546 365.031,-112.359\"/>\n",
        "<polygon fill=\"black\" stroke=\"black\" points=\"367.474,-114.865 372.204,-105.385 362.595,-109.846 367.474,-114.865\"/>\n",
        "</g>\n",
        "<!-- Rf4&#45;&gt;Rf2 -->\n",
        "<g id=\"edge12\" class=\"edge\"><title>Rf4&#45;&gt;Rf2</title>\n",
        "<path fill=\"none\" stroke=\"black\" d=\"M207,-215.697C207,-207.983 207,-198.712 207,-190.112\"/>\n",
        "<polygon fill=\"black\" stroke=\"black\" points=\"210.5,-190.104 207,-180.104 203.5,-190.104 210.5,-190.104\"/>\n",
        "</g>\n",
        "<!-- Rf4&#45;&gt;Rf3 -->\n",
        "<g id=\"edge10\" class=\"edge\"><title>Rf4&#45;&gt;Rf3</title>\n",
        "<path fill=\"none\" stroke=\"black\" d=\"M225.812,-220.807C243.002,-209.665 268.618,-193.062 287.993,-180.504\"/>\n",
        "<polygon fill=\"black\" stroke=\"black\" points=\"289.916,-183.429 296.403,-175.053 286.108,-177.555 289.916,-183.429\"/>\n",
        "</g>\n",
        "</g>\n",
        "</svg>\n"
       ]
      }
     ],
     "prompt_number": 45
    },
    {
     "cell_type": "code",
     "collapsed": false,
     "input": [
      "%%dot --format svg -- \n",
      "digraph G { \n",
      "    f5->f3; f5->f4;  \n",
      "    f3->f2; f3->f1;\n",
      "    f4->f3; f4->f2;\n",
      "    f2->f1; f2->f0;\n",
      "    f2->f1; f2->f0;\n",
      "    f3->f2; f3->f1;\n",
      "    f2->f0; f2->f1;\n",
      "}"
     ],
     "language": "python",
     "metadata": {
      "slideshow": {
       "slide_start": false
      }
     },
     "outputs": [
      {
       "output_type": "display_data",
       "svg": [
        "<?xml version=\"1.0\" encoding=\"UTF-8\" standalone=\"no\"?>\n",
        "<!DOCTYPE svg PUBLIC \"-//W3C//DTD SVG 1.1//EN\"\n",
        " \"http://www.w3.org/Graphics/SVG/1.1/DTD/svg11.dtd\">\n",
        "<!-- Generated by graphviz version 2.28.0 (20121121.2234)\n",
        " -->\n",
        "<!-- Title: G Pages: 1 -->\n",
        "<svg width=\"134pt\" height=\"332pt\"\n",
        " viewBox=\"0.00 0.00 134.00 332.00\" xmlns=\"http://www.w3.org/2000/svg\" xmlns:xlink=\"http://www.w3.org/1999/xlink\">\n",
        "<g id=\"graph1\" class=\"graph\" transform=\"scale(1 1) rotate(0) translate(4 328)\">\n",
        "<title>G</title>\n",
        "<polygon fill=\"white\" stroke=\"white\" points=\"-4,5 -4,-328 131,-328 131,5 -4,5\"/>\n",
        "<!-- f5 -->\n",
        "<g id=\"node1\" class=\"node\"><title>f5</title>\n",
        "<ellipse fill=\"none\" stroke=\"black\" cx=\"63\" cy=\"-306\" rx=\"27\" ry=\"18\"/>\n",
        "<text text-anchor=\"middle\" x=\"63\" y=\"-300.4\" font-family=\"Times,serif\" font-size=\"14.00\">f5</text>\n",
        "</g>\n",
        "<!-- f3 -->\n",
        "<g id=\"node3\" class=\"node\"><title>f3</title>\n",
        "<ellipse fill=\"none\" stroke=\"black\" cx=\"36\" cy=\"-162\" rx=\"27\" ry=\"18\"/>\n",
        "<text text-anchor=\"middle\" x=\"36\" y=\"-156.4\" font-family=\"Times,serif\" font-size=\"14.00\">f3</text>\n",
        "</g>\n",
        "<!-- f5&#45;&gt;f3 -->\n",
        "<g id=\"edge2\" class=\"edge\"><title>f5&#45;&gt;f3</title>\n",
        "<path fill=\"none\" stroke=\"black\" d=\"M59.7432,-287.871C55.1415,-263.67 46.688,-219.211 41.2086,-190.393\"/>\n",
        "<polygon fill=\"black\" stroke=\"black\" points=\"44.5748,-189.359 39.2684,-180.189 37.698,-190.667 44.5748,-189.359\"/>\n",
        "</g>\n",
        "<!-- f4 -->\n",
        "<g id=\"node5\" class=\"node\"><title>f4</title>\n",
        "<ellipse fill=\"none\" stroke=\"black\" cx=\"91\" cy=\"-234\" rx=\"27\" ry=\"18\"/>\n",
        "<text text-anchor=\"middle\" x=\"91\" y=\"-228.4\" font-family=\"Times,serif\" font-size=\"14.00\">f4</text>\n",
        "</g>\n",
        "<!-- f5&#45;&gt;f4 -->\n",
        "<g id=\"edge4\" class=\"edge\"><title>f5&#45;&gt;f4</title>\n",
        "<path fill=\"none\" stroke=\"black\" d=\"M69.6356,-288.411C72.9134,-280.216 76.9442,-270.14 80.6181,-260.955\"/>\n",
        "<polygon fill=\"black\" stroke=\"black\" points=\"83.9477,-262.055 84.412,-251.47 77.4484,-259.455 83.9477,-262.055\"/>\n",
        "</g>\n",
        "<!-- f2 -->\n",
        "<g id=\"node7\" class=\"node\"><title>f2</title>\n",
        "<ellipse fill=\"none\" stroke=\"black\" cx=\"91\" cy=\"-90\" rx=\"27\" ry=\"18\"/>\n",
        "<text text-anchor=\"middle\" x=\"91\" y=\"-84.4\" font-family=\"Times,serif\" font-size=\"14.00\">f2</text>\n",
        "</g>\n",
        "<!-- f3&#45;&gt;f2 -->\n",
        "<g id=\"edge22\" class=\"edge\"><title>f3&#45;&gt;f2</title>\n",
        "<path fill=\"none\" stroke=\"black\" d=\"M43.1943,-144.411C49.6695,-134.841 59.061,-122.703 67.896,-112.417\"/>\n",
        "<polygon fill=\"black\" stroke=\"black\" points=\"70.7712,-114.451 74.7959,-104.65 65.5379,-109.802 70.7712,-114.451\"/>\n",
        "</g>\n",
        "<!-- f3&#45;&gt;f2 -->\n",
        "<g id=\"edge6\" class=\"edge\"><title>f3&#45;&gt;f2</title>\n",
        "<path fill=\"none\" stroke=\"black\" d=\"M52.0626,-147.503C60.4124,-138.475 70.2952,-126.33 78.1396,-115.613\"/>\n",
        "<polygon fill=\"black\" stroke=\"black\" points=\"81.0207,-117.601 83.9254,-107.412 75.3008,-113.566 81.0207,-117.601\"/>\n",
        "</g>\n",
        "<!-- f1 -->\n",
        "<g id=\"node9\" class=\"node\"><title>f1</title>\n",
        "<ellipse fill=\"none\" stroke=\"black\" cx=\"27\" cy=\"-18\" rx=\"27\" ry=\"18\"/>\n",
        "<text text-anchor=\"middle\" x=\"27\" y=\"-12.4\" font-family=\"Times,serif\" font-size=\"14.00\">f1</text>\n",
        "</g>\n",
        "<!-- f3&#45;&gt;f1 -->\n",
        "<g id=\"edge24\" class=\"edge\"><title>f3&#45;&gt;f1</title>\n",
        "<path fill=\"none\" stroke=\"black\" d=\"M30.3777,-144.153C26.2676,-120.05 23.1365,-75.4474 23.2766,-46.5141\"/>\n",
        "<polygon fill=\"black\" stroke=\"black\" points=\"26.781,-46.3402 23.4953,-36.2678 19.7826,-46.1908 26.781,-46.3402\"/>\n",
        "</g>\n",
        "<!-- f3&#45;&gt;f1 -->\n",
        "<g id=\"edge8\" class=\"edge\"><title>f3&#45;&gt;f1</title>\n",
        "<path fill=\"none\" stroke=\"black\" d=\"M39.4989,-143.871C40.5289,-119.539 37.9696,-74.7296 34.1334,-45.9272\"/>\n",
        "<polygon fill=\"black\" stroke=\"black\" points=\"37.5512,-45.1179 32.6054,-35.7483 30.6288,-46.1571 37.5512,-45.1179\"/>\n",
        "</g>\n",
        "<!-- f4&#45;&gt;f3 -->\n",
        "<g id=\"edge10\" class=\"edge\"><title>f4&#45;&gt;f3</title>\n",
        "<path fill=\"none\" stroke=\"black\" d=\"M79.0658,-217.811C71.7864,-208.546 62.3374,-196.52 54.1456,-186.094\"/>\n",
        "<polygon fill=\"black\" stroke=\"black\" points=\"56.8413,-183.86 47.9109,-178.159 51.337,-188.185 56.8413,-183.86\"/>\n",
        "</g>\n",
        "<!-- f4&#45;&gt;f2 -->\n",
        "<g id=\"edge12\" class=\"edge\"><title>f4&#45;&gt;f2</title>\n",
        "<path fill=\"none\" stroke=\"black\" d=\"M91,-215.871C91,-191.67 91,-147.211 91,-118.393\"/>\n",
        "<polygon fill=\"black\" stroke=\"black\" points=\"94.5001,-118.189 91,-108.189 87.5001,-118.189 94.5001,-118.189\"/>\n",
        "</g>\n",
        "<!-- f2&#45;&gt;f1 -->\n",
        "<g id=\"edge28\" class=\"edge\"><title>f2&#45;&gt;f1</title>\n",
        "<path fill=\"none\" stroke=\"black\" d=\"M70.4876,-77.7533C59.1517,-68.6724 46.233,-55.5523 36.8698,-44.0129\"/>\n",
        "<polygon fill=\"black\" stroke=\"black\" points=\"39.5929,-41.8116 30.7538,-35.9702 34.0209,-46.0487 39.5929,-41.8116\"/>\n",
        "</g>\n",
        "<!-- f2&#45;&gt;f1 -->\n",
        "<g id=\"edge14\" class=\"edge\"><title>f2&#45;&gt;f1</title>\n",
        "<path fill=\"none\" stroke=\"black\" d=\"M77.4272,-74.1548C68.6875,-64.5957 57.1659,-51.994 47.3422,-41.2493\"/>\n",
        "<polygon fill=\"black\" stroke=\"black\" points=\"49.884,-38.8424 40.5532,-33.8238 44.7178,-43.5658 49.884,-38.8424\"/>\n",
        "</g>\n",
        "<!-- f2&#45;&gt;f1 -->\n",
        "<g id=\"edge18\" class=\"edge\"><title>f2&#45;&gt;f1</title>\n",
        "<path fill=\"none\" stroke=\"black\" d=\"M87.2639,-72.055C79.7605,-61.3672 67.2159,-47.5864 55.1488,-36.7485\"/>\n",
        "<polygon fill=\"black\" stroke=\"black\" points=\"57.2313,-33.9249 47.3458,-30.1135 52.6968,-39.2577 57.2313,-33.9249\"/>\n",
        "</g>\n",
        "<!-- f0 -->\n",
        "<g id=\"node14\" class=\"node\"><title>f0</title>\n",
        "<ellipse fill=\"none\" stroke=\"black\" cx=\"99\" cy=\"-18\" rx=\"27\" ry=\"18\"/>\n",
        "<text text-anchor=\"middle\" x=\"99\" y=\"-12.4\" font-family=\"Times,serif\" font-size=\"14.00\">f0</text>\n",
        "</g>\n",
        "<!-- f2&#45;&gt;f0 -->\n",
        "<g id=\"edge26\" class=\"edge\"><title>f2&#45;&gt;f0</title>\n",
        "<path fill=\"none\" stroke=\"black\" d=\"M81.2937,-73.1159C80.2762,-64.374 81.0626,-53.3369 83.252,-43.5139\"/>\n",
        "<polygon fill=\"black\" stroke=\"black\" points=\"86.627,-44.4416 86.0246,-33.8639 79.8992,-42.5086 86.627,-44.4416\"/>\n",
        "</g>\n",
        "<!-- f2&#45;&gt;f0 -->\n",
        "<g id=\"edge16\" class=\"edge\"><title>f2&#45;&gt;f0</title>\n",
        "<path fill=\"none\" stroke=\"black\" d=\"M92.9775,-71.6966C93.8591,-63.9827 94.9186,-54.7125 95.9014,-46.1124\"/>\n",
        "<polygon fill=\"black\" stroke=\"black\" points=\"99.387,-46.4371 97.0452,-36.1043 92.4323,-45.6422 99.387,-46.4371\"/>\n",
        "</g>\n",
        "<!-- f2&#45;&gt;f0 -->\n",
        "<g id=\"edge20\" class=\"edge\"><title>f2&#45;&gt;f0</title>\n",
        "<path fill=\"none\" stroke=\"black\" d=\"M103.969,-74.1548C107.02,-65.7847 108.861,-55.0816 109.116,-45.3352\"/>\n",
        "<polygon fill=\"black\" stroke=\"black\" points=\"112.612,-45.1573 108.752,-35.2905 105.616,-45.4105 112.612,-45.1573\"/>\n",
        "</g>\n",
        "</g>\n",
        "</svg>\n"
       ]
      }
     ],
     "prompt_number": 46
    },
    {
     "cell_type": "code",
     "collapsed": false,
     "input": [
      "# EXERCISE: Write a recursive Fibonacci function!\n",
      "def fibonacci(n):\n",
      "    return\n",
      "    # put your code here!"
     ],
     "language": "python",
     "metadata": {
      "slideshow": {
       "slide_start": false
      }
     },
     "outputs": [],
     "prompt_number": 47
    },
    {
     "cell_type": "code",
     "collapsed": false,
     "input": [
      "# EXERCISE: Write a recursive factorial function\n",
      "# Recall: factorial(x) = factorial(x-1) * x\n",
      "# factorial(1) = 1\n",
      "def factorial(x):\n",
      "    return"
     ],
     "language": "python",
     "metadata": {
      "slideshow": {
       "slide_start": false
      }
     },
     "outputs": [],
     "prompt_number": 48
    },
    {
     "cell_type": "code",
     "collapsed": false,
     "input": [
      "# This is the test for the fibonacci code.  \n",
      "# Run this after you've written your fibonnacci sequence code\n",
      "# it will fail if your code is wrong!\n",
      "for ii,ff in zip(range(9),[0,1,1,2,3,5,8,13,21]):\n",
      "    assert fibonacci(ii) == ff, \"Failed to get fibonacci #%i: %i\" % (ii,ff)\n",
      "print \"Success!\""
     ],
     "language": "python",
     "metadata": {
      "slideshow": {
       "slide_start": false
      }
     },
     "outputs": [
      {
       "ename": "AssertionError",
       "evalue": "Failed to get fibonacci #0: 0",
       "output_type": "pyerr",
       "traceback": [
        "\u001b[0;31m---------------------------------------------------------------------------\u001b[0m\n\u001b[0;31mAssertionError\u001b[0m                            Traceback (most recent call last)",
        "\u001b[0;32m<ipython-input-49-3bc6df638a25>\u001b[0m in \u001b[0;36m<module>\u001b[0;34m()\u001b[0m\n\u001b[1;32m      3\u001b[0m \u001b[0;31m# it will fail if your code is wrong!\u001b[0m\u001b[0;34m\u001b[0m\u001b[0;34m\u001b[0m\u001b[0m\n\u001b[1;32m      4\u001b[0m \u001b[0;32mfor\u001b[0m \u001b[0mii\u001b[0m\u001b[0;34m,\u001b[0m\u001b[0mff\u001b[0m \u001b[0;32min\u001b[0m \u001b[0mzip\u001b[0m\u001b[0;34m(\u001b[0m\u001b[0mrange\u001b[0m\u001b[0;34m(\u001b[0m\u001b[0;36m9\u001b[0m\u001b[0;34m)\u001b[0m\u001b[0;34m,\u001b[0m\u001b[0;34m[\u001b[0m\u001b[0;36m0\u001b[0m\u001b[0;34m,\u001b[0m\u001b[0;36m1\u001b[0m\u001b[0;34m,\u001b[0m\u001b[0;36m1\u001b[0m\u001b[0;34m,\u001b[0m\u001b[0;36m2\u001b[0m\u001b[0;34m,\u001b[0m\u001b[0;36m3\u001b[0m\u001b[0;34m,\u001b[0m\u001b[0;36m5\u001b[0m\u001b[0;34m,\u001b[0m\u001b[0;36m8\u001b[0m\u001b[0;34m,\u001b[0m\u001b[0;36m13\u001b[0m\u001b[0;34m,\u001b[0m\u001b[0;36m21\u001b[0m\u001b[0;34m]\u001b[0m\u001b[0;34m)\u001b[0m\u001b[0;34m:\u001b[0m\u001b[0;34m\u001b[0m\u001b[0m\n\u001b[0;32m----> 5\u001b[0;31m     \u001b[0;32massert\u001b[0m \u001b[0mfibonacci\u001b[0m\u001b[0;34m(\u001b[0m\u001b[0mii\u001b[0m\u001b[0;34m)\u001b[0m \u001b[0;34m==\u001b[0m \u001b[0mff\u001b[0m\u001b[0;34m,\u001b[0m \u001b[0;34m\"Failed to get fibonacci #%i: %i\"\u001b[0m \u001b[0;34m%\u001b[0m \u001b[0;34m(\u001b[0m\u001b[0mii\u001b[0m\u001b[0;34m,\u001b[0m\u001b[0mff\u001b[0m\u001b[0;34m)\u001b[0m\u001b[0;34m\u001b[0m\u001b[0m\n\u001b[0m\u001b[1;32m      6\u001b[0m \u001b[0;32mprint\u001b[0m \u001b[0;34m\"Success!\"\u001b[0m\u001b[0;34m\u001b[0m\u001b[0m\n",
        "\u001b[0;31mAssertionError\u001b[0m: Failed to get fibonacci #0: 0"
       ]
      }
     ],
     "prompt_number": 49
    },
    {
     "cell_type": "code",
     "collapsed": false,
     "input": [
      "# This is the test for the factorial code.  \n",
      "# Run this after you've written your factorial code\n",
      "# it will fail if your code is wrong!\n",
      "for ii,ff in zip(range(1,9),[1,2,6,24,120,720,5040,40320]):\n",
      "    assert factorial(ii) == ff, \"Failed to get factorial #%i: %i\" % (ii,ff)\n",
      "print \"Success!\""
     ],
     "language": "python",
     "metadata": {
      "slideshow": {
       "slide_start": false
      }
     },
     "outputs": []
    },
    {
     "cell_type": "code",
     "collapsed": false,
     "input": [],
     "language": "python",
     "metadata": {
      "slideshow": {
       "slide_start": false
      }
     },
     "outputs": []
    }
   ],
   "metadata": {}
  }
 ]
}