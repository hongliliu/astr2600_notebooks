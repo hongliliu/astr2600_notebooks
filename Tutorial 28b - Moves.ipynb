{
 "metadata": {
  "name": "Tutorial 28b - Moves"
 },
 "nbformat": 3,
 "nbformat_minor": 0,
 "worksheets": [
  {
   "cells": [
    {
     "cell_type": "markdown",
     "metadata": {},
     "source": [
      "Some tips & tricks for building your Connect 4 code...\n",
      "\n",
      "What's involved in making a move?  \n",
      "\n",
      " * check the game board to make sure that move is valid  \n",
      "  * check to make sure the colum isn't full!  \n",
      "  * if it's full, raise an exception (say \"ERROR!)  \n",
      " * if the move is OK, \"drop\" the piece in\n",
      "  * find the first unoccupied row\n",
      "  * change that row to be the right color\n"
     ]
    },
    {
     "cell_type": "code",
     "collapsed": false,
     "input": [
      "# this is how you can \"include\" your existing Connect 4 code\n",
      "import sys\n",
      "sys.path.append('../../Connect4/')\n",
      "import plot_board\n",
      "# this stuff is... just generic setup.  It should be in a \"config\" file, but we'll just live with it...\n",
      "# development \"tools\"\n",
      "%load_ext autoreload\n",
      "%autoreload 2\n",
      "# change some plotting defaults\n",
      "rcParams['image.origin'] = 'lower'\n",
      "rcParams['image.interpolation'] = 'nearest'\n",
      "# import modules we need\n",
      "import numpy as np\n",
      "import pylab as pl"
     ],
     "language": "python",
     "metadata": {},
     "outputs": [
      {
       "output_type": "stream",
       "stream": "stdout",
       "text": [
        "The autoreload extension is already loaded. To reload it, use:\n",
        "  %reload_ext autoreload\n"
       ]
      }
     ],
     "prompt_number": 9
    },
    {
     "cell_type": "code",
     "collapsed": false,
     "input": [
      "# make a gameboard\n",
      "gameboard = np.zeros([6,7])\n",
      "gameboard[0,::2] = -1\n",
      "gameboard[0,1::2] = 1\n",
      "gameboard[1,:] = 1\n",
      "gameboard[2,:3] = 1\n",
      "gameboard[1,2:6] = -1\n",
      "plot_board.plot_board(gameboard)"
     ],
     "language": "python",
     "metadata": {},
     "outputs": [
      {
       "output_type": "display_data",
       "png": "[encoded data removed]",
       "text": [
        "<matplotlib.figure.Figure at 0x1057331d0>"
       ]
      }
     ],
     "prompt_number": 11
    },
    {
     "cell_type": "code",
     "collapsed": false,
     "input": [
      "# How do we check if a \"column\" is full?  Let's look at the first column:\n",
      "print gameboard[:,0]"
     ],
     "language": "python",
     "metadata": {},
     "outputs": [
      {
       "output_type": "stream",
       "stream": "stdout",
       "text": [
        "[-1.  1.  1.  0.  0.  0.]\n"
       ]
      }
     ],
     "prompt_number": 12
    },
    {
     "cell_type": "code",
     "collapsed": false,
     "input": [
      "# Does it have any empty cells?  Empty cells are zero.\n",
      "print gameboard[:,0] == 0"
     ],
     "language": "python",
     "metadata": {},
     "outputs": [
      {
       "output_type": "stream",
       "stream": "stdout",
       "text": [
        "[False False False  True  True  True]\n"
       ]
      }
     ],
     "prompt_number": 13
    },
    {
     "cell_type": "code",
     "collapsed": false,
     "input": [
      "# there's a handy trick to ask \"are any of the cells empty?\"\n",
      "print \"Are there any empty cells?\" , np.any(gameboard[:,0] == 0)"
     ],
     "language": "python",
     "metadata": {},
     "outputs": [
      {
       "output_type": "stream",
       "stream": "stdout",
       "text": [
        "Are there any empty cells? True\n"
       ]
      }
     ],
     "prompt_number": 15
    },
    {
     "cell_type": "code",
     "collapsed": false,
     "input": [
      "# how do we say \"If there are no empty cells, fail?\"\n",
      "if not np.any(gameboard[:,0]):\n",
      "    raise ValueError(\"This is not a valid move\")"
     ],
     "language": "python",
     "metadata": {},
     "outputs": [],
     "prompt_number": 16
    },
    {
     "cell_type": "code",
     "collapsed": false,
     "input": [
      "# now, do the same thing, but fill all of the cells in the column\n",
      "\n",
      "###  WRITE CODE HERE TO SET ALL CELLS IN THE FIRST COLUMN TO BE RED OR BLUE ###\n",
      "\n",
      "if not np.any(gameboard[:,0]):\n",
      "    raise ValueError(\"This is not a valid move\")"
     ],
     "language": "python",
     "metadata": {},
     "outputs": []
    },
    {
     "cell_type": "markdown",
     "metadata": {},
     "source": [
      "How can you find the next winning move?\n",
      "\n",
      "Well, if there's a winning move for YOUR color, you should take it no matter what.\n",
      "\n",
      "If there's a winning move for your opponent, you should only take that move if there is no winning move for you.\n",
      "\n",
      "The easiest way to search for a winning move is to make a copy of the gameboard, and \"try\" to play at each position, then run our \"test if there's a winner\" code to see if it caused a win.\n",
      "\n",
      "\n",
      "\n",
      "For the assignment, I think it would be the most fun if everyone wrote their own computer player.  Writing a computer player is hard, though.  Here are some ideas for how a computer could \"think\":\n",
      "\n",
      " - play at the closest-to-center position, always \n",
      " - play in the column with the fewest pieces \n",
      " - play in the column with the most pieces of its color\n",
      " - always play next to one of its own pieces if possible\n",
      "\n",
      "The tough part is, what do you do if your computer can't come up with anywhere to move?  The computer player *must* play!  So maybe a good default is, \"play in the first open spot available\" if none of the other strategies work."
     ]
    },
    {
     "cell_type": "code",
     "collapsed": false,
     "input": [],
     "language": "python",
     "metadata": {},
     "outputs": []
    }
   ],
   "metadata": {}
  }
 ]
}